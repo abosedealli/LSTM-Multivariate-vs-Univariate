{
  "nbformat": 4,
  "nbformat_minor": 0,
  "metadata": {
    "colab": {
      "provenance": [],
      "mount_file_id": "1s0Zk_Ls34tkctpR228Gi1sQWywBnYsMS",
      "authorship_tag": "ABX9TyNfx84lxxrJHRzXq8mgeavi",
      "include_colab_link": true
    },
    "kernelspec": {
      "name": "python3",
      "display_name": "Python 3"
    },
    "language_info": {
      "name": "python"
    }
  },
  "cells": [
    {
      "cell_type": "markdown",
      "metadata": {
        "id": "view-in-github",
        "colab_type": "text"
      },
      "source": [
        "<a href=\"https://colab.research.google.com/github/abosedealli/LSTM-Multivariate-vs-Univariate/blob/main/stock_dataset_preprocessing.ipynb\" target=\"_parent\"><img src=\"https://colab.research.google.com/assets/colab-badge.svg\" alt=\"Open In Colab\"/></a>"
      ]
    },
    {
      "cell_type": "code",
      "execution_count": null,
      "metadata": {
        "id": "jRj_eZvRBlx7",
        "colab": {
          "base_uri": "https://localhost:8080/"
        },
        "outputId": "054402a7-0841-422f-f2b7-a51902ef8f81"
      },
      "outputs": [
        {
          "output_type": "stream",
          "name": "stdout",
          "text": [
            "Looking in indexes: https://pypi.org/simple, https://us-python.pkg.dev/colab-wheels/public/simple/\n",
            "Requirement already satisfied: tensorflow in /usr/local/lib/python3.8/dist-packages (2.9.2)\n",
            "Requirement already satisfied: tensorboard<2.10,>=2.9 in /usr/local/lib/python3.8/dist-packages (from tensorflow) (2.9.1)\n",
            "Requirement already satisfied: typing-extensions>=3.6.6 in /usr/local/lib/python3.8/dist-packages (from tensorflow) (4.4.0)\n",
            "Requirement already satisfied: libclang>=13.0.0 in /usr/local/lib/python3.8/dist-packages (from tensorflow) (14.0.6)\n",
            "Requirement already satisfied: grpcio<2.0,>=1.24.3 in /usr/local/lib/python3.8/dist-packages (from tensorflow) (1.51.1)\n",
            "Requirement already satisfied: packaging in /usr/local/lib/python3.8/dist-packages (from tensorflow) (21.3)\n",
            "Requirement already satisfied: h5py>=2.9.0 in /usr/local/lib/python3.8/dist-packages (from tensorflow) (3.1.0)\n",
            "Requirement already satisfied: tensorflow-estimator<2.10.0,>=2.9.0rc0 in /usr/local/lib/python3.8/dist-packages (from tensorflow) (2.9.0)\n",
            "Requirement already satisfied: gast<=0.4.0,>=0.2.1 in /usr/local/lib/python3.8/dist-packages (from tensorflow) (0.4.0)\n",
            "Requirement already satisfied: protobuf<3.20,>=3.9.2 in /usr/local/lib/python3.8/dist-packages (from tensorflow) (3.19.6)\n",
            "Requirement already satisfied: flatbuffers<2,>=1.12 in /usr/local/lib/python3.8/dist-packages (from tensorflow) (1.12)\n",
            "Requirement already satisfied: setuptools in /usr/local/lib/python3.8/dist-packages (from tensorflow) (57.4.0)\n",
            "Requirement already satisfied: six>=1.12.0 in /usr/local/lib/python3.8/dist-packages (from tensorflow) (1.15.0)\n",
            "Requirement already satisfied: absl-py>=1.0.0 in /usr/local/lib/python3.8/dist-packages (from tensorflow) (1.3.0)\n",
            "Requirement already satisfied: numpy>=1.20 in /usr/local/lib/python3.8/dist-packages (from tensorflow) (1.21.6)\n",
            "Requirement already satisfied: keras<2.10.0,>=2.9.0rc0 in /usr/local/lib/python3.8/dist-packages (from tensorflow) (2.9.0)\n",
            "Requirement already satisfied: tensorflow-io-gcs-filesystem>=0.23.1 in /usr/local/lib/python3.8/dist-packages (from tensorflow) (0.29.0)\n",
            "Requirement already satisfied: wrapt>=1.11.0 in /usr/local/lib/python3.8/dist-packages (from tensorflow) (1.14.1)\n",
            "Requirement already satisfied: astunparse>=1.6.0 in /usr/local/lib/python3.8/dist-packages (from tensorflow) (1.6.3)\n",
            "Requirement already satisfied: keras-preprocessing>=1.1.1 in /usr/local/lib/python3.8/dist-packages (from tensorflow) (1.1.2)\n",
            "Requirement already satisfied: google-pasta>=0.1.1 in /usr/local/lib/python3.8/dist-packages (from tensorflow) (0.2.0)\n",
            "Requirement already satisfied: opt-einsum>=2.3.2 in /usr/local/lib/python3.8/dist-packages (from tensorflow) (3.3.0)\n",
            "Requirement already satisfied: termcolor>=1.1.0 in /usr/local/lib/python3.8/dist-packages (from tensorflow) (2.1.1)\n",
            "Requirement already satisfied: wheel<1.0,>=0.23.0 in /usr/local/lib/python3.8/dist-packages (from astunparse>=1.6.0->tensorflow) (0.38.4)\n",
            "Requirement already satisfied: markdown>=2.6.8 in /usr/local/lib/python3.8/dist-packages (from tensorboard<2.10,>=2.9->tensorflow) (3.4.1)\n",
            "Requirement already satisfied: requests<3,>=2.21.0 in /usr/local/lib/python3.8/dist-packages (from tensorboard<2.10,>=2.9->tensorflow) (2.25.1)\n",
            "Requirement already satisfied: tensorboard-data-server<0.7.0,>=0.6.0 in /usr/local/lib/python3.8/dist-packages (from tensorboard<2.10,>=2.9->tensorflow) (0.6.1)\n",
            "Requirement already satisfied: tensorboard-plugin-wit>=1.6.0 in /usr/local/lib/python3.8/dist-packages (from tensorboard<2.10,>=2.9->tensorflow) (1.8.1)\n",
            "Requirement already satisfied: google-auth<3,>=1.6.3 in /usr/local/lib/python3.8/dist-packages (from tensorboard<2.10,>=2.9->tensorflow) (2.15.0)\n",
            "Requirement already satisfied: google-auth-oauthlib<0.5,>=0.4.1 in /usr/local/lib/python3.8/dist-packages (from tensorboard<2.10,>=2.9->tensorflow) (0.4.6)\n",
            "Requirement already satisfied: werkzeug>=1.0.1 in /usr/local/lib/python3.8/dist-packages (from tensorboard<2.10,>=2.9->tensorflow) (1.0.1)\n",
            "Requirement already satisfied: pyparsing!=3.0.5,>=2.0.2 in /usr/local/lib/python3.8/dist-packages (from packaging->tensorflow) (3.0.9)\n",
            "Requirement already satisfied: cachetools<6.0,>=2.0.0 in /usr/local/lib/python3.8/dist-packages (from google-auth<3,>=1.6.3->tensorboard<2.10,>=2.9->tensorflow) (5.2.0)\n",
            "Requirement already satisfied: pyasn1-modules>=0.2.1 in /usr/local/lib/python3.8/dist-packages (from google-auth<3,>=1.6.3->tensorboard<2.10,>=2.9->tensorflow) (0.2.8)\n",
            "Requirement already satisfied: rsa<5,>=3.1.4 in /usr/local/lib/python3.8/dist-packages (from google-auth<3,>=1.6.3->tensorboard<2.10,>=2.9->tensorflow) (4.9)\n",
            "Requirement already satisfied: requests-oauthlib>=0.7.0 in /usr/local/lib/python3.8/dist-packages (from google-auth-oauthlib<0.5,>=0.4.1->tensorboard<2.10,>=2.9->tensorflow) (1.3.1)\n",
            "Requirement already satisfied: importlib-metadata>=4.4 in /usr/local/lib/python3.8/dist-packages (from markdown>=2.6.8->tensorboard<2.10,>=2.9->tensorflow) (5.2.0)\n",
            "Requirement already satisfied: certifi>=2017.4.17 in /usr/local/lib/python3.8/dist-packages (from requests<3,>=2.21.0->tensorboard<2.10,>=2.9->tensorflow) (2022.12.7)\n",
            "Requirement already satisfied: idna<3,>=2.5 in /usr/local/lib/python3.8/dist-packages (from requests<3,>=2.21.0->tensorboard<2.10,>=2.9->tensorflow) (2.10)\n",
            "Requirement already satisfied: chardet<5,>=3.0.2 in /usr/local/lib/python3.8/dist-packages (from requests<3,>=2.21.0->tensorboard<2.10,>=2.9->tensorflow) (4.0.0)\n",
            "Requirement already satisfied: urllib3<1.27,>=1.21.1 in /usr/local/lib/python3.8/dist-packages (from requests<3,>=2.21.0->tensorboard<2.10,>=2.9->tensorflow) (1.24.3)\n",
            "Requirement already satisfied: zipp>=0.5 in /usr/local/lib/python3.8/dist-packages (from importlib-metadata>=4.4->markdown>=2.6.8->tensorboard<2.10,>=2.9->tensorflow) (3.11.0)\n",
            "Requirement already satisfied: pyasn1<0.5.0,>=0.4.6 in /usr/local/lib/python3.8/dist-packages (from pyasn1-modules>=0.2.1->google-auth<3,>=1.6.3->tensorboard<2.10,>=2.9->tensorflow) (0.4.8)\n",
            "Requirement already satisfied: oauthlib>=3.0.0 in /usr/local/lib/python3.8/dist-packages (from requests-oauthlib>=0.7.0->google-auth-oauthlib<0.5,>=0.4.1->tensorboard<2.10,>=2.9->tensorflow) (3.2.2)\n"
          ]
        }
      ],
      "source": [
        "import numpy as np\n",
        "!pip install tensorflow\n",
        "import tensorflow as tf\n",
        "import random"
      ]
    },
    {
      "cell_type": "markdown",
      "source": [
        "#Importing the libraries to Predict the closing price stock price "
      ],
      "metadata": {
        "id": "zcS06zp3o3G9"
      }
    },
    {
      "cell_type": "code",
      "source": [
        "import pandas as pd\n",
        "import numpy as np\n",
        "import matplotlib.pyplot as plt\n",
        "import seaborn as sns\n",
        "import keras"
      ],
      "metadata": {
        "id": "Y-OU-7sQbG5z"
      },
      "execution_count": 1,
      "outputs": []
    },
    {
      "cell_type": "code",
      "source": [
        "sns.set_style('whitegrid')\n",
        "from datetime import datetime"
      ],
      "metadata": {
        "id": "jujSMQJYow39"
      },
      "execution_count": 2,
      "outputs": []
    },
    {
      "cell_type": "markdown",
      "source": [
        "## Tech stocks to use for analysis\n",
        "\n",
        "---\n",
        "\n",
        "11 S&P/ASX 200 stocks from five industry namely; Telecomms/Energy, Technology, Real Estate, Financial, and Healthcare.\n",
        "\n",
        "Company_list = [AGL,ANZ,CPU, CSL, DXS, GMG, RMD, SHL,TLS, TNE, WBC]\n",
        "\n",
        "Company_name = [\"AGL Energy\", \"ANZ Bank\",\"CSL\", \n",
        "\n",
        "\"Tesltra\",\"Westpac Bank\", \"Goodman\", \"Dexus\", \" Technology One,\"Computershare\", \"ResMed Inc\", \"Sonic Healthcare\"]\n",
        "\n",
        "\n",
        "\n",
        "All the dataset has following columns:\n",
        "\n",
        "Date: Year-Month-Day\n",
        "\n",
        "Open: The Price of the stock at the opening of the trading day($AU).\n",
        "\n",
        "High:The highest price of the stock during the trading day($AU).\n",
        "\n",
        "Low:The lowest price of the stock during the trading day($AU).\n",
        "\n",
        "Close: The Price of the stock at the closing of the trading day($AU).\n",
        "\n",
        "Adj Close: The price of the stock at the closing of the trading day adjusted with the dividends($AU).\n",
        "\n",
        "Volume: The amount of traded stocks on the day ($AU).\n",
        "\n",
        "\n",
        "\n"
      ],
      "metadata": {
        "id": "BQHgfkq4p2l4"
      }
    },
    {
      "cell_type": "markdown",
      "source": [
        "**Loading the data for AGL**"
      ],
      "metadata": {
        "id": "vBeGuO2mMEnS"
      }
    },
    {
      "cell_type": "code",
      "source": [
        "data = pd.read_csv(\"/content/drive/MyDrive/SIT723 DOCS/Historical Data/AGL_AX.csv\")\n"
      ],
      "metadata": {
        "id": "82mEk6kLKOi6"
      },
      "execution_count": 3,
      "outputs": []
    },
    {
      "cell_type": "code",
      "source": [
        "\n",
        "from google.colab import drive\n",
        "drive.mount('/content/drive')"
      ],
      "metadata": {
        "colab": {
          "base_uri": "https://localhost:8080/",
          "height": 0
        },
        "id": "Ljpc3OfvFSOi",
        "outputId": "dae9c17a-6449-4559-de63-a519701f5fee"
      },
      "execution_count": 4,
      "outputs": [
        {
          "output_type": "stream",
          "name": "stdout",
          "text": [
            "Drive already mounted at /content/drive; to attempt to forcibly remount, call drive.mount(\"/content/drive\", force_remount=True).\n"
          ]
        }
      ]
    },
    {
      "cell_type": "code",
      "source": [
        "data.info()"
      ],
      "metadata": {
        "colab": {
          "base_uri": "https://localhost:8080/",
          "height": 0
        },
        "id": "Z9IVC-tKRyzf",
        "outputId": "d2efcf88-b823-461d-f34e-1f1e084bc06b"
      },
      "execution_count": 5,
      "outputs": [
        {
          "output_type": "stream",
          "name": "stdout",
          "text": [
            "<class 'pandas.core.frame.DataFrame'>\n",
            "RangeIndex: 3542 entries, 0 to 3541\n",
            "Data columns (total 7 columns):\n",
            " #   Column     Non-Null Count  Dtype  \n",
            "---  ------     --------------  -----  \n",
            " 0   Date       3542 non-null   object \n",
            " 1   Open       3542 non-null   float64\n",
            " 2   High       3542 non-null   float64\n",
            " 3   Low        3542 non-null   float64\n",
            " 4   Close      3542 non-null   float64\n",
            " 5   Adj Close  3542 non-null   float64\n",
            " 6   Volume     3542 non-null   int64  \n",
            "dtypes: float64(5), int64(1), object(1)\n",
            "memory usage: 193.8+ KB\n"
          ]
        }
      ]
    },
    {
      "cell_type": "code",
      "source": [
        "data.head()"
      ],
      "metadata": {
        "id": "Jjci4LJNVD6c",
        "colab": {
          "base_uri": "https://localhost:8080/"
        },
        "outputId": "142eb64d-9cad-4332-993b-6a121a6b7660"
      },
      "execution_count": null,
      "outputs": [
        {
          "output_type": "execute_result",
          "data": {
            "text/plain": [
              "         Date       Open       High        Low      Close  Adj Close   Volume\n",
              "0  30/12/2008  14.416293  14.416293  14.156540  14.193648   7.613944   332895\n",
              "1  31/12/2008  14.175094  14.286417  13.980279  14.156540   7.594039   549227\n",
              "2   2/01/2009  14.054495  14.240032  13.933895  14.054495   7.539299   367252\n",
              "3   5/01/2009  14.054495  14.202925  13.349451  13.349451   7.161090  1294601\n",
              "4   6/01/2009  13.451496  13.701973  13.284512  13.330897   7.151134   976516"
            ],
            "text/html": [
              "\n",
              "  <div id=\"df-ce94a9f0-0488-41c0-9c17-a7fb1340d3a2\">\n",
              "    <div class=\"colab-df-container\">\n",
              "      <div>\n",
              "<style scoped>\n",
              "    .dataframe tbody tr th:only-of-type {\n",
              "        vertical-align: middle;\n",
              "    }\n",
              "\n",
              "    .dataframe tbody tr th {\n",
              "        vertical-align: top;\n",
              "    }\n",
              "\n",
              "    .dataframe thead th {\n",
              "        text-align: right;\n",
              "    }\n",
              "</style>\n",
              "<table border=\"1\" class=\"dataframe\">\n",
              "  <thead>\n",
              "    <tr style=\"text-align: right;\">\n",
              "      <th></th>\n",
              "      <th>Date</th>\n",
              "      <th>Open</th>\n",
              "      <th>High</th>\n",
              "      <th>Low</th>\n",
              "      <th>Close</th>\n",
              "      <th>Adj Close</th>\n",
              "      <th>Volume</th>\n",
              "    </tr>\n",
              "  </thead>\n",
              "  <tbody>\n",
              "    <tr>\n",
              "      <th>0</th>\n",
              "      <td>30/12/2008</td>\n",
              "      <td>14.416293</td>\n",
              "      <td>14.416293</td>\n",
              "      <td>14.156540</td>\n",
              "      <td>14.193648</td>\n",
              "      <td>7.613944</td>\n",
              "      <td>332895</td>\n",
              "    </tr>\n",
              "    <tr>\n",
              "      <th>1</th>\n",
              "      <td>31/12/2008</td>\n",
              "      <td>14.175094</td>\n",
              "      <td>14.286417</td>\n",
              "      <td>13.980279</td>\n",
              "      <td>14.156540</td>\n",
              "      <td>7.594039</td>\n",
              "      <td>549227</td>\n",
              "    </tr>\n",
              "    <tr>\n",
              "      <th>2</th>\n",
              "      <td>2/01/2009</td>\n",
              "      <td>14.054495</td>\n",
              "      <td>14.240032</td>\n",
              "      <td>13.933895</td>\n",
              "      <td>14.054495</td>\n",
              "      <td>7.539299</td>\n",
              "      <td>367252</td>\n",
              "    </tr>\n",
              "    <tr>\n",
              "      <th>3</th>\n",
              "      <td>5/01/2009</td>\n",
              "      <td>14.054495</td>\n",
              "      <td>14.202925</td>\n",
              "      <td>13.349451</td>\n",
              "      <td>13.349451</td>\n",
              "      <td>7.161090</td>\n",
              "      <td>1294601</td>\n",
              "    </tr>\n",
              "    <tr>\n",
              "      <th>4</th>\n",
              "      <td>6/01/2009</td>\n",
              "      <td>13.451496</td>\n",
              "      <td>13.701973</td>\n",
              "      <td>13.284512</td>\n",
              "      <td>13.330897</td>\n",
              "      <td>7.151134</td>\n",
              "      <td>976516</td>\n",
              "    </tr>\n",
              "  </tbody>\n",
              "</table>\n",
              "</div>\n",
              "      <button class=\"colab-df-convert\" onclick=\"convertToInteractive('df-ce94a9f0-0488-41c0-9c17-a7fb1340d3a2')\"\n",
              "              title=\"Convert this dataframe to an interactive table.\"\n",
              "              style=\"display:none;\">\n",
              "        \n",
              "  <svg xmlns=\"http://www.w3.org/2000/svg\" height=\"24px\"viewBox=\"0 0 24 24\"\n",
              "       width=\"24px\">\n",
              "    <path d=\"M0 0h24v24H0V0z\" fill=\"none\"/>\n",
              "    <path d=\"M18.56 5.44l.94 2.06.94-2.06 2.06-.94-2.06-.94-.94-2.06-.94 2.06-2.06.94zm-11 1L8.5 8.5l.94-2.06 2.06-.94-2.06-.94L8.5 2.5l-.94 2.06-2.06.94zm10 10l.94 2.06.94-2.06 2.06-.94-2.06-.94-.94-2.06-.94 2.06-2.06.94z\"/><path d=\"M17.41 7.96l-1.37-1.37c-.4-.4-.92-.59-1.43-.59-.52 0-1.04.2-1.43.59L10.3 9.45l-7.72 7.72c-.78.78-.78 2.05 0 2.83L4 21.41c.39.39.9.59 1.41.59.51 0 1.02-.2 1.41-.59l7.78-7.78 2.81-2.81c.8-.78.8-2.07 0-2.86zM5.41 20L4 18.59l7.72-7.72 1.47 1.35L5.41 20z\"/>\n",
              "  </svg>\n",
              "      </button>\n",
              "      \n",
              "  <style>\n",
              "    .colab-df-container {\n",
              "      display:flex;\n",
              "      flex-wrap:wrap;\n",
              "      gap: 12px;\n",
              "    }\n",
              "\n",
              "    .colab-df-convert {\n",
              "      background-color: #E8F0FE;\n",
              "      border: none;\n",
              "      border-radius: 50%;\n",
              "      cursor: pointer;\n",
              "      display: none;\n",
              "      fill: #1967D2;\n",
              "      height: 32px;\n",
              "      padding: 0 0 0 0;\n",
              "      width: 32px;\n",
              "    }\n",
              "\n",
              "    .colab-df-convert:hover {\n",
              "      background-color: #E2EBFA;\n",
              "      box-shadow: 0px 1px 2px rgba(60, 64, 67, 0.3), 0px 1px 3px 1px rgba(60, 64, 67, 0.15);\n",
              "      fill: #174EA6;\n",
              "    }\n",
              "\n",
              "    [theme=dark] .colab-df-convert {\n",
              "      background-color: #3B4455;\n",
              "      fill: #D2E3FC;\n",
              "    }\n",
              "\n",
              "    [theme=dark] .colab-df-convert:hover {\n",
              "      background-color: #434B5C;\n",
              "      box-shadow: 0px 1px 3px 1px rgba(0, 0, 0, 0.15);\n",
              "      filter: drop-shadow(0px 1px 2px rgba(0, 0, 0, 0.3));\n",
              "      fill: #FFFFFF;\n",
              "    }\n",
              "  </style>\n",
              "\n",
              "      <script>\n",
              "        const buttonEl =\n",
              "          document.querySelector('#df-ce94a9f0-0488-41c0-9c17-a7fb1340d3a2 button.colab-df-convert');\n",
              "        buttonEl.style.display =\n",
              "          google.colab.kernel.accessAllowed ? 'block' : 'none';\n",
              "\n",
              "        async function convertToInteractive(key) {\n",
              "          const element = document.querySelector('#df-ce94a9f0-0488-41c0-9c17-a7fb1340d3a2');\n",
              "          const dataTable =\n",
              "            await google.colab.kernel.invokeFunction('convertToInteractive',\n",
              "                                                     [key], {});\n",
              "          if (!dataTable) return;\n",
              "\n",
              "          const docLinkHtml = 'Like what you see? Visit the ' +\n",
              "            '<a target=\"_blank\" href=https://colab.research.google.com/notebooks/data_table.ipynb>data table notebook</a>'\n",
              "            + ' to learn more about interactive tables.';\n",
              "          element.innerHTML = '';\n",
              "          dataTable['output_type'] = 'display_data';\n",
              "          await google.colab.output.renderOutput(dataTable, element);\n",
              "          const docLink = document.createElement('div');\n",
              "          docLink.innerHTML = docLinkHtml;\n",
              "          element.appendChild(docLink);\n",
              "        }\n",
              "      </script>\n",
              "    </div>\n",
              "  </div>\n",
              "  "
            ]
          },
          "metadata": {},
          "execution_count": 217
        }
      ]
    },
    {
      "cell_type": "code",
      "source": [
        "data"
      ],
      "metadata": {
        "colab": {
          "base_uri": "https://localhost:8080/"
        },
        "id": "qMpf--HiIuAN",
        "outputId": "87ec24b2-7e6e-4027-a3b8-30776553ae1b"
      },
      "execution_count": null,
      "outputs": [
        {
          "output_type": "execute_result",
          "data": {
            "text/plain": [
              "            Date       Open       High        Low      Close  Adj Close  \\\n",
              "0     30/12/2008  14.416293  14.416293  14.156540  14.193648   7.613944   \n",
              "1     31/12/2008  14.175094  14.286417  13.980279  14.156540   7.594039   \n",
              "2      2/01/2009  14.054495  14.240032  13.933895  14.054495   7.539299   \n",
              "3      5/01/2009  14.054495  14.202925  13.349451  13.349451   7.161090   \n",
              "4      6/01/2009  13.451496  13.701973  13.284512  13.330897   7.151134   \n",
              "...          ...        ...        ...        ...        ...        ...   \n",
              "3537  22/12/2022   8.000000   8.190000   7.930000   8.140000   8.140000   \n",
              "3538  23/12/2022   8.130000   8.230000   8.070000   8.170000   8.170000   \n",
              "3539  28/12/2022   8.210000   8.240000   8.150000   8.220000   8.220000   \n",
              "3540  29/12/2022   8.210000   8.220000   8.150000   8.180000   8.180000   \n",
              "3541  30/12/2022   8.200000   8.230000   8.070000   8.070000   8.070000   \n",
              "\n",
              "       Volume  \n",
              "0      332895  \n",
              "1      549227  \n",
              "2      367252  \n",
              "3     1294601  \n",
              "4      976516  \n",
              "...       ...  \n",
              "3537  2828366  \n",
              "3538  1745575  \n",
              "3539  1616651  \n",
              "3540   834343  \n",
              "3541  1332766  \n",
              "\n",
              "[3542 rows x 7 columns]"
            ],
            "text/html": [
              "\n",
              "  <div id=\"df-90c0f552-1e64-40ce-814f-575ec4bb20e2\">\n",
              "    <div class=\"colab-df-container\">\n",
              "      <div>\n",
              "<style scoped>\n",
              "    .dataframe tbody tr th:only-of-type {\n",
              "        vertical-align: middle;\n",
              "    }\n",
              "\n",
              "    .dataframe tbody tr th {\n",
              "        vertical-align: top;\n",
              "    }\n",
              "\n",
              "    .dataframe thead th {\n",
              "        text-align: right;\n",
              "    }\n",
              "</style>\n",
              "<table border=\"1\" class=\"dataframe\">\n",
              "  <thead>\n",
              "    <tr style=\"text-align: right;\">\n",
              "      <th></th>\n",
              "      <th>Date</th>\n",
              "      <th>Open</th>\n",
              "      <th>High</th>\n",
              "      <th>Low</th>\n",
              "      <th>Close</th>\n",
              "      <th>Adj Close</th>\n",
              "      <th>Volume</th>\n",
              "    </tr>\n",
              "  </thead>\n",
              "  <tbody>\n",
              "    <tr>\n",
              "      <th>0</th>\n",
              "      <td>30/12/2008</td>\n",
              "      <td>14.416293</td>\n",
              "      <td>14.416293</td>\n",
              "      <td>14.156540</td>\n",
              "      <td>14.193648</td>\n",
              "      <td>7.613944</td>\n",
              "      <td>332895</td>\n",
              "    </tr>\n",
              "    <tr>\n",
              "      <th>1</th>\n",
              "      <td>31/12/2008</td>\n",
              "      <td>14.175094</td>\n",
              "      <td>14.286417</td>\n",
              "      <td>13.980279</td>\n",
              "      <td>14.156540</td>\n",
              "      <td>7.594039</td>\n",
              "      <td>549227</td>\n",
              "    </tr>\n",
              "    <tr>\n",
              "      <th>2</th>\n",
              "      <td>2/01/2009</td>\n",
              "      <td>14.054495</td>\n",
              "      <td>14.240032</td>\n",
              "      <td>13.933895</td>\n",
              "      <td>14.054495</td>\n",
              "      <td>7.539299</td>\n",
              "      <td>367252</td>\n",
              "    </tr>\n",
              "    <tr>\n",
              "      <th>3</th>\n",
              "      <td>5/01/2009</td>\n",
              "      <td>14.054495</td>\n",
              "      <td>14.202925</td>\n",
              "      <td>13.349451</td>\n",
              "      <td>13.349451</td>\n",
              "      <td>7.161090</td>\n",
              "      <td>1294601</td>\n",
              "    </tr>\n",
              "    <tr>\n",
              "      <th>4</th>\n",
              "      <td>6/01/2009</td>\n",
              "      <td>13.451496</td>\n",
              "      <td>13.701973</td>\n",
              "      <td>13.284512</td>\n",
              "      <td>13.330897</td>\n",
              "      <td>7.151134</td>\n",
              "      <td>976516</td>\n",
              "    </tr>\n",
              "    <tr>\n",
              "      <th>...</th>\n",
              "      <td>...</td>\n",
              "      <td>...</td>\n",
              "      <td>...</td>\n",
              "      <td>...</td>\n",
              "      <td>...</td>\n",
              "      <td>...</td>\n",
              "      <td>...</td>\n",
              "    </tr>\n",
              "    <tr>\n",
              "      <th>3537</th>\n",
              "      <td>22/12/2022</td>\n",
              "      <td>8.000000</td>\n",
              "      <td>8.190000</td>\n",
              "      <td>7.930000</td>\n",
              "      <td>8.140000</td>\n",
              "      <td>8.140000</td>\n",
              "      <td>2828366</td>\n",
              "    </tr>\n",
              "    <tr>\n",
              "      <th>3538</th>\n",
              "      <td>23/12/2022</td>\n",
              "      <td>8.130000</td>\n",
              "      <td>8.230000</td>\n",
              "      <td>8.070000</td>\n",
              "      <td>8.170000</td>\n",
              "      <td>8.170000</td>\n",
              "      <td>1745575</td>\n",
              "    </tr>\n",
              "    <tr>\n",
              "      <th>3539</th>\n",
              "      <td>28/12/2022</td>\n",
              "      <td>8.210000</td>\n",
              "      <td>8.240000</td>\n",
              "      <td>8.150000</td>\n",
              "      <td>8.220000</td>\n",
              "      <td>8.220000</td>\n",
              "      <td>1616651</td>\n",
              "    </tr>\n",
              "    <tr>\n",
              "      <th>3540</th>\n",
              "      <td>29/12/2022</td>\n",
              "      <td>8.210000</td>\n",
              "      <td>8.220000</td>\n",
              "      <td>8.150000</td>\n",
              "      <td>8.180000</td>\n",
              "      <td>8.180000</td>\n",
              "      <td>834343</td>\n",
              "    </tr>\n",
              "    <tr>\n",
              "      <th>3541</th>\n",
              "      <td>30/12/2022</td>\n",
              "      <td>8.200000</td>\n",
              "      <td>8.230000</td>\n",
              "      <td>8.070000</td>\n",
              "      <td>8.070000</td>\n",
              "      <td>8.070000</td>\n",
              "      <td>1332766</td>\n",
              "    </tr>\n",
              "  </tbody>\n",
              "</table>\n",
              "<p>3542 rows × 7 columns</p>\n",
              "</div>\n",
              "      <button class=\"colab-df-convert\" onclick=\"convertToInteractive('df-90c0f552-1e64-40ce-814f-575ec4bb20e2')\"\n",
              "              title=\"Convert this dataframe to an interactive table.\"\n",
              "              style=\"display:none;\">\n",
              "        \n",
              "  <svg xmlns=\"http://www.w3.org/2000/svg\" height=\"24px\"viewBox=\"0 0 24 24\"\n",
              "       width=\"24px\">\n",
              "    <path d=\"M0 0h24v24H0V0z\" fill=\"none\"/>\n",
              "    <path d=\"M18.56 5.44l.94 2.06.94-2.06 2.06-.94-2.06-.94-.94-2.06-.94 2.06-2.06.94zm-11 1L8.5 8.5l.94-2.06 2.06-.94-2.06-.94L8.5 2.5l-.94 2.06-2.06.94zm10 10l.94 2.06.94-2.06 2.06-.94-2.06-.94-.94-2.06-.94 2.06-2.06.94z\"/><path d=\"M17.41 7.96l-1.37-1.37c-.4-.4-.92-.59-1.43-.59-.52 0-1.04.2-1.43.59L10.3 9.45l-7.72 7.72c-.78.78-.78 2.05 0 2.83L4 21.41c.39.39.9.59 1.41.59.51 0 1.02-.2 1.41-.59l7.78-7.78 2.81-2.81c.8-.78.8-2.07 0-2.86zM5.41 20L4 18.59l7.72-7.72 1.47 1.35L5.41 20z\"/>\n",
              "  </svg>\n",
              "      </button>\n",
              "      \n",
              "  <style>\n",
              "    .colab-df-container {\n",
              "      display:flex;\n",
              "      flex-wrap:wrap;\n",
              "      gap: 12px;\n",
              "    }\n",
              "\n",
              "    .colab-df-convert {\n",
              "      background-color: #E8F0FE;\n",
              "      border: none;\n",
              "      border-radius: 50%;\n",
              "      cursor: pointer;\n",
              "      display: none;\n",
              "      fill: #1967D2;\n",
              "      height: 32px;\n",
              "      padding: 0 0 0 0;\n",
              "      width: 32px;\n",
              "    }\n",
              "\n",
              "    .colab-df-convert:hover {\n",
              "      background-color: #E2EBFA;\n",
              "      box-shadow: 0px 1px 2px rgba(60, 64, 67, 0.3), 0px 1px 3px 1px rgba(60, 64, 67, 0.15);\n",
              "      fill: #174EA6;\n",
              "    }\n",
              "\n",
              "    [theme=dark] .colab-df-convert {\n",
              "      background-color: #3B4455;\n",
              "      fill: #D2E3FC;\n",
              "    }\n",
              "\n",
              "    [theme=dark] .colab-df-convert:hover {\n",
              "      background-color: #434B5C;\n",
              "      box-shadow: 0px 1px 3px 1px rgba(0, 0, 0, 0.15);\n",
              "      filter: drop-shadow(0px 1px 2px rgba(0, 0, 0, 0.3));\n",
              "      fill: #FFFFFF;\n",
              "    }\n",
              "  </style>\n",
              "\n",
              "      <script>\n",
              "        const buttonEl =\n",
              "          document.querySelector('#df-90c0f552-1e64-40ce-814f-575ec4bb20e2 button.colab-df-convert');\n",
              "        buttonEl.style.display =\n",
              "          google.colab.kernel.accessAllowed ? 'block' : 'none';\n",
              "\n",
              "        async function convertToInteractive(key) {\n",
              "          const element = document.querySelector('#df-90c0f552-1e64-40ce-814f-575ec4bb20e2');\n",
              "          const dataTable =\n",
              "            await google.colab.kernel.invokeFunction('convertToInteractive',\n",
              "                                                     [key], {});\n",
              "          if (!dataTable) return;\n",
              "\n",
              "          const docLinkHtml = 'Like what you see? Visit the ' +\n",
              "            '<a target=\"_blank\" href=https://colab.research.google.com/notebooks/data_table.ipynb>data table notebook</a>'\n",
              "            + ' to learn more about interactive tables.';\n",
              "          element.innerHTML = '';\n",
              "          dataTable['output_type'] = 'display_data';\n",
              "          await google.colab.output.renderOutput(dataTable, element);\n",
              "          const docLink = document.createElement('div');\n",
              "          docLink.innerHTML = docLinkHtml;\n",
              "          element.appendChild(docLink);\n",
              "        }\n",
              "      </script>\n",
              "    </div>\n",
              "  </div>\n",
              "  "
            ]
          },
          "metadata": {},
          "execution_count": 218
        }
      ]
    },
    {
      "cell_type": "code",
      "source": [
        "data.info()"
      ],
      "metadata": {
        "colab": {
          "base_uri": "https://localhost:8080/"
        },
        "id": "GB68wfkZRjYc",
        "outputId": "e3051bac-f565-4dbd-972e-20cea23fe401"
      },
      "execution_count": null,
      "outputs": [
        {
          "output_type": "stream",
          "name": "stdout",
          "text": [
            "<class 'pandas.core.frame.DataFrame'>\n",
            "RangeIndex: 3542 entries, 0 to 3541\n",
            "Data columns (total 7 columns):\n",
            " #   Column     Non-Null Count  Dtype  \n",
            "---  ------     --------------  -----  \n",
            " 0   Date       3542 non-null   object \n",
            " 1   Open       3542 non-null   float64\n",
            " 2   High       3542 non-null   float64\n",
            " 3   Low        3542 non-null   float64\n",
            " 4   Close      3542 non-null   float64\n",
            " 5   Adj Close  3542 non-null   float64\n",
            " 6   Volume     3542 non-null   int64  \n",
            "dtypes: float64(5), int64(1), object(1)\n",
            "memory usage: 193.8+ KB\n"
          ]
        }
      ]
    },
    {
      "cell_type": "markdown",
      "source": [
        "Question 1:\n",
        "# What pattern of behaviour does the closing price of stock  for previous years and subsequent years has in common?"
      ],
      "metadata": {
        "id": "3gcGXCNnIOU9"
      }
    },
    {
      "cell_type": "markdown",
      "source": [
        "    #Assemble all closing stock as at last trading date for each year, and make comparison based on industry.\n",
        "    # Combining all the closing prices and determine if there are correlation among/between companies within same industry."
      ],
      "metadata": {
        "id": "8rivi_qZIS23"
      }
    },
    {
      "cell_type": "code",
      "source": [
        "closingdata_frame= pd.read_csv(\"/content/datasets.csv\")\n",
        "closingdata_frame"
      ],
      "metadata": {
        "colab": {
          "base_uri": "https://localhost:8080/",
          "height": 632
        },
        "id": "A4PyDVl8Nr4H",
        "outputId": "90b2e4fc-16f2-48c3-a3ee-f0a68cdc7a61"
      },
      "execution_count": 7,
      "outputs": [
        {
          "output_type": "execute_result",
          "data": {
            "text/plain": [
              "    Unnamed: 0 FINANCIALS Unnamed: 2 REAL ESTATE Unnamed: 4 Unnamed: 5  \\\n",
              "0         Date        WBC        ANZ         DXS        GMG        CSL   \n",
              "1   31/12/2008      16.86      15.29        4.68       3.36       33.7   \n",
              "2   31/12/2009      25.13      22.88        5.09      3.175      32.49   \n",
              "3   31/12/2010      22.06      23.35        4.76       3.25      36.29   \n",
              "4   31/12/2011      19.86      20.53        4.97       2.85         32   \n",
              "5   31/12/2012      25.86      25.05        6.08       4.33       53.9   \n",
              "6   31/12/2013      32.16      32.23        6.02       4.73      68.96   \n",
              "7   31/12/2014      32.94      32.09        6.97       5.68      86.68   \n",
              "8   31/12/2015      33.56      27.93        7.68       6.27     105.31   \n",
              "9   31/12/2016       32.6      30.42        9.62       7.08     100.41   \n",
              "10  31/12/2017      31.35      28.74        9.75       8.39      141.3   \n",
              "11  31/12/2018      25.04      24.46       10.62      10.63     185.16   \n",
              "12  31/12/2019      24.23      24.63        11.7      13.31     275.76   \n",
              "13  31/12/2020      19.37       22.7         9.4      18.91     283.18   \n",
              "14  31/12/2021      21.35      27.51       11.12       26.5     290.72   \n",
              "15  30/12/2022      23.35      23.66        7.75      17.36     287.76   \n",
              "\n",
              "   HEALTHCARE Unnamed: 7 TELECOMMS Unnamed: 9 TECHNOLOGY Unnamed: 11  \n",
              "0         RMD        SHL       AGL        TLS        CPU         TNE  \n",
              "1        2.68      14.56     14.15       3.83        7.8        0.79  \n",
              "2        2.96      15.37     13.04       3.43      11.45        0.83  \n",
              "3        3.49       11.6     14.12       2.79      10.78        0.96  \n",
              "4        2.47      11.28     13.29       3.33       8.01           1  \n",
              "5        3.94      13.33     14.74       4.37       8.99         1.5  \n",
              "6         5.3      16.58      14.4       5.25      11.38        2.29  \n",
              "7        6.94       18.5     13.36       5.97       11.8         3.2  \n",
              "8        7.44      17.87     18.08       5.61      11.62        4.96  \n",
              "9        8.58       21.4     22.09        5.1      12.46        5.65  \n",
              "10      10.99      22.86     24.36       3.63       16.3        4.96  \n",
              "11      15.92      22.11     20.06       2.85      17.19        6.16  \n",
              "12       21.9      28.75     20.53       3.54      16.78        8.29  \n",
              "13      27.23      32.15     11.95       2.98      14.45         8.2  \n",
              "14      35.78      37.91      6.14       4.18         20       12.81  \n",
              "15      30.96      29.97      8.07       3.99       26.2       13.14  "
            ],
            "text/html": [
              "\n",
              "  <div id=\"df-c0d125d0-a9b2-45d1-b94e-a14c1eea0c1d\">\n",
              "    <div class=\"colab-df-container\">\n",
              "      <div>\n",
              "<style scoped>\n",
              "    .dataframe tbody tr th:only-of-type {\n",
              "        vertical-align: middle;\n",
              "    }\n",
              "\n",
              "    .dataframe tbody tr th {\n",
              "        vertical-align: top;\n",
              "    }\n",
              "\n",
              "    .dataframe thead th {\n",
              "        text-align: right;\n",
              "    }\n",
              "</style>\n",
              "<table border=\"1\" class=\"dataframe\">\n",
              "  <thead>\n",
              "    <tr style=\"text-align: right;\">\n",
              "      <th></th>\n",
              "      <th>Unnamed: 0</th>\n",
              "      <th>FINANCIALS</th>\n",
              "      <th>Unnamed: 2</th>\n",
              "      <th>REAL ESTATE</th>\n",
              "      <th>Unnamed: 4</th>\n",
              "      <th>Unnamed: 5</th>\n",
              "      <th>HEALTHCARE</th>\n",
              "      <th>Unnamed: 7</th>\n",
              "      <th>TELECOMMS</th>\n",
              "      <th>Unnamed: 9</th>\n",
              "      <th>TECHNOLOGY</th>\n",
              "      <th>Unnamed: 11</th>\n",
              "    </tr>\n",
              "  </thead>\n",
              "  <tbody>\n",
              "    <tr>\n",
              "      <th>0</th>\n",
              "      <td>Date</td>\n",
              "      <td>WBC</td>\n",
              "      <td>ANZ</td>\n",
              "      <td>DXS</td>\n",
              "      <td>GMG</td>\n",
              "      <td>CSL</td>\n",
              "      <td>RMD</td>\n",
              "      <td>SHL</td>\n",
              "      <td>AGL</td>\n",
              "      <td>TLS</td>\n",
              "      <td>CPU</td>\n",
              "      <td>TNE</td>\n",
              "    </tr>\n",
              "    <tr>\n",
              "      <th>1</th>\n",
              "      <td>31/12/2008</td>\n",
              "      <td>16.86</td>\n",
              "      <td>15.29</td>\n",
              "      <td>4.68</td>\n",
              "      <td>3.36</td>\n",
              "      <td>33.7</td>\n",
              "      <td>2.68</td>\n",
              "      <td>14.56</td>\n",
              "      <td>14.15</td>\n",
              "      <td>3.83</td>\n",
              "      <td>7.8</td>\n",
              "      <td>0.79</td>\n",
              "    </tr>\n",
              "    <tr>\n",
              "      <th>2</th>\n",
              "      <td>31/12/2009</td>\n",
              "      <td>25.13</td>\n",
              "      <td>22.88</td>\n",
              "      <td>5.09</td>\n",
              "      <td>3.175</td>\n",
              "      <td>32.49</td>\n",
              "      <td>2.96</td>\n",
              "      <td>15.37</td>\n",
              "      <td>13.04</td>\n",
              "      <td>3.43</td>\n",
              "      <td>11.45</td>\n",
              "      <td>0.83</td>\n",
              "    </tr>\n",
              "    <tr>\n",
              "      <th>3</th>\n",
              "      <td>31/12/2010</td>\n",
              "      <td>22.06</td>\n",
              "      <td>23.35</td>\n",
              "      <td>4.76</td>\n",
              "      <td>3.25</td>\n",
              "      <td>36.29</td>\n",
              "      <td>3.49</td>\n",
              "      <td>11.6</td>\n",
              "      <td>14.12</td>\n",
              "      <td>2.79</td>\n",
              "      <td>10.78</td>\n",
              "      <td>0.96</td>\n",
              "    </tr>\n",
              "    <tr>\n",
              "      <th>4</th>\n",
              "      <td>31/12/2011</td>\n",
              "      <td>19.86</td>\n",
              "      <td>20.53</td>\n",
              "      <td>4.97</td>\n",
              "      <td>2.85</td>\n",
              "      <td>32</td>\n",
              "      <td>2.47</td>\n",
              "      <td>11.28</td>\n",
              "      <td>13.29</td>\n",
              "      <td>3.33</td>\n",
              "      <td>8.01</td>\n",
              "      <td>1</td>\n",
              "    </tr>\n",
              "    <tr>\n",
              "      <th>5</th>\n",
              "      <td>31/12/2012</td>\n",
              "      <td>25.86</td>\n",
              "      <td>25.05</td>\n",
              "      <td>6.08</td>\n",
              "      <td>4.33</td>\n",
              "      <td>53.9</td>\n",
              "      <td>3.94</td>\n",
              "      <td>13.33</td>\n",
              "      <td>14.74</td>\n",
              "      <td>4.37</td>\n",
              "      <td>8.99</td>\n",
              "      <td>1.5</td>\n",
              "    </tr>\n",
              "    <tr>\n",
              "      <th>6</th>\n",
              "      <td>31/12/2013</td>\n",
              "      <td>32.16</td>\n",
              "      <td>32.23</td>\n",
              "      <td>6.02</td>\n",
              "      <td>4.73</td>\n",
              "      <td>68.96</td>\n",
              "      <td>5.3</td>\n",
              "      <td>16.58</td>\n",
              "      <td>14.4</td>\n",
              "      <td>5.25</td>\n",
              "      <td>11.38</td>\n",
              "      <td>2.29</td>\n",
              "    </tr>\n",
              "    <tr>\n",
              "      <th>7</th>\n",
              "      <td>31/12/2014</td>\n",
              "      <td>32.94</td>\n",
              "      <td>32.09</td>\n",
              "      <td>6.97</td>\n",
              "      <td>5.68</td>\n",
              "      <td>86.68</td>\n",
              "      <td>6.94</td>\n",
              "      <td>18.5</td>\n",
              "      <td>13.36</td>\n",
              "      <td>5.97</td>\n",
              "      <td>11.8</td>\n",
              "      <td>3.2</td>\n",
              "    </tr>\n",
              "    <tr>\n",
              "      <th>8</th>\n",
              "      <td>31/12/2015</td>\n",
              "      <td>33.56</td>\n",
              "      <td>27.93</td>\n",
              "      <td>7.68</td>\n",
              "      <td>6.27</td>\n",
              "      <td>105.31</td>\n",
              "      <td>7.44</td>\n",
              "      <td>17.87</td>\n",
              "      <td>18.08</td>\n",
              "      <td>5.61</td>\n",
              "      <td>11.62</td>\n",
              "      <td>4.96</td>\n",
              "    </tr>\n",
              "    <tr>\n",
              "      <th>9</th>\n",
              "      <td>31/12/2016</td>\n",
              "      <td>32.6</td>\n",
              "      <td>30.42</td>\n",
              "      <td>9.62</td>\n",
              "      <td>7.08</td>\n",
              "      <td>100.41</td>\n",
              "      <td>8.58</td>\n",
              "      <td>21.4</td>\n",
              "      <td>22.09</td>\n",
              "      <td>5.1</td>\n",
              "      <td>12.46</td>\n",
              "      <td>5.65</td>\n",
              "    </tr>\n",
              "    <tr>\n",
              "      <th>10</th>\n",
              "      <td>31/12/2017</td>\n",
              "      <td>31.35</td>\n",
              "      <td>28.74</td>\n",
              "      <td>9.75</td>\n",
              "      <td>8.39</td>\n",
              "      <td>141.3</td>\n",
              "      <td>10.99</td>\n",
              "      <td>22.86</td>\n",
              "      <td>24.36</td>\n",
              "      <td>3.63</td>\n",
              "      <td>16.3</td>\n",
              "      <td>4.96</td>\n",
              "    </tr>\n",
              "    <tr>\n",
              "      <th>11</th>\n",
              "      <td>31/12/2018</td>\n",
              "      <td>25.04</td>\n",
              "      <td>24.46</td>\n",
              "      <td>10.62</td>\n",
              "      <td>10.63</td>\n",
              "      <td>185.16</td>\n",
              "      <td>15.92</td>\n",
              "      <td>22.11</td>\n",
              "      <td>20.06</td>\n",
              "      <td>2.85</td>\n",
              "      <td>17.19</td>\n",
              "      <td>6.16</td>\n",
              "    </tr>\n",
              "    <tr>\n",
              "      <th>12</th>\n",
              "      <td>31/12/2019</td>\n",
              "      <td>24.23</td>\n",
              "      <td>24.63</td>\n",
              "      <td>11.7</td>\n",
              "      <td>13.31</td>\n",
              "      <td>275.76</td>\n",
              "      <td>21.9</td>\n",
              "      <td>28.75</td>\n",
              "      <td>20.53</td>\n",
              "      <td>3.54</td>\n",
              "      <td>16.78</td>\n",
              "      <td>8.29</td>\n",
              "    </tr>\n",
              "    <tr>\n",
              "      <th>13</th>\n",
              "      <td>31/12/2020</td>\n",
              "      <td>19.37</td>\n",
              "      <td>22.7</td>\n",
              "      <td>9.4</td>\n",
              "      <td>18.91</td>\n",
              "      <td>283.18</td>\n",
              "      <td>27.23</td>\n",
              "      <td>32.15</td>\n",
              "      <td>11.95</td>\n",
              "      <td>2.98</td>\n",
              "      <td>14.45</td>\n",
              "      <td>8.2</td>\n",
              "    </tr>\n",
              "    <tr>\n",
              "      <th>14</th>\n",
              "      <td>31/12/2021</td>\n",
              "      <td>21.35</td>\n",
              "      <td>27.51</td>\n",
              "      <td>11.12</td>\n",
              "      <td>26.5</td>\n",
              "      <td>290.72</td>\n",
              "      <td>35.78</td>\n",
              "      <td>37.91</td>\n",
              "      <td>6.14</td>\n",
              "      <td>4.18</td>\n",
              "      <td>20</td>\n",
              "      <td>12.81</td>\n",
              "    </tr>\n",
              "    <tr>\n",
              "      <th>15</th>\n",
              "      <td>30/12/2022</td>\n",
              "      <td>23.35</td>\n",
              "      <td>23.66</td>\n",
              "      <td>7.75</td>\n",
              "      <td>17.36</td>\n",
              "      <td>287.76</td>\n",
              "      <td>30.96</td>\n",
              "      <td>29.97</td>\n",
              "      <td>8.07</td>\n",
              "      <td>3.99</td>\n",
              "      <td>26.2</td>\n",
              "      <td>13.14</td>\n",
              "    </tr>\n",
              "  </tbody>\n",
              "</table>\n",
              "</div>\n",
              "      <button class=\"colab-df-convert\" onclick=\"convertToInteractive('df-c0d125d0-a9b2-45d1-b94e-a14c1eea0c1d')\"\n",
              "              title=\"Convert this dataframe to an interactive table.\"\n",
              "              style=\"display:none;\">\n",
              "        \n",
              "  <svg xmlns=\"http://www.w3.org/2000/svg\" height=\"24px\"viewBox=\"0 0 24 24\"\n",
              "       width=\"24px\">\n",
              "    <path d=\"M0 0h24v24H0V0z\" fill=\"none\"/>\n",
              "    <path d=\"M18.56 5.44l.94 2.06.94-2.06 2.06-.94-2.06-.94-.94-2.06-.94 2.06-2.06.94zm-11 1L8.5 8.5l.94-2.06 2.06-.94-2.06-.94L8.5 2.5l-.94 2.06-2.06.94zm10 10l.94 2.06.94-2.06 2.06-.94-2.06-.94-.94-2.06-.94 2.06-2.06.94z\"/><path d=\"M17.41 7.96l-1.37-1.37c-.4-.4-.92-.59-1.43-.59-.52 0-1.04.2-1.43.59L10.3 9.45l-7.72 7.72c-.78.78-.78 2.05 0 2.83L4 21.41c.39.39.9.59 1.41.59.51 0 1.02-.2 1.41-.59l7.78-7.78 2.81-2.81c.8-.78.8-2.07 0-2.86zM5.41 20L4 18.59l7.72-7.72 1.47 1.35L5.41 20z\"/>\n",
              "  </svg>\n",
              "      </button>\n",
              "      \n",
              "  <style>\n",
              "    .colab-df-container {\n",
              "      display:flex;\n",
              "      flex-wrap:wrap;\n",
              "      gap: 12px;\n",
              "    }\n",
              "\n",
              "    .colab-df-convert {\n",
              "      background-color: #E8F0FE;\n",
              "      border: none;\n",
              "      border-radius: 50%;\n",
              "      cursor: pointer;\n",
              "      display: none;\n",
              "      fill: #1967D2;\n",
              "      height: 32px;\n",
              "      padding: 0 0 0 0;\n",
              "      width: 32px;\n",
              "    }\n",
              "\n",
              "    .colab-df-convert:hover {\n",
              "      background-color: #E2EBFA;\n",
              "      box-shadow: 0px 1px 2px rgba(60, 64, 67, 0.3), 0px 1px 3px 1px rgba(60, 64, 67, 0.15);\n",
              "      fill: #174EA6;\n",
              "    }\n",
              "\n",
              "    [theme=dark] .colab-df-convert {\n",
              "      background-color: #3B4455;\n",
              "      fill: #D2E3FC;\n",
              "    }\n",
              "\n",
              "    [theme=dark] .colab-df-convert:hover {\n",
              "      background-color: #434B5C;\n",
              "      box-shadow: 0px 1px 3px 1px rgba(0, 0, 0, 0.15);\n",
              "      filter: drop-shadow(0px 1px 2px rgba(0, 0, 0, 0.3));\n",
              "      fill: #FFFFFF;\n",
              "    }\n",
              "  </style>\n",
              "\n",
              "      <script>\n",
              "        const buttonEl =\n",
              "          document.querySelector('#df-c0d125d0-a9b2-45d1-b94e-a14c1eea0c1d button.colab-df-convert');\n",
              "        buttonEl.style.display =\n",
              "          google.colab.kernel.accessAllowed ? 'block' : 'none';\n",
              "\n",
              "        async function convertToInteractive(key) {\n",
              "          const element = document.querySelector('#df-c0d125d0-a9b2-45d1-b94e-a14c1eea0c1d');\n",
              "          const dataTable =\n",
              "            await google.colab.kernel.invokeFunction('convertToInteractive',\n",
              "                                                     [key], {});\n",
              "          if (!dataTable) return;\n",
              "\n",
              "          const docLinkHtml = 'Like what you see? Visit the ' +\n",
              "            '<a target=\"_blank\" href=https://colab.research.google.com/notebooks/data_table.ipynb>data table notebook</a>'\n",
              "            + ' to learn more about interactive tables.';\n",
              "          element.innerHTML = '';\n",
              "          dataTable['output_type'] = 'display_data';\n",
              "          await google.colab.output.renderOutput(dataTable, element);\n",
              "          const docLink = document.createElement('div');\n",
              "          docLink.innerHTML = docLinkHtml;\n",
              "          element.appendChild(docLink);\n",
              "        }\n",
              "      </script>\n",
              "    </div>\n",
              "  </div>\n",
              "  "
            ]
          },
          "metadata": {},
          "execution_count": 7
        }
      ]
    },
    {
      "cell_type": "code",
      "source": [
        "closingdata_frame.info()"
      ],
      "metadata": {
        "id": "rOl9E70PSO09",
        "colab": {
          "base_uri": "https://localhost:8080/",
          "height": 0
        },
        "outputId": "6094b20e-913a-4c82-cd84-04df06a0e2e6"
      },
      "execution_count": 8,
      "outputs": [
        {
          "output_type": "stream",
          "name": "stdout",
          "text": [
            "<class 'pandas.core.frame.DataFrame'>\n",
            "RangeIndex: 16 entries, 0 to 15\n",
            "Data columns (total 12 columns):\n",
            " #   Column       Non-Null Count  Dtype \n",
            "---  ------       --------------  ----- \n",
            " 0   Unnamed: 0   16 non-null     object\n",
            " 1   FINANCIALS   16 non-null     object\n",
            " 2   Unnamed: 2   16 non-null     object\n",
            " 3   REAL ESTATE  16 non-null     object\n",
            " 4   Unnamed: 4   16 non-null     object\n",
            " 5   Unnamed: 5   16 non-null     object\n",
            " 6   HEALTHCARE   16 non-null     object\n",
            " 7   Unnamed: 7   16 non-null     object\n",
            " 8   TELECOMMS    16 non-null     object\n",
            " 9   Unnamed: 9   16 non-null     object\n",
            " 10  TECHNOLOGY   16 non-null     object\n",
            " 11  Unnamed: 11  16 non-null     object\n",
            "dtypes: object(12)\n",
            "memory usage: 1.6+ KB\n"
          ]
        }
      ]
    },
    {
      "cell_type": "code",
      "source": [
        "financial_data=pd.read_csv(\"/content/Financials.csv\")\n",
        "financial_data"
      ],
      "metadata": {
        "colab": {
          "base_uri": "https://localhost:8080/",
          "height": 519
        },
        "id": "cGS-Te2uR_g9",
        "outputId": "7e04ca54-161b-4e74-955a-d049c03bd65e"
      },
      "execution_count": 9,
      "outputs": [
        {
          "output_type": "execute_result",
          "data": {
            "text/plain": [
              "          Date    WBC    ANZ\n",
              "0   31/12/2008  16.86  15.29\n",
              "1   31/12/2009  25.13  22.88\n",
              "2   31/12/2010  22.06  23.35\n",
              "3   31/12/2011  19.86  20.53\n",
              "4   31/12/2012  25.86  25.05\n",
              "5   31/12/2013  32.16  32.23\n",
              "6   31/12/2014  32.94  32.09\n",
              "7   31/12/2015  33.56  27.93\n",
              "8   31/12/2016  32.60  30.42\n",
              "9   31/12/2017  31.35  28.74\n",
              "10  31/12/2018  25.04  24.46\n",
              "11  31/12/2019  24.23  24.63\n",
              "12  31/12/2020  19.37  22.70\n",
              "13  31/12/2021  21.35  27.51\n",
              "14  30/12/2022  23.35  23.66"
            ],
            "text/html": [
              "\n",
              "  <div id=\"df-2717685a-0ad7-4774-bd3b-0fd02f05e5b1\">\n",
              "    <div class=\"colab-df-container\">\n",
              "      <div>\n",
              "<style scoped>\n",
              "    .dataframe tbody tr th:only-of-type {\n",
              "        vertical-align: middle;\n",
              "    }\n",
              "\n",
              "    .dataframe tbody tr th {\n",
              "        vertical-align: top;\n",
              "    }\n",
              "\n",
              "    .dataframe thead th {\n",
              "        text-align: right;\n",
              "    }\n",
              "</style>\n",
              "<table border=\"1\" class=\"dataframe\">\n",
              "  <thead>\n",
              "    <tr style=\"text-align: right;\">\n",
              "      <th></th>\n",
              "      <th>Date</th>\n",
              "      <th>WBC</th>\n",
              "      <th>ANZ</th>\n",
              "    </tr>\n",
              "  </thead>\n",
              "  <tbody>\n",
              "    <tr>\n",
              "      <th>0</th>\n",
              "      <td>31/12/2008</td>\n",
              "      <td>16.86</td>\n",
              "      <td>15.29</td>\n",
              "    </tr>\n",
              "    <tr>\n",
              "      <th>1</th>\n",
              "      <td>31/12/2009</td>\n",
              "      <td>25.13</td>\n",
              "      <td>22.88</td>\n",
              "    </tr>\n",
              "    <tr>\n",
              "      <th>2</th>\n",
              "      <td>31/12/2010</td>\n",
              "      <td>22.06</td>\n",
              "      <td>23.35</td>\n",
              "    </tr>\n",
              "    <tr>\n",
              "      <th>3</th>\n",
              "      <td>31/12/2011</td>\n",
              "      <td>19.86</td>\n",
              "      <td>20.53</td>\n",
              "    </tr>\n",
              "    <tr>\n",
              "      <th>4</th>\n",
              "      <td>31/12/2012</td>\n",
              "      <td>25.86</td>\n",
              "      <td>25.05</td>\n",
              "    </tr>\n",
              "    <tr>\n",
              "      <th>5</th>\n",
              "      <td>31/12/2013</td>\n",
              "      <td>32.16</td>\n",
              "      <td>32.23</td>\n",
              "    </tr>\n",
              "    <tr>\n",
              "      <th>6</th>\n",
              "      <td>31/12/2014</td>\n",
              "      <td>32.94</td>\n",
              "      <td>32.09</td>\n",
              "    </tr>\n",
              "    <tr>\n",
              "      <th>7</th>\n",
              "      <td>31/12/2015</td>\n",
              "      <td>33.56</td>\n",
              "      <td>27.93</td>\n",
              "    </tr>\n",
              "    <tr>\n",
              "      <th>8</th>\n",
              "      <td>31/12/2016</td>\n",
              "      <td>32.60</td>\n",
              "      <td>30.42</td>\n",
              "    </tr>\n",
              "    <tr>\n",
              "      <th>9</th>\n",
              "      <td>31/12/2017</td>\n",
              "      <td>31.35</td>\n",
              "      <td>28.74</td>\n",
              "    </tr>\n",
              "    <tr>\n",
              "      <th>10</th>\n",
              "      <td>31/12/2018</td>\n",
              "      <td>25.04</td>\n",
              "      <td>24.46</td>\n",
              "    </tr>\n",
              "    <tr>\n",
              "      <th>11</th>\n",
              "      <td>31/12/2019</td>\n",
              "      <td>24.23</td>\n",
              "      <td>24.63</td>\n",
              "    </tr>\n",
              "    <tr>\n",
              "      <th>12</th>\n",
              "      <td>31/12/2020</td>\n",
              "      <td>19.37</td>\n",
              "      <td>22.70</td>\n",
              "    </tr>\n",
              "    <tr>\n",
              "      <th>13</th>\n",
              "      <td>31/12/2021</td>\n",
              "      <td>21.35</td>\n",
              "      <td>27.51</td>\n",
              "    </tr>\n",
              "    <tr>\n",
              "      <th>14</th>\n",
              "      <td>30/12/2022</td>\n",
              "      <td>23.35</td>\n",
              "      <td>23.66</td>\n",
              "    </tr>\n",
              "  </tbody>\n",
              "</table>\n",
              "</div>\n",
              "      <button class=\"colab-df-convert\" onclick=\"convertToInteractive('df-2717685a-0ad7-4774-bd3b-0fd02f05e5b1')\"\n",
              "              title=\"Convert this dataframe to an interactive table.\"\n",
              "              style=\"display:none;\">\n",
              "        \n",
              "  <svg xmlns=\"http://www.w3.org/2000/svg\" height=\"24px\"viewBox=\"0 0 24 24\"\n",
              "       width=\"24px\">\n",
              "    <path d=\"M0 0h24v24H0V0z\" fill=\"none\"/>\n",
              "    <path d=\"M18.56 5.44l.94 2.06.94-2.06 2.06-.94-2.06-.94-.94-2.06-.94 2.06-2.06.94zm-11 1L8.5 8.5l.94-2.06 2.06-.94-2.06-.94L8.5 2.5l-.94 2.06-2.06.94zm10 10l.94 2.06.94-2.06 2.06-.94-2.06-.94-.94-2.06-.94 2.06-2.06.94z\"/><path d=\"M17.41 7.96l-1.37-1.37c-.4-.4-.92-.59-1.43-.59-.52 0-1.04.2-1.43.59L10.3 9.45l-7.72 7.72c-.78.78-.78 2.05 0 2.83L4 21.41c.39.39.9.59 1.41.59.51 0 1.02-.2 1.41-.59l7.78-7.78 2.81-2.81c.8-.78.8-2.07 0-2.86zM5.41 20L4 18.59l7.72-7.72 1.47 1.35L5.41 20z\"/>\n",
              "  </svg>\n",
              "      </button>\n",
              "      \n",
              "  <style>\n",
              "    .colab-df-container {\n",
              "      display:flex;\n",
              "      flex-wrap:wrap;\n",
              "      gap: 12px;\n",
              "    }\n",
              "\n",
              "    .colab-df-convert {\n",
              "      background-color: #E8F0FE;\n",
              "      border: none;\n",
              "      border-radius: 50%;\n",
              "      cursor: pointer;\n",
              "      display: none;\n",
              "      fill: #1967D2;\n",
              "      height: 32px;\n",
              "      padding: 0 0 0 0;\n",
              "      width: 32px;\n",
              "    }\n",
              "\n",
              "    .colab-df-convert:hover {\n",
              "      background-color: #E2EBFA;\n",
              "      box-shadow: 0px 1px 2px rgba(60, 64, 67, 0.3), 0px 1px 3px 1px rgba(60, 64, 67, 0.15);\n",
              "      fill: #174EA6;\n",
              "    }\n",
              "\n",
              "    [theme=dark] .colab-df-convert {\n",
              "      background-color: #3B4455;\n",
              "      fill: #D2E3FC;\n",
              "    }\n",
              "\n",
              "    [theme=dark] .colab-df-convert:hover {\n",
              "      background-color: #434B5C;\n",
              "      box-shadow: 0px 1px 3px 1px rgba(0, 0, 0, 0.15);\n",
              "      filter: drop-shadow(0px 1px 2px rgba(0, 0, 0, 0.3));\n",
              "      fill: #FFFFFF;\n",
              "    }\n",
              "  </style>\n",
              "\n",
              "      <script>\n",
              "        const buttonEl =\n",
              "          document.querySelector('#df-2717685a-0ad7-4774-bd3b-0fd02f05e5b1 button.colab-df-convert');\n",
              "        buttonEl.style.display =\n",
              "          google.colab.kernel.accessAllowed ? 'block' : 'none';\n",
              "\n",
              "        async function convertToInteractive(key) {\n",
              "          const element = document.querySelector('#df-2717685a-0ad7-4774-bd3b-0fd02f05e5b1');\n",
              "          const dataTable =\n",
              "            await google.colab.kernel.invokeFunction('convertToInteractive',\n",
              "                                                     [key], {});\n",
              "          if (!dataTable) return;\n",
              "\n",
              "          const docLinkHtml = 'Like what you see? Visit the ' +\n",
              "            '<a target=\"_blank\" href=https://colab.research.google.com/notebooks/data_table.ipynb>data table notebook</a>'\n",
              "            + ' to learn more about interactive tables.';\n",
              "          element.innerHTML = '';\n",
              "          dataTable['output_type'] = 'display_data';\n",
              "          await google.colab.output.renderOutput(dataTable, element);\n",
              "          const docLink = document.createElement('div');\n",
              "          docLink.innerHTML = docLinkHtml;\n",
              "          element.appendChild(docLink);\n",
              "        }\n",
              "      </script>\n",
              "    </div>\n",
              "  </div>\n",
              "  "
            ]
          },
          "metadata": {},
          "execution_count": 9
        }
      ]
    },
    {
      "cell_type": "code",
      "source": [
        "sns.jointplot(x='WBC', y='ANZ', data=financial_data, kind='scatter', color='seagreen')"
      ],
      "metadata": {
        "id": "cpVKRGh7SUq4",
        "colab": {
          "base_uri": "https://localhost:8080/",
          "height": 459
        },
        "outputId": "f8bda7c5-29f4-45aa-b6c2-211fe92cc897"
      },
      "execution_count": 10,
      "outputs": [
        {
          "output_type": "execute_result",
          "data": {
            "text/plain": [
              "<seaborn.axisgrid.JointGrid at 0x7fd9764f52e0>"
            ]
          },
          "metadata": {},
          "execution_count": 10
        },
        {
          "output_type": "display_data",
          "data": {
            "text/plain": [
              "<Figure size 432x432 with 3 Axes>"
            ],
            "image/png": "[encoded data removed]"
          },
          "metadata": {}
        }
      ]
    },
    {
      "cell_type": "markdown",
      "source": [
        "From the table and chart, both stocks only shares a little correlation therefore are negatively correlated"
      ],
      "metadata": {
        "id": "_fLco8ZPT_2U"
      }
    },
    {
      "cell_type": "markdown",
      "source": [
        "**Trend of Closing stock from 2008-2022 for Healthcare Industry (CSL, RMD and SHL)**"
      ],
      "metadata": {
        "id": "qNB7JCcXUMUj"
      }
    },
    {
      "cell_type": "code",
      "source": [
        "Healthcare_dataframe=pd.read_csv(\"/content/HEALTHCARE.csv\")\n",
        "Healthcare_dataframe"
      ],
      "metadata": {
        "id": "XqGf2RBZUeV8",
        "colab": {
          "base_uri": "https://localhost:8080/",
          "height": 519
        },
        "outputId": "6902cb12-6102-489e-c0c0-a43f1bbe78b9"
      },
      "execution_count": 12,
      "outputs": [
        {
          "output_type": "execute_result",
          "data": {
            "text/plain": [
              "          Date     CSL    RMD    SHL\n",
              "0   31/12/2008   33.70   2.68  14.56\n",
              "1   31/12/2009   32.49   2.96  15.37\n",
              "2   31/12/2010   36.29   3.49  11.60\n",
              "3   31/12/2011   32.00   2.47  11.28\n",
              "4   31/12/2012   53.90   3.94  13.33\n",
              "5   31/12/2013   68.96   5.30  16.58\n",
              "6   31/12/2014   86.68   6.94  18.50\n",
              "7   31/12/2015  105.31   7.44  17.87\n",
              "8   31/12/2016  100.41   8.58  21.40\n",
              "9   31/12/2017  141.30  10.99  22.86\n",
              "10  31/12/2018  185.16  15.92  22.11\n",
              "11  31/12/2019  275.76  21.90  28.75\n",
              "12  31/12/2020  283.18  27.23  32.15\n",
              "13  31/12/2021  290.72  35.78  37.91\n",
              "14  30/12/2022  287.76  30.96  29.97"
            ],
            "text/html": [
              "\n",
              "  <div id=\"df-de75fa07-5026-4f86-b83b-a51996aeb7dc\">\n",
              "    <div class=\"colab-df-container\">\n",
              "      <div>\n",
              "<style scoped>\n",
              "    .dataframe tbody tr th:only-of-type {\n",
              "        vertical-align: middle;\n",
              "    }\n",
              "\n",
              "    .dataframe tbody tr th {\n",
              "        vertical-align: top;\n",
              "    }\n",
              "\n",
              "    .dataframe thead th {\n",
              "        text-align: right;\n",
              "    }\n",
              "</style>\n",
              "<table border=\"1\" class=\"dataframe\">\n",
              "  <thead>\n",
              "    <tr style=\"text-align: right;\">\n",
              "      <th></th>\n",
              "      <th>Date</th>\n",
              "      <th>CSL</th>\n",
              "      <th>RMD</th>\n",
              "      <th>SHL</th>\n",
              "    </tr>\n",
              "  </thead>\n",
              "  <tbody>\n",
              "    <tr>\n",
              "      <th>0</th>\n",
              "      <td>31/12/2008</td>\n",
              "      <td>33.70</td>\n",
              "      <td>2.68</td>\n",
              "      <td>14.56</td>\n",
              "    </tr>\n",
              "    <tr>\n",
              "      <th>1</th>\n",
              "      <td>31/12/2009</td>\n",
              "      <td>32.49</td>\n",
              "      <td>2.96</td>\n",
              "      <td>15.37</td>\n",
              "    </tr>\n",
              "    <tr>\n",
              "      <th>2</th>\n",
              "      <td>31/12/2010</td>\n",
              "      <td>36.29</td>\n",
              "      <td>3.49</td>\n",
              "      <td>11.60</td>\n",
              "    </tr>\n",
              "    <tr>\n",
              "      <th>3</th>\n",
              "      <td>31/12/2011</td>\n",
              "      <td>32.00</td>\n",
              "      <td>2.47</td>\n",
              "      <td>11.28</td>\n",
              "    </tr>\n",
              "    <tr>\n",
              "      <th>4</th>\n",
              "      <td>31/12/2012</td>\n",
              "      <td>53.90</td>\n",
              "      <td>3.94</td>\n",
              "      <td>13.33</td>\n",
              "    </tr>\n",
              "    <tr>\n",
              "      <th>5</th>\n",
              "      <td>31/12/2013</td>\n",
              "      <td>68.96</td>\n",
              "      <td>5.30</td>\n",
              "      <td>16.58</td>\n",
              "    </tr>\n",
              "    <tr>\n",
              "      <th>6</th>\n",
              "      <td>31/12/2014</td>\n",
              "      <td>86.68</td>\n",
              "      <td>6.94</td>\n",
              "      <td>18.50</td>\n",
              "    </tr>\n",
              "    <tr>\n",
              "      <th>7</th>\n",
              "      <td>31/12/2015</td>\n",
              "      <td>105.31</td>\n",
              "      <td>7.44</td>\n",
              "      <td>17.87</td>\n",
              "    </tr>\n",
              "    <tr>\n",
              "      <th>8</th>\n",
              "      <td>31/12/2016</td>\n",
              "      <td>100.41</td>\n",
              "      <td>8.58</td>\n",
              "      <td>21.40</td>\n",
              "    </tr>\n",
              "    <tr>\n",
              "      <th>9</th>\n",
              "      <td>31/12/2017</td>\n",
              "      <td>141.30</td>\n",
              "      <td>10.99</td>\n",
              "      <td>22.86</td>\n",
              "    </tr>\n",
              "    <tr>\n",
              "      <th>10</th>\n",
              "      <td>31/12/2018</td>\n",
              "      <td>185.16</td>\n",
              "      <td>15.92</td>\n",
              "      <td>22.11</td>\n",
              "    </tr>\n",
              "    <tr>\n",
              "      <th>11</th>\n",
              "      <td>31/12/2019</td>\n",
              "      <td>275.76</td>\n",
              "      <td>21.90</td>\n",
              "      <td>28.75</td>\n",
              "    </tr>\n",
              "    <tr>\n",
              "      <th>12</th>\n",
              "      <td>31/12/2020</td>\n",
              "      <td>283.18</td>\n",
              "      <td>27.23</td>\n",
              "      <td>32.15</td>\n",
              "    </tr>\n",
              "    <tr>\n",
              "      <th>13</th>\n",
              "      <td>31/12/2021</td>\n",
              "      <td>290.72</td>\n",
              "      <td>35.78</td>\n",
              "      <td>37.91</td>\n",
              "    </tr>\n",
              "    <tr>\n",
              "      <th>14</th>\n",
              "      <td>30/12/2022</td>\n",
              "      <td>287.76</td>\n",
              "      <td>30.96</td>\n",
              "      <td>29.97</td>\n",
              "    </tr>\n",
              "  </tbody>\n",
              "</table>\n",
              "</div>\n",
              "      <button class=\"colab-df-convert\" onclick=\"convertToInteractive('df-de75fa07-5026-4f86-b83b-a51996aeb7dc')\"\n",
              "              title=\"Convert this dataframe to an interactive table.\"\n",
              "              style=\"display:none;\">\n",
              "        \n",
              "  <svg xmlns=\"http://www.w3.org/2000/svg\" height=\"24px\"viewBox=\"0 0 24 24\"\n",
              "       width=\"24px\">\n",
              "    <path d=\"M0 0h24v24H0V0z\" fill=\"none\"/>\n",
              "    <path d=\"M18.56 5.44l.94 2.06.94-2.06 2.06-.94-2.06-.94-.94-2.06-.94 2.06-2.06.94zm-11 1L8.5 8.5l.94-2.06 2.06-.94-2.06-.94L8.5 2.5l-.94 2.06-2.06.94zm10 10l.94 2.06.94-2.06 2.06-.94-2.06-.94-.94-2.06-.94 2.06-2.06.94z\"/><path d=\"M17.41 7.96l-1.37-1.37c-.4-.4-.92-.59-1.43-.59-.52 0-1.04.2-1.43.59L10.3 9.45l-7.72 7.72c-.78.78-.78 2.05 0 2.83L4 21.41c.39.39.9.59 1.41.59.51 0 1.02-.2 1.41-.59l7.78-7.78 2.81-2.81c.8-.78.8-2.07 0-2.86zM5.41 20L4 18.59l7.72-7.72 1.47 1.35L5.41 20z\"/>\n",
              "  </svg>\n",
              "      </button>\n",
              "      \n",
              "  <style>\n",
              "    .colab-df-container {\n",
              "      display:flex;\n",
              "      flex-wrap:wrap;\n",
              "      gap: 12px;\n",
              "    }\n",
              "\n",
              "    .colab-df-convert {\n",
              "      background-color: #E8F0FE;\n",
              "      border: none;\n",
              "      border-radius: 50%;\n",
              "      cursor: pointer;\n",
              "      display: none;\n",
              "      fill: #1967D2;\n",
              "      height: 32px;\n",
              "      padding: 0 0 0 0;\n",
              "      width: 32px;\n",
              "    }\n",
              "\n",
              "    .colab-df-convert:hover {\n",
              "      background-color: #E2EBFA;\n",
              "      box-shadow: 0px 1px 2px rgba(60, 64, 67, 0.3), 0px 1px 3px 1px rgba(60, 64, 67, 0.15);\n",
              "      fill: #174EA6;\n",
              "    }\n",
              "\n",
              "    [theme=dark] .colab-df-convert {\n",
              "      background-color: #3B4455;\n",
              "      fill: #D2E3FC;\n",
              "    }\n",
              "\n",
              "    [theme=dark] .colab-df-convert:hover {\n",
              "      background-color: #434B5C;\n",
              "      box-shadow: 0px 1px 3px 1px rgba(0, 0, 0, 0.15);\n",
              "      filter: drop-shadow(0px 1px 2px rgba(0, 0, 0, 0.3));\n",
              "      fill: #FFFFFF;\n",
              "    }\n",
              "  </style>\n",
              "\n",
              "      <script>\n",
              "        const buttonEl =\n",
              "          document.querySelector('#df-de75fa07-5026-4f86-b83b-a51996aeb7dc button.colab-df-convert');\n",
              "        buttonEl.style.display =\n",
              "          google.colab.kernel.accessAllowed ? 'block' : 'none';\n",
              "\n",
              "        async function convertToInteractive(key) {\n",
              "          const element = document.querySelector('#df-de75fa07-5026-4f86-b83b-a51996aeb7dc');\n",
              "          const dataTable =\n",
              "            await google.colab.kernel.invokeFunction('convertToInteractive',\n",
              "                                                     [key], {});\n",
              "          if (!dataTable) return;\n",
              "\n",
              "          const docLinkHtml = 'Like what you see? Visit the ' +\n",
              "            '<a target=\"_blank\" href=https://colab.research.google.com/notebooks/data_table.ipynb>data table notebook</a>'\n",
              "            + ' to learn more about interactive tables.';\n",
              "          element.innerHTML = '';\n",
              "          dataTable['output_type'] = 'display_data';\n",
              "          await google.colab.output.renderOutput(dataTable, element);\n",
              "          const docLink = document.createElement('div');\n",
              "          docLink.innerHTML = docLinkHtml;\n",
              "          element.appendChild(docLink);\n",
              "        }\n",
              "      </script>\n",
              "    </div>\n",
              "  </div>\n",
              "  "
            ]
          },
          "metadata": {},
          "execution_count": 12
        }
      ]
    },
    {
      "cell_type": "markdown",
      "source": [
        "CSL ANNUAL CLOSING STOCK FROM 2008 TO 2022"
      ],
      "metadata": {
        "id": "PkdlorGtanoB"
      }
    },
    {
      "cell_type": "code",
      "source": [
        "plot = pd.DataFrame ({\"plot_date\": ['31/12/2008', '31/12/2009', '31/12/2010', '31/12/2011', '31/12/2012', '31/12/2013', '31/12/2014', '31/12/2015', '31/12/2016', '31/12/2017', '31/12/2018', '31/12/2019', '31/12/2020', '31/12/2021', '31/12/2022'],\n",
        "\"plot_no\": [33.70, 32.49, 36.29, 32, 53.90, 68.96, 86.68, 105.31, 100.41, 141.30, 186.16, 275.76, 283.18, 290.72, 287.76]})\n",
        "plt.figure (figsize = (20, 3))\n",
        "sns.lineplot (x = 'Date', y = 'CSL', data = Healthcare_dataframe)\n",
        "plt.show ()"
      ],
      "metadata": {
        "id": "lUYyWF8zVzTp",
        "colab": {
          "base_uri": "https://localhost:8080/",
          "height": 144
        },
        "outputId": "e07dbe4a-b65e-41af-89c9-a7279c57492b"
      },
      "execution_count": 13,
      "outputs": [
        {
          "output_type": "display_data",
          "data": {
            "text/plain": [
              "<Figure size 1440x216 with 1 Axes>"
            ],
            "image/png": "[encoded data removed]"
          },
          "metadata": {}
        }
      ]
    },
    {
      "cell_type": "markdown",
      "source": [
        "RMD ANNUAL CLOSING STOCK FROM 2008 TO 2022"
      ],
      "metadata": {
        "id": "W86vIfnfa-0-"
      }
    },
    {
      "cell_type": "code",
      "source": [
        "plot = pd.DataFrame ({\"plot_date\": ['31/12/2008', '31/12/2009', '31/12/2010', '31/12/2011', '31/12/2012', '31/12/2013', '31/12/2014', '31/12/2015', '31/12/2016', '31/12/2017', '31/12/2018', '31/12/2019', '31/12/2020', '31/12/2021', '31/12/2022'],\n",
        "\"plot_no\": [2.68, 2.96, 3.49,2.47,3.94,5.30,6.94,7.44,8.58,10.99,15.92,21.90,27.23,35.78,30.96]})\n",
        "plt.figure (figsize = (20, 3))\n",
        "sns.lineplot (x = 'Date', y = 'RMD', data = Healthcare_dataframe)\n",
        "plt.show ()"
      ],
      "metadata": {
        "id": "NGd6PbrFbGKz",
        "colab": {
          "base_uri": "https://localhost:8080/",
          "height": 143
        },
        "outputId": "06eaa30c-d9e3-43a3-c551-59548046437c"
      },
      "execution_count": 14,
      "outputs": [
        {
          "output_type": "display_data",
          "data": {
            "text/plain": [
              "<Figure size 1440x216 with 1 Axes>"
            ],
            "image/png": "[encoded data removed]"
          },
          "metadata": {}
        }
      ]
    },
    {
      "cell_type": "markdown",
      "source": [
        "SHL ANNUAL CLOSING STOCK FROM 2008 TO 2022"
      ],
      "metadata": {
        "id": "06gs440qdEOa"
      }
    },
    {
      "cell_type": "code",
      "source": [
        "plot = pd.DataFrame ({\"plot_date\": ['31/12/2008', '31/12/2009', '31/12/2010', '31/12/2011', '31/12/2012', '31/12/2013', '31/12/2014', '31/12/2015', '31/12/2016', '31/12/2017', '31/12/2018', '31/12/2019', '31/12/2020', '31/12/2021', '31/12/2022'],\n",
        "\"plot_no\": [14.56, 15.37, 11.60,11.28,13.33,16.58,18.50,17.87, 21.40,22.86, 22.11,28.75,32.15,37.91,29.97]})\n",
        "plt.figure (figsize = (20, 3))\n",
        "sns.lineplot (x = 'Date', y = 'SHL', data = Healthcare_dataframe)\n",
        "plt.show ()"
      ],
      "metadata": {
        "id": "R32wlFH5dDXq",
        "colab": {
          "base_uri": "https://localhost:8080/",
          "height": 143
        },
        "outputId": "0bfae518-c97b-415d-9144-b1b8cda01cce"
      },
      "execution_count": 15,
      "outputs": [
        {
          "output_type": "display_data",
          "data": {
            "text/plain": [
              "<Figure size 1440x216 with 1 Axes>"
            ],
            "image/png": "[encoded data removed]"
          },
          "metadata": {}
        }
      ]
    },
    {
      "cell_type": "markdown",
      "source": [
        "From the above lineplots,all the three stocks from the healthcare industry have been increasing. While CSL and RML has over 2008- 2022 recorded over times 10 closing stock price increase, they are said to be positively correlated.\n",
        "\n",
        "Since SHL has recorded at least times 2 increase, it shares a positive correlation with CSL.\n",
        "It also shares positive correlation with RMD. "
      ],
      "metadata": {
        "id": "9q4GvcpZhTPe"
      }
    },
    {
      "cell_type": "code",
      "source": [
        "sns.pairplot(Healthcare_dataframe, kind='reg')"
      ],
      "metadata": {
        "id": "QTkBojlVh-Aq",
        "colab": {
          "base_uri": "https://localhost:8080/",
          "height": 568
        },
        "outputId": "85ba3a97-c216-4ce1-ad8d-1e2a35547569"
      },
      "execution_count": 16,
      "outputs": [
        {
          "output_type": "execute_result",
          "data": {
            "text/plain": [
              "<seaborn.axisgrid.PairGrid at 0x7fd973b3e910>"
            ]
          },
          "metadata": {},
          "execution_count": 16
        },
        {
          "output_type": "display_data",
          "data": {
            "text/plain": [
              "<Figure size 540x540 with 12 Axes>"
            ],
            "image/png": "[encoded data removed]"
          },
          "metadata": {}
        }
      ]
    },
    {
      "cell_type": "markdown",
      "source": [
        "**Trend of Closing stock from 2008-2022 for Real Estate Industry (GMG and DXS)**"
      ],
      "metadata": {
        "id": "basKL7Z0jklY"
      }
    },
    {
      "cell_type": "code",
      "source": [
        "realestate_dataframe=pd.read_csv(\"/content/realestate-frame.csv\")\n",
        "realestate_dataframe"
      ],
      "metadata": {
        "id": "NQSp0hYXmEGg",
        "colab": {
          "base_uri": "https://localhost:8080/",
          "height": 519
        },
        "outputId": "235828e5-3c86-43c6-efae-78575b17bf3a"
      },
      "execution_count": 17,
      "outputs": [
        {
          "output_type": "execute_result",
          "data": {
            "text/plain": [
              "          Date    DXS     GMG\n",
              "0   31/12/2008   4.68   3.360\n",
              "1   31/12/2009   5.09   3.175\n",
              "2   31/12/2010   4.76   3.250\n",
              "3   31/12/2011   4.97   2.850\n",
              "4   31/12/2012   6.08   4.330\n",
              "5   31/12/2013   6.02   4.730\n",
              "6   31/12/2014   6.97   5.680\n",
              "7   31/12/2015   7.68   6.270\n",
              "8   31/12/2016   9.62   7.080\n",
              "9   31/12/2017   9.75   8.390\n",
              "10  31/12/2018  10.62  10.630\n",
              "11  31/12/2019  11.70  13.310\n",
              "12  31/12/2020   9.40  18.910\n",
              "13  31/12/2021  11.12  26.500\n",
              "14  30/12/2022   7.75  17.360"
            ],
            "text/html": [
              "\n",
              "  <div id=\"df-e30d0699-e13a-44da-bbc6-1b2d48b7c9cf\">\n",
              "    <div class=\"colab-df-container\">\n",
              "      <div>\n",
              "<style scoped>\n",
              "    .dataframe tbody tr th:only-of-type {\n",
              "        vertical-align: middle;\n",
              "    }\n",
              "\n",
              "    .dataframe tbody tr th {\n",
              "        vertical-align: top;\n",
              "    }\n",
              "\n",
              "    .dataframe thead th {\n",
              "        text-align: right;\n",
              "    }\n",
              "</style>\n",
              "<table border=\"1\" class=\"dataframe\">\n",
              "  <thead>\n",
              "    <tr style=\"text-align: right;\">\n",
              "      <th></th>\n",
              "      <th>Date</th>\n",
              "      <th>DXS</th>\n",
              "      <th>GMG</th>\n",
              "    </tr>\n",
              "  </thead>\n",
              "  <tbody>\n",
              "    <tr>\n",
              "      <th>0</th>\n",
              "      <td>31/12/2008</td>\n",
              "      <td>4.68</td>\n",
              "      <td>3.360</td>\n",
              "    </tr>\n",
              "    <tr>\n",
              "      <th>1</th>\n",
              "      <td>31/12/2009</td>\n",
              "      <td>5.09</td>\n",
              "      <td>3.175</td>\n",
              "    </tr>\n",
              "    <tr>\n",
              "      <th>2</th>\n",
              "      <td>31/12/2010</td>\n",
              "      <td>4.76</td>\n",
              "      <td>3.250</td>\n",
              "    </tr>\n",
              "    <tr>\n",
              "      <th>3</th>\n",
              "      <td>31/12/2011</td>\n",
              "      <td>4.97</td>\n",
              "      <td>2.850</td>\n",
              "    </tr>\n",
              "    <tr>\n",
              "      <th>4</th>\n",
              "      <td>31/12/2012</td>\n",
              "      <td>6.08</td>\n",
              "      <td>4.330</td>\n",
              "    </tr>\n",
              "    <tr>\n",
              "      <th>5</th>\n",
              "      <td>31/12/2013</td>\n",
              "      <td>6.02</td>\n",
              "      <td>4.730</td>\n",
              "    </tr>\n",
              "    <tr>\n",
              "      <th>6</th>\n",
              "      <td>31/12/2014</td>\n",
              "      <td>6.97</td>\n",
              "      <td>5.680</td>\n",
              "    </tr>\n",
              "    <tr>\n",
              "      <th>7</th>\n",
              "      <td>31/12/2015</td>\n",
              "      <td>7.68</td>\n",
              "      <td>6.270</td>\n",
              "    </tr>\n",
              "    <tr>\n",
              "      <th>8</th>\n",
              "      <td>31/12/2016</td>\n",
              "      <td>9.62</td>\n",
              "      <td>7.080</td>\n",
              "    </tr>\n",
              "    <tr>\n",
              "      <th>9</th>\n",
              "      <td>31/12/2017</td>\n",
              "      <td>9.75</td>\n",
              "      <td>8.390</td>\n",
              "    </tr>\n",
              "    <tr>\n",
              "      <th>10</th>\n",
              "      <td>31/12/2018</td>\n",
              "      <td>10.62</td>\n",
              "      <td>10.630</td>\n",
              "    </tr>\n",
              "    <tr>\n",
              "      <th>11</th>\n",
              "      <td>31/12/2019</td>\n",
              "      <td>11.70</td>\n",
              "      <td>13.310</td>\n",
              "    </tr>\n",
              "    <tr>\n",
              "      <th>12</th>\n",
              "      <td>31/12/2020</td>\n",
              "      <td>9.40</td>\n",
              "      <td>18.910</td>\n",
              "    </tr>\n",
              "    <tr>\n",
              "      <th>13</th>\n",
              "      <td>31/12/2021</td>\n",
              "      <td>11.12</td>\n",
              "      <td>26.500</td>\n",
              "    </tr>\n",
              "    <tr>\n",
              "      <th>14</th>\n",
              "      <td>30/12/2022</td>\n",
              "      <td>7.75</td>\n",
              "      <td>17.360</td>\n",
              "    </tr>\n",
              "  </tbody>\n",
              "</table>\n",
              "</div>\n",
              "      <button class=\"colab-df-convert\" onclick=\"convertToInteractive('df-e30d0699-e13a-44da-bbc6-1b2d48b7c9cf')\"\n",
              "              title=\"Convert this dataframe to an interactive table.\"\n",
              "              style=\"display:none;\">\n",
              "        \n",
              "  <svg xmlns=\"http://www.w3.org/2000/svg\" height=\"24px\"viewBox=\"0 0 24 24\"\n",
              "       width=\"24px\">\n",
              "    <path d=\"M0 0h24v24H0V0z\" fill=\"none\"/>\n",
              "    <path d=\"M18.56 5.44l.94 2.06.94-2.06 2.06-.94-2.06-.94-.94-2.06-.94 2.06-2.06.94zm-11 1L8.5 8.5l.94-2.06 2.06-.94-2.06-.94L8.5 2.5l-.94 2.06-2.06.94zm10 10l.94 2.06.94-2.06 2.06-.94-2.06-.94-.94-2.06-.94 2.06-2.06.94z\"/><path d=\"M17.41 7.96l-1.37-1.37c-.4-.4-.92-.59-1.43-.59-.52 0-1.04.2-1.43.59L10.3 9.45l-7.72 7.72c-.78.78-.78 2.05 0 2.83L4 21.41c.39.39.9.59 1.41.59.51 0 1.02-.2 1.41-.59l7.78-7.78 2.81-2.81c.8-.78.8-2.07 0-2.86zM5.41 20L4 18.59l7.72-7.72 1.47 1.35L5.41 20z\"/>\n",
              "  </svg>\n",
              "      </button>\n",
              "      \n",
              "  <style>\n",
              "    .colab-df-container {\n",
              "      display:flex;\n",
              "      flex-wrap:wrap;\n",
              "      gap: 12px;\n",
              "    }\n",
              "\n",
              "    .colab-df-convert {\n",
              "      background-color: #E8F0FE;\n",
              "      border: none;\n",
              "      border-radius: 50%;\n",
              "      cursor: pointer;\n",
              "      display: none;\n",
              "      fill: #1967D2;\n",
              "      height: 32px;\n",
              "      padding: 0 0 0 0;\n",
              "      width: 32px;\n",
              "    }\n",
              "\n",
              "    .colab-df-convert:hover {\n",
              "      background-color: #E2EBFA;\n",
              "      box-shadow: 0px 1px 2px rgba(60, 64, 67, 0.3), 0px 1px 3px 1px rgba(60, 64, 67, 0.15);\n",
              "      fill: #174EA6;\n",
              "    }\n",
              "\n",
              "    [theme=dark] .colab-df-convert {\n",
              "      background-color: #3B4455;\n",
              "      fill: #D2E3FC;\n",
              "    }\n",
              "\n",
              "    [theme=dark] .colab-df-convert:hover {\n",
              "      background-color: #434B5C;\n",
              "      box-shadow: 0px 1px 3px 1px rgba(0, 0, 0, 0.15);\n",
              "      filter: drop-shadow(0px 1px 2px rgba(0, 0, 0, 0.3));\n",
              "      fill: #FFFFFF;\n",
              "    }\n",
              "  </style>\n",
              "\n",
              "      <script>\n",
              "        const buttonEl =\n",
              "          document.querySelector('#df-e30d0699-e13a-44da-bbc6-1b2d48b7c9cf button.colab-df-convert');\n",
              "        buttonEl.style.display =\n",
              "          google.colab.kernel.accessAllowed ? 'block' : 'none';\n",
              "\n",
              "        async function convertToInteractive(key) {\n",
              "          const element = document.querySelector('#df-e30d0699-e13a-44da-bbc6-1b2d48b7c9cf');\n",
              "          const dataTable =\n",
              "            await google.colab.kernel.invokeFunction('convertToInteractive',\n",
              "                                                     [key], {});\n",
              "          if (!dataTable) return;\n",
              "\n",
              "          const docLinkHtml = 'Like what you see? Visit the ' +\n",
              "            '<a target=\"_blank\" href=https://colab.research.google.com/notebooks/data_table.ipynb>data table notebook</a>'\n",
              "            + ' to learn more about interactive tables.';\n",
              "          element.innerHTML = '';\n",
              "          dataTable['output_type'] = 'display_data';\n",
              "          await google.colab.output.renderOutput(dataTable, element);\n",
              "          const docLink = document.createElement('div');\n",
              "          docLink.innerHTML = docLinkHtml;\n",
              "          element.appendChild(docLink);\n",
              "        }\n",
              "      </script>\n",
              "    </div>\n",
              "  </div>\n",
              "  "
            ]
          },
          "metadata": {},
          "execution_count": 17
        }
      ]
    },
    {
      "cell_type": "code",
      "source": [
        "plot = pd.DataFrame ({\"plot_date\": ['31/12/2008', '31/12/2009', '31/12/2010', '31/12/2011', '31/12/2012', '31/12/2013', '31/12/2014', '31/12/2015', '31/12/2016', '31/12/2017', '31/12/2018', '31/12/2019', '31/12/2020', '31/12/2021', '31/12/2022'],\n",
        "\"plot_no\": [4.68, 5.09, 4.76, 4.97, 6.08,6.02,6.97,7.68, 9.62, 9.75, 10.62,11.70, 9.40, 11.12, 7.75 ]})\n",
        "plt.figure (figsize = (20, 3))\n",
        "sns.lineplot (x = 'Date', y = 'DXS', data = realestate_dataframe)\n",
        "plt.show ()"
      ],
      "metadata": {
        "id": "oGRzwFuZneXn",
        "colab": {
          "base_uri": "https://localhost:8080/",
          "height": 145
        },
        "outputId": "27700ecd-eb93-43b7-9850-0d631639fca3"
      },
      "execution_count": 21,
      "outputs": [
        {
          "output_type": "display_data",
          "data": {
            "text/plain": [
              "<Figure size 1440x216 with 1 Axes>"
            ],
            "image/png": "[encoded data removed]"
          },
          "metadata": {}
        }
      ]
    },
    {
      "cell_type": "code",
      "source": [
        "plot = pd.DataFrame ({\"plot_date\": ['31/12/2008', '31/12/2009', '31/12/2010', '31/12/2011', '31/12/2012', '31/12/2013', '31/12/2014', '31/12/2015', '31/12/2016', '31/12/2017', '31/12/2018', '31/12/2019', '31/12/2020', '31/12/2021', '31/12/2022'],\n",
        "\"plot_no\": [3.36, 3.175,3.25,2.85, 4.33,4.73,5.68, 6.27,7.08, 8.39, 10.63, 13.31, 18.91, 26.5, 17.36]})\n",
        "plt.figure (figsize = (20, 3))\n",
        "sns.lineplot (x = 'Date', y = 'GMG', data = realestate_dataframe)\n",
        "plt.show ()"
      ],
      "metadata": {
        "id": "MviczSiOpMLU",
        "colab": {
          "base_uri": "https://localhost:8080/",
          "height": 143
        },
        "outputId": "952f819a-d01b-4194-a58b-27d171146ff7"
      },
      "execution_count": 20,
      "outputs": [
        {
          "output_type": "display_data",
          "data": {
            "text/plain": [
              "<Figure size 1440x216 with 1 Axes>"
            ],
            "image/png": "[encoded data removed]"
          },
          "metadata": {}
        }
      ]
    },
    {
      "cell_type": "code",
      "source": [
        "sns.jointplot(x='DXS', y='GMG', data=realestate_dataframe, kind='scatter', color='blue')"
      ],
      "metadata": {
        "id": "L7L-sdNVh9xs",
        "colab": {
          "base_uri": "https://localhost:8080/",
          "height": 459
        },
        "outputId": "c2762053-fca2-4d42-ed59-e8c0a54afe05"
      },
      "execution_count": 19,
      "outputs": [
        {
          "output_type": "execute_result",
          "data": {
            "text/plain": [
              "<seaborn.axisgrid.JointGrid at 0x7fd9731c4160>"
            ]
          },
          "metadata": {},
          "execution_count": 19
        },
        {
          "output_type": "display_data",
          "data": {
            "text/plain": [
              "<Figure size 432x432 with 3 Axes>"
            ],
            "image/png": "[encoded data removed]"
          },
          "metadata": {}
        }
      ]
    },
    {
      "cell_type": "markdown",
      "source": [
        "The correlation between company within real estae is not a strong one but might require further analysis."
      ],
      "metadata": {
        "id": "Xn2zaj2ytNxE"
      }
    },
    {
      "cell_type": "markdown",
      "source": [
        "Trend of Closing stock from 2008-2022 for Telecomms/Energy Industry (TLS and AGL)\n",
        "\n"
      ],
      "metadata": {
        "id": "7JrYYZ-7tans"
      }
    },
    {
      "cell_type": "code",
      "source": [
        "df_telecomms=pd.read_csv(\"/content/telecomms.csv\")\n",
        "df_telecomms"
      ],
      "metadata": {
        "id": "gTDFylw841wY",
        "colab": {
          "base_uri": "https://localhost:8080/",
          "height": 519
        },
        "outputId": "b388cf78-33e6-40ca-ad7d-b26a268b00b3"
      },
      "execution_count": 18,
      "outputs": [
        {
          "output_type": "execute_result",
          "data": {
            "text/plain": [
              "          Date    AGL   TLS\n",
              "0   31/12/2008  14.15  3.83\n",
              "1   31/12/2009  13.04  3.43\n",
              "2   31/12/2010  14.12  2.79\n",
              "3   31/12/2011  13.29  3.33\n",
              "4   31/12/2012  14.74  4.37\n",
              "5   31/12/2013  14.40  5.25\n",
              "6   31/12/2014  13.36  5.97\n",
              "7   31/12/2015  18.08  5.61\n",
              "8   31/12/2016  22.09  5.10\n",
              "9   31/12/2017  24.36  3.63\n",
              "10  31/12/2018  20.06  2.85\n",
              "11  31/12/2019  20.53  3.54\n",
              "12  31/12/2020  11.95  2.98\n",
              "13  31/12/2021   6.14  4.18\n",
              "14  30/12/2022   8.07  3.99"
            ],
            "text/html": [
              "\n",
              "  <div id=\"df-4b1f3950-9a05-432b-9c3f-6e88dc1738e7\">\n",
              "    <div class=\"colab-df-container\">\n",
              "      <div>\n",
              "<style scoped>\n",
              "    .dataframe tbody tr th:only-of-type {\n",
              "        vertical-align: middle;\n",
              "    }\n",
              "\n",
              "    .dataframe tbody tr th {\n",
              "        vertical-align: top;\n",
              "    }\n",
              "\n",
              "    .dataframe thead th {\n",
              "        text-align: right;\n",
              "    }\n",
              "</style>\n",
              "<table border=\"1\" class=\"dataframe\">\n",
              "  <thead>\n",
              "    <tr style=\"text-align: right;\">\n",
              "      <th></th>\n",
              "      <th>Date</th>\n",
              "      <th>AGL</th>\n",
              "      <th>TLS</th>\n",
              "    </tr>\n",
              "  </thead>\n",
              "  <tbody>\n",
              "    <tr>\n",
              "      <th>0</th>\n",
              "      <td>31/12/2008</td>\n",
              "      <td>14.15</td>\n",
              "      <td>3.83</td>\n",
              "    </tr>\n",
              "    <tr>\n",
              "      <th>1</th>\n",
              "      <td>31/12/2009</td>\n",
              "      <td>13.04</td>\n",
              "      <td>3.43</td>\n",
              "    </tr>\n",
              "    <tr>\n",
              "      <th>2</th>\n",
              "      <td>31/12/2010</td>\n",
              "      <td>14.12</td>\n",
              "      <td>2.79</td>\n",
              "    </tr>\n",
              "    <tr>\n",
              "      <th>3</th>\n",
              "      <td>31/12/2011</td>\n",
              "      <td>13.29</td>\n",
              "      <td>3.33</td>\n",
              "    </tr>\n",
              "    <tr>\n",
              "      <th>4</th>\n",
              "      <td>31/12/2012</td>\n",
              "      <td>14.74</td>\n",
              "      <td>4.37</td>\n",
              "    </tr>\n",
              "    <tr>\n",
              "      <th>5</th>\n",
              "      <td>31/12/2013</td>\n",
              "      <td>14.40</td>\n",
              "      <td>5.25</td>\n",
              "    </tr>\n",
              "    <tr>\n",
              "      <th>6</th>\n",
              "      <td>31/12/2014</td>\n",
              "      <td>13.36</td>\n",
              "      <td>5.97</td>\n",
              "    </tr>\n",
              "    <tr>\n",
              "      <th>7</th>\n",
              "      <td>31/12/2015</td>\n",
              "      <td>18.08</td>\n",
              "      <td>5.61</td>\n",
              "    </tr>\n",
              "    <tr>\n",
              "      <th>8</th>\n",
              "      <td>31/12/2016</td>\n",
              "      <td>22.09</td>\n",
              "      <td>5.10</td>\n",
              "    </tr>\n",
              "    <tr>\n",
              "      <th>9</th>\n",
              "      <td>31/12/2017</td>\n",
              "      <td>24.36</td>\n",
              "      <td>3.63</td>\n",
              "    </tr>\n",
              "    <tr>\n",
              "      <th>10</th>\n",
              "      <td>31/12/2018</td>\n",
              "      <td>20.06</td>\n",
              "      <td>2.85</td>\n",
              "    </tr>\n",
              "    <tr>\n",
              "      <th>11</th>\n",
              "      <td>31/12/2019</td>\n",
              "      <td>20.53</td>\n",
              "      <td>3.54</td>\n",
              "    </tr>\n",
              "    <tr>\n",
              "      <th>12</th>\n",
              "      <td>31/12/2020</td>\n",
              "      <td>11.95</td>\n",
              "      <td>2.98</td>\n",
              "    </tr>\n",
              "    <tr>\n",
              "      <th>13</th>\n",
              "      <td>31/12/2021</td>\n",
              "      <td>6.14</td>\n",
              "      <td>4.18</td>\n",
              "    </tr>\n",
              "    <tr>\n",
              "      <th>14</th>\n",
              "      <td>30/12/2022</td>\n",
              "      <td>8.07</td>\n",
              "      <td>3.99</td>\n",
              "    </tr>\n",
              "  </tbody>\n",
              "</table>\n",
              "</div>\n",
              "      <button class=\"colab-df-convert\" onclick=\"convertToInteractive('df-4b1f3950-9a05-432b-9c3f-6e88dc1738e7')\"\n",
              "              title=\"Convert this dataframe to an interactive table.\"\n",
              "              style=\"display:none;\">\n",
              "        \n",
              "  <svg xmlns=\"http://www.w3.org/2000/svg\" height=\"24px\"viewBox=\"0 0 24 24\"\n",
              "       width=\"24px\">\n",
              "    <path d=\"M0 0h24v24H0V0z\" fill=\"none\"/>\n",
              "    <path d=\"M18.56 5.44l.94 2.06.94-2.06 2.06-.94-2.06-.94-.94-2.06-.94 2.06-2.06.94zm-11 1L8.5 8.5l.94-2.06 2.06-.94-2.06-.94L8.5 2.5l-.94 2.06-2.06.94zm10 10l.94 2.06.94-2.06 2.06-.94-2.06-.94-.94-2.06-.94 2.06-2.06.94z\"/><path d=\"M17.41 7.96l-1.37-1.37c-.4-.4-.92-.59-1.43-.59-.52 0-1.04.2-1.43.59L10.3 9.45l-7.72 7.72c-.78.78-.78 2.05 0 2.83L4 21.41c.39.39.9.59 1.41.59.51 0 1.02-.2 1.41-.59l7.78-7.78 2.81-2.81c.8-.78.8-2.07 0-2.86zM5.41 20L4 18.59l7.72-7.72 1.47 1.35L5.41 20z\"/>\n",
              "  </svg>\n",
              "      </button>\n",
              "      \n",
              "  <style>\n",
              "    .colab-df-container {\n",
              "      display:flex;\n",
              "      flex-wrap:wrap;\n",
              "      gap: 12px;\n",
              "    }\n",
              "\n",
              "    .colab-df-convert {\n",
              "      background-color: #E8F0FE;\n",
              "      border: none;\n",
              "      border-radius: 50%;\n",
              "      cursor: pointer;\n",
              "      display: none;\n",
              "      fill: #1967D2;\n",
              "      height: 32px;\n",
              "      padding: 0 0 0 0;\n",
              "      width: 32px;\n",
              "    }\n",
              "\n",
              "    .colab-df-convert:hover {\n",
              "      background-color: #E2EBFA;\n",
              "      box-shadow: 0px 1px 2px rgba(60, 64, 67, 0.3), 0px 1px 3px 1px rgba(60, 64, 67, 0.15);\n",
              "      fill: #174EA6;\n",
              "    }\n",
              "\n",
              "    [theme=dark] .colab-df-convert {\n",
              "      background-color: #3B4455;\n",
              "      fill: #D2E3FC;\n",
              "    }\n",
              "\n",
              "    [theme=dark] .colab-df-convert:hover {\n",
              "      background-color: #434B5C;\n",
              "      box-shadow: 0px 1px 3px 1px rgba(0, 0, 0, 0.15);\n",
              "      filter: drop-shadow(0px 1px 2px rgba(0, 0, 0, 0.3));\n",
              "      fill: #FFFFFF;\n",
              "    }\n",
              "  </style>\n",
              "\n",
              "      <script>\n",
              "        const buttonEl =\n",
              "          document.querySelector('#df-4b1f3950-9a05-432b-9c3f-6e88dc1738e7 button.colab-df-convert');\n",
              "        buttonEl.style.display =\n",
              "          google.colab.kernel.accessAllowed ? 'block' : 'none';\n",
              "\n",
              "        async function convertToInteractive(key) {\n",
              "          const element = document.querySelector('#df-4b1f3950-9a05-432b-9c3f-6e88dc1738e7');\n",
              "          const dataTable =\n",
              "            await google.colab.kernel.invokeFunction('convertToInteractive',\n",
              "                                                     [key], {});\n",
              "          if (!dataTable) return;\n",
              "\n",
              "          const docLinkHtml = 'Like what you see? Visit the ' +\n",
              "            '<a target=\"_blank\" href=https://colab.research.google.com/notebooks/data_table.ipynb>data table notebook</a>'\n",
              "            + ' to learn more about interactive tables.';\n",
              "          element.innerHTML = '';\n",
              "          dataTable['output_type'] = 'display_data';\n",
              "          await google.colab.output.renderOutput(dataTable, element);\n",
              "          const docLink = document.createElement('div');\n",
              "          docLink.innerHTML = docLinkHtml;\n",
              "          element.appendChild(docLink);\n",
              "        }\n",
              "      </script>\n",
              "    </div>\n",
              "  </div>\n",
              "  "
            ]
          },
          "metadata": {},
          "execution_count": 18
        }
      ]
    },
    {
      "cell_type": "code",
      "source": [
        "sns.jointplot(x='AGL', y='TLS', data=df_telecomms, kind='scatter', color='red')"
      ],
      "metadata": {
        "id": "X57-xBwt4Q19",
        "colab": {
          "base_uri": "https://localhost:8080/",
          "height": 459
        },
        "outputId": "6585c689-609c-444f-a125-26267a900971"
      },
      "execution_count": 22,
      "outputs": [
        {
          "output_type": "execute_result",
          "data": {
            "text/plain": [
              "<seaborn.axisgrid.JointGrid at 0x7fd973129fd0>"
            ]
          },
          "metadata": {},
          "execution_count": 22
        },
        {
          "output_type": "display_data",
          "data": {
            "text/plain": [
              "<Figure size 432x432 with 3 Axes>"
            ],
            "image/png": "[encoded data removed]"
          },
          "metadata": {}
        }
      ]
    },
    {
      "cell_type": "markdown",
      "source": [
        "Based on the scatterplot, the correlation is negative and need further analysis as there is no consistency in the increase or decrease relation betwen each company stock thus are independent of one another."
      ],
      "metadata": {
        "id": "G81L-Stv7Z8Z"
      }
    },
    {
      "cell_type": "markdown",
      "source": [
        "**Trend of Closing stock from 2008-2022 for Technology Industry (TNE and CPU)**"
      ],
      "metadata": {
        "id": "8uhIHkQe76Wf"
      }
    },
    {
      "cell_type": "code",
      "source": [
        "df_tech=pd.read_csv(\"/content/echnology.csv\")\n",
        "df_tech"
      ],
      "metadata": {
        "id": "Q4xPfGil9Rlc",
        "colab": {
          "base_uri": "https://localhost:8080/",
          "height": 519
        },
        "outputId": "7e2e2644-692b-4932-8b1d-0b8ec7fbc1d6"
      },
      "execution_count": 23,
      "outputs": [
        {
          "output_type": "execute_result",
          "data": {
            "text/plain": [
              "          Date    CPU    TNE\n",
              "0   31/12/2008   7.80   0.79\n",
              "1   31/12/2009  11.45   0.83\n",
              "2   31/12/2010  10.78   0.96\n",
              "3   31/12/2011   8.01   1.00\n",
              "4   31/12/2012   8.99   1.50\n",
              "5   31/12/2013  11.38   2.29\n",
              "6   31/12/2014  11.80   3.20\n",
              "7   31/12/2015  11.62   4.96\n",
              "8   31/12/2016  12.46   5.65\n",
              "9   31/12/2017  16.30   4.96\n",
              "10  31/12/2018  17.19   6.16\n",
              "11  31/12/2019  16.78   8.29\n",
              "12  31/12/2020  14.45   8.20\n",
              "13  31/12/2021  20.00  12.81\n",
              "14  30/12/2022  26.20  13.14"
            ],
            "text/html": [
              "\n",
              "  <div id=\"df-a37fd165-44a4-44e3-b75b-1cbfa1a97f65\">\n",
              "    <div class=\"colab-df-container\">\n",
              "      <div>\n",
              "<style scoped>\n",
              "    .dataframe tbody tr th:only-of-type {\n",
              "        vertical-align: middle;\n",
              "    }\n",
              "\n",
              "    .dataframe tbody tr th {\n",
              "        vertical-align: top;\n",
              "    }\n",
              "\n",
              "    .dataframe thead th {\n",
              "        text-align: right;\n",
              "    }\n",
              "</style>\n",
              "<table border=\"1\" class=\"dataframe\">\n",
              "  <thead>\n",
              "    <tr style=\"text-align: right;\">\n",
              "      <th></th>\n",
              "      <th>Date</th>\n",
              "      <th>CPU</th>\n",
              "      <th>TNE</th>\n",
              "    </tr>\n",
              "  </thead>\n",
              "  <tbody>\n",
              "    <tr>\n",
              "      <th>0</th>\n",
              "      <td>31/12/2008</td>\n",
              "      <td>7.80</td>\n",
              "      <td>0.79</td>\n",
              "    </tr>\n",
              "    <tr>\n",
              "      <th>1</th>\n",
              "      <td>31/12/2009</td>\n",
              "      <td>11.45</td>\n",
              "      <td>0.83</td>\n",
              "    </tr>\n",
              "    <tr>\n",
              "      <th>2</th>\n",
              "      <td>31/12/2010</td>\n",
              "      <td>10.78</td>\n",
              "      <td>0.96</td>\n",
              "    </tr>\n",
              "    <tr>\n",
              "      <th>3</th>\n",
              "      <td>31/12/2011</td>\n",
              "      <td>8.01</td>\n",
              "      <td>1.00</td>\n",
              "    </tr>\n",
              "    <tr>\n",
              "      <th>4</th>\n",
              "      <td>31/12/2012</td>\n",
              "      <td>8.99</td>\n",
              "      <td>1.50</td>\n",
              "    </tr>\n",
              "    <tr>\n",
              "      <th>5</th>\n",
              "      <td>31/12/2013</td>\n",
              "      <td>11.38</td>\n",
              "      <td>2.29</td>\n",
              "    </tr>\n",
              "    <tr>\n",
              "      <th>6</th>\n",
              "      <td>31/12/2014</td>\n",
              "      <td>11.80</td>\n",
              "      <td>3.20</td>\n",
              "    </tr>\n",
              "    <tr>\n",
              "      <th>7</th>\n",
              "      <td>31/12/2015</td>\n",
              "      <td>11.62</td>\n",
              "      <td>4.96</td>\n",
              "    </tr>\n",
              "    <tr>\n",
              "      <th>8</th>\n",
              "      <td>31/12/2016</td>\n",
              "      <td>12.46</td>\n",
              "      <td>5.65</td>\n",
              "    </tr>\n",
              "    <tr>\n",
              "      <th>9</th>\n",
              "      <td>31/12/2017</td>\n",
              "      <td>16.30</td>\n",
              "      <td>4.96</td>\n",
              "    </tr>\n",
              "    <tr>\n",
              "      <th>10</th>\n",
              "      <td>31/12/2018</td>\n",
              "      <td>17.19</td>\n",
              "      <td>6.16</td>\n",
              "    </tr>\n",
              "    <tr>\n",
              "      <th>11</th>\n",
              "      <td>31/12/2019</td>\n",
              "      <td>16.78</td>\n",
              "      <td>8.29</td>\n",
              "    </tr>\n",
              "    <tr>\n",
              "      <th>12</th>\n",
              "      <td>31/12/2020</td>\n",
              "      <td>14.45</td>\n",
              "      <td>8.20</td>\n",
              "    </tr>\n",
              "    <tr>\n",
              "      <th>13</th>\n",
              "      <td>31/12/2021</td>\n",
              "      <td>20.00</td>\n",
              "      <td>12.81</td>\n",
              "    </tr>\n",
              "    <tr>\n",
              "      <th>14</th>\n",
              "      <td>30/12/2022</td>\n",
              "      <td>26.20</td>\n",
              "      <td>13.14</td>\n",
              "    </tr>\n",
              "  </tbody>\n",
              "</table>\n",
              "</div>\n",
              "      <button class=\"colab-df-convert\" onclick=\"convertToInteractive('df-a37fd165-44a4-44e3-b75b-1cbfa1a97f65')\"\n",
              "              title=\"Convert this dataframe to an interactive table.\"\n",
              "              style=\"display:none;\">\n",
              "        \n",
              "  <svg xmlns=\"http://www.w3.org/2000/svg\" height=\"24px\"viewBox=\"0 0 24 24\"\n",
              "       width=\"24px\">\n",
              "    <path d=\"M0 0h24v24H0V0z\" fill=\"none\"/>\n",
              "    <path d=\"M18.56 5.44l.94 2.06.94-2.06 2.06-.94-2.06-.94-.94-2.06-.94 2.06-2.06.94zm-11 1L8.5 8.5l.94-2.06 2.06-.94-2.06-.94L8.5 2.5l-.94 2.06-2.06.94zm10 10l.94 2.06.94-2.06 2.06-.94-2.06-.94-.94-2.06-.94 2.06-2.06.94z\"/><path d=\"M17.41 7.96l-1.37-1.37c-.4-.4-.92-.59-1.43-.59-.52 0-1.04.2-1.43.59L10.3 9.45l-7.72 7.72c-.78.78-.78 2.05 0 2.83L4 21.41c.39.39.9.59 1.41.59.51 0 1.02-.2 1.41-.59l7.78-7.78 2.81-2.81c.8-.78.8-2.07 0-2.86zM5.41 20L4 18.59l7.72-7.72 1.47 1.35L5.41 20z\"/>\n",
              "  </svg>\n",
              "      </button>\n",
              "      \n",
              "  <style>\n",
              "    .colab-df-container {\n",
              "      display:flex;\n",
              "      flex-wrap:wrap;\n",
              "      gap: 12px;\n",
              "    }\n",
              "\n",
              "    .colab-df-convert {\n",
              "      background-color: #E8F0FE;\n",
              "      border: none;\n",
              "      border-radius: 50%;\n",
              "      cursor: pointer;\n",
              "      display: none;\n",
              "      fill: #1967D2;\n",
              "      height: 32px;\n",
              "      padding: 0 0 0 0;\n",
              "      width: 32px;\n",
              "    }\n",
              "\n",
              "    .colab-df-convert:hover {\n",
              "      background-color: #E2EBFA;\n",
              "      box-shadow: 0px 1px 2px rgba(60, 64, 67, 0.3), 0px 1px 3px 1px rgba(60, 64, 67, 0.15);\n",
              "      fill: #174EA6;\n",
              "    }\n",
              "\n",
              "    [theme=dark] .colab-df-convert {\n",
              "      background-color: #3B4455;\n",
              "      fill: #D2E3FC;\n",
              "    }\n",
              "\n",
              "    [theme=dark] .colab-df-convert:hover {\n",
              "      background-color: #434B5C;\n",
              "      box-shadow: 0px 1px 3px 1px rgba(0, 0, 0, 0.15);\n",
              "      filter: drop-shadow(0px 1px 2px rgba(0, 0, 0, 0.3));\n",
              "      fill: #FFFFFF;\n",
              "    }\n",
              "  </style>\n",
              "\n",
              "      <script>\n",
              "        const buttonEl =\n",
              "          document.querySelector('#df-a37fd165-44a4-44e3-b75b-1cbfa1a97f65 button.colab-df-convert');\n",
              "        buttonEl.style.display =\n",
              "          google.colab.kernel.accessAllowed ? 'block' : 'none';\n",
              "\n",
              "        async function convertToInteractive(key) {\n",
              "          const element = document.querySelector('#df-a37fd165-44a4-44e3-b75b-1cbfa1a97f65');\n",
              "          const dataTable =\n",
              "            await google.colab.kernel.invokeFunction('convertToInteractive',\n",
              "                                                     [key], {});\n",
              "          if (!dataTable) return;\n",
              "\n",
              "          const docLinkHtml = 'Like what you see? Visit the ' +\n",
              "            '<a target=\"_blank\" href=https://colab.research.google.com/notebooks/data_table.ipynb>data table notebook</a>'\n",
              "            + ' to learn more about interactive tables.';\n",
              "          element.innerHTML = '';\n",
              "          dataTable['output_type'] = 'display_data';\n",
              "          await google.colab.output.renderOutput(dataTable, element);\n",
              "          const docLink = document.createElement('div');\n",
              "          docLink.innerHTML = docLinkHtml;\n",
              "          element.appendChild(docLink);\n",
              "        }\n",
              "      </script>\n",
              "    </div>\n",
              "  </div>\n",
              "  "
            ]
          },
          "metadata": {},
          "execution_count": 23
        }
      ]
    },
    {
      "cell_type": "code",
      "source": [
        "sns.jointplot(x='CPU', y='TNE', data=df_tech, kind='scatter', color='purple')"
      ],
      "metadata": {
        "id": "tLJPIAzl9q7S",
        "colab": {
          "base_uri": "https://localhost:8080/",
          "height": 459
        },
        "outputId": "f20d6e28-9edf-48c4-8202-98ea687b8bc6"
      },
      "execution_count": 24,
      "outputs": [
        {
          "output_type": "execute_result",
          "data": {
            "text/plain": [
              "<seaborn.axisgrid.JointGrid at 0x7fd97334f850>"
            ]
          },
          "metadata": {},
          "execution_count": 24
        },
        {
          "output_type": "display_data",
          "data": {
            "text/plain": [
              "<Figure size 432x432 with 3 Axes>"
            ],
            "image/png": "[encoded data removed]"
          },
          "metadata": {}
        }
      ]
    },
    {
      "cell_type": "markdown",
      "source": [
        "From the above, the two company within the technology industry have positive correlation."
      ],
      "metadata": {
        "id": "U1xsLKdG92vt"
      }
    },
    {
      "cell_type": "markdown",
      "source": [
        "From all comparison above, the healthcare industry has the highest correlation thus below correlation plot shows the exact numerical value of their positive correlation. "
      ],
      "metadata": {
        "id": "6styj4cw-ZdH"
      }
    },
    {
      "cell_type": "code",
      "source": [
        "plt.figure(figsize=(15, 10))\n",
        "\n",
        "plt.subplot(2, 2, 1)\n",
        "sns.heatmap(Healthcare_dataframe.corr(), annot=True, cmap='autumn')\n",
        "plt.title('Correlation between Heathcare company annual closing price')\n",
        "\n"
      ],
      "metadata": {
        "id": "PQV4tt2-_BPw",
        "colab": {
          "base_uri": "https://localhost:8080/",
          "height": 329
        },
        "outputId": "14265ffa-a1c9-4970-a333-c66216653f02"
      },
      "execution_count": 25,
      "outputs": [
        {
          "output_type": "execute_result",
          "data": {
            "text/plain": [
              "Text(0.5, 1.0, 'Correlation between Heathcare company annual closing price')"
            ]
          },
          "metadata": {},
          "execution_count": 25
        },
        {
          "output_type": "display_data",
          "data": {
            "text/plain": [
              "<Figure size 1080x720 with 2 Axes>"
            ],
            "image/png": "[encoded data removed]"
          },
          "metadata": {}
        }
      ]
    },
    {
      "cell_type": "markdown",
      "source": [
        "The answer to the research question \"What pattern of behaviour does the closing price of stock for previous years and subsequent years has in common\" is that companies within the healthacre industry tends to be positively correlated in terms of increasing in closing price of stock over the years and the increase is consistent subject to data analysed.\n",
        "\n",
        "\n",
        "\n"
      ],
      "metadata": {
        "id": "kV7gK87E_AGB"
      }
    },
    {
      "cell_type": "markdown",
      "source": [
        "**Data preprocessing** "
      ],
      "metadata": {
        "id": "mJPqWaAI7W--"
      }
    },
    {
      "cell_type": "code",
      "source": [
        "data_close=data.filter([\"Open\"])  \n",
        "data_closes=data_close.values                     \n",
        "from sklearn.preprocessing import MinMaxScaler\n",
        "Scaler=MinMaxScaler(feature_range= (0,1))\n",
        "Scales_data=Scaler.fit_transform(data_closes)\n",
        "Scales_data"
      ],
      "metadata": {
        "id": "e9q2Z_VyIuY7",
        "colab": {
          "base_uri": "https://localhost:8080/",
          "height": 0
        },
        "outputId": "e11440df-0547-4c29-aa53-fd9e15f7678c"
      },
      "execution_count": 26,
      "outputs": [
        {
          "output_type": "execute_result",
          "data": {
            "text/plain": [
              "array([[0.40061528],\n",
              "       [0.3902322 ],\n",
              "       [0.38504068],\n",
              "       ...,\n",
              "       [0.13344813],\n",
              "       [0.13344813],\n",
              "       [0.13301765]])"
            ]
          },
          "metadata": {},
          "execution_count": 26
        }
      ]
    },
    {
      "cell_type": "code",
      "source": [
        "data_close.info()"
      ],
      "metadata": {
        "id": "ykpbarBLwMPh",
        "colab": {
          "base_uri": "https://localhost:8080/",
          "height": 0
        },
        "outputId": "65bd83ca-491f-4409-958d-b135b101da77"
      },
      "execution_count": 27,
      "outputs": [
        {
          "output_type": "stream",
          "name": "stdout",
          "text": [
            "<class 'pandas.core.frame.DataFrame'>\n",
            "RangeIndex: 3542 entries, 0 to 3541\n",
            "Data columns (total 1 columns):\n",
            " #   Column  Non-Null Count  Dtype  \n",
            "---  ------  --------------  -----  \n",
            " 0   Open    3542 non-null   float64\n",
            "dtypes: float64(1)\n",
            "memory usage: 27.8 KB\n"
          ]
        }
      ]
    },
    {
      "cell_type": "code",
      "source": [
        "data_close=data.filter([\"High\"])  \n",
        "data_closes=data_close.values                     \n",
        "from sklearn.preprocessing import MinMaxScaler\n",
        "Scaler=MinMaxScaler(feature_range= (0,1))\n",
        "Scales_data=Scaler.fit_transform(data_closes)\n",
        "Scales_data"
      ],
      "metadata": {
        "id": "tKONtKJ56u6n",
        "colab": {
          "base_uri": "https://localhost:8080/",
          "height": 0
        },
        "outputId": "30b864e9-3a7e-4d4d-c633-23470e3c576b"
      },
      "execution_count": 28,
      "outputs": [
        {
          "output_type": "execute_result",
          "data": {
            "text/plain": [
              "array([[0.39605902],\n",
              "       [0.39047776],\n",
              "       [0.38848442],\n",
              "       ...,\n",
              "       [0.13064032],\n",
              "       [0.12978084],\n",
              "       [0.13021058]])"
            ]
          },
          "metadata": {},
          "execution_count": 28
        }
      ]
    },
    {
      "cell_type": "code",
      "source": [
        "data_close=data.filter([\"Low\"])  \n",
        "data_closes=data_close.values                     \n",
        "from sklearn.preprocessing import MinMaxScaler\n",
        "Scaler=MinMaxScaler(feature_range= (0,1))\n",
        "Scales_data=Scaler.fit_transform(data_closes)\n",
        "Scales_data"
      ],
      "metadata": {
        "id": "nhtzXP5qf3l7",
        "colab": {
          "base_uri": "https://localhost:8080/",
          "height": 0
        },
        "outputId": "66f11bfa-4fac-4166-eaa3-e14c594c8089"
      },
      "execution_count": 29,
      "outputs": [
        {
          "output_type": "execute_result",
          "data": {
            "text/plain": [
              "array([[0.39896654],\n",
              "       [0.39120174],\n",
              "       [0.38915839],\n",
              "       ...,\n",
              "       [0.13436124],\n",
              "       [0.13436124],\n",
              "       [0.13083701]])"
            ]
          },
          "metadata": {},
          "execution_count": 29
        }
      ]
    },
    {
      "cell_type": "code",
      "source": [
        "data_close=data.filter([\"Close\"])  \n",
        "data_closes=data_close.values                     \n",
        "from sklearn.preprocessing import MinMaxScaler\n",
        "Scaler=MinMaxScaler(feature_range= (0,1))\n",
        "Scales_data=Scaler.fit_transform(data_closes)\n",
        "Scales_data"
      ],
      "metadata": {
        "id": "X5247ypv6pHi"
      },
      "execution_count": null,
      "outputs": []
    },
    {
      "cell_type": "code",
      "source": [
        "data_close=data.filter([\"Adj Close\"])  \n",
        "data_closes=data_close.values                     \n",
        "from sklearn.preprocessing import MinMaxScaler\n",
        "Scaler=MinMaxScaler(feature_range= (0,1))\n",
        "Scales_data=Scaler.fit_transform(data_closes)\n",
        "Scales_data"
      ],
      "metadata": {
        "id": "6ezeq0eI7N6s",
        "colab": {
          "base_uri": "https://localhost:8080/",
          "height": 0
        },
        "outputId": "37cb45a5-0ee8-424f-e892-13c9de6ffd5e"
      },
      "execution_count": 30,
      "outputs": [
        {
          "output_type": "execute_result",
          "data": {
            "text/plain": [
              "array([[0.16274641],\n",
              "       [0.16153898],\n",
              "       [0.15821847],\n",
              "       ...,\n",
              "       [0.19950952],\n",
              "       [0.19708314],\n",
              "       [0.19041058]])"
            ]
          },
          "metadata": {},
          "execution_count": 30
        }
      ]
    },
    {
      "cell_type": "code",
      "source": [
        "data_close=data.filter([\"Volume\"])  \n",
        "data_closes=data_close.values                     \n",
        "from sklearn.preprocessing import MinMaxScaler\n",
        "Scaler=MinMaxScaler(feature_range= (0,1))\n",
        "Scales_data=Scaler.fit_transform(data_closes)\n",
        "Scales_data"
      ],
      "metadata": {
        "id": "NzC2meux7j2-"
      },
      "execution_count": null,
      "outputs": []
    },
    {
      "cell_type": "markdown",
      "source": [
        "ANZ stocks"
      ],
      "metadata": {
        "id": "G10flw7VDV1R"
      }
    },
    {
      "cell_type": "code",
      "source": [
        "data_close=data.filter([\"Open\"])  \n",
        "data_closes=data_close.values                     \n",
        "from sklearn.preprocessing import MinMaxScaler\n",
        "Scaler=MinMaxScaler(feature_range= (0,1))\n",
        "Scales_data=Scaler.fit_transform(data_closes)\n",
        "Scales_data"
      ],
      "metadata": {
        "id": "-t_EuD8XCSYa",
        "colab": {
          "base_uri": "https://localhost:8080/",
          "height": 0
        },
        "outputId": "52d93b17-c54c-4f69-952b-06eba3797b95"
      },
      "execution_count": 31,
      "outputs": [
        {
          "output_type": "execute_result",
          "data": {
            "text/plain": [
              "array([[0.40061528],\n",
              "       [0.3902322 ],\n",
              "       [0.38504068],\n",
              "       ...,\n",
              "       [0.13344813],\n",
              "       [0.13344813],\n",
              "       [0.13301765]])"
            ]
          },
          "metadata": {},
          "execution_count": 31
        }
      ]
    },
    {
      "cell_type": "code",
      "source": [],
      "metadata": {
        "id": "lcCMzTUuCSSs"
      },
      "execution_count": 31,
      "outputs": []
    },
    {
      "cell_type": "code",
      "source": [
        "data_close=data.filter([\"High\"])  \n",
        "data_closes=data_close.values                     \n",
        "from sklearn.preprocessing import MinMaxScaler\n",
        "Scaler=MinMaxScaler(feature_range= (0,1))\n",
        "Scales_data=Scaler.fit_transform(data_closes)\n",
        "Scales_data"
      ],
      "metadata": {
        "id": "DCbtTwwLD35i",
        "colab": {
          "base_uri": "https://localhost:8080/",
          "height": 0
        },
        "outputId": "45c47cf3-f48a-434b-9e5e-c45e453be338"
      },
      "execution_count": 32,
      "outputs": [
        {
          "output_type": "execute_result",
          "data": {
            "text/plain": [
              "array([[0.39605902],\n",
              "       [0.39047776],\n",
              "       [0.38848442],\n",
              "       ...,\n",
              "       [0.13064032],\n",
              "       [0.12978084],\n",
              "       [0.13021058]])"
            ]
          },
          "metadata": {},
          "execution_count": 32
        }
      ]
    },
    {
      "cell_type": "code",
      "source": [
        "data_close=data.filter([\"Low\"])  \n",
        "data_closes=data_close.values                     \n",
        "from sklearn.preprocessing import MinMaxScaler\n",
        "Scaler=MinMaxScaler(feature_range= (0,1))\n",
        "Scales_data=Scaler.fit_transform(data_closes)\n",
        "Scales_data"
      ],
      "metadata": {
        "id": "vfp6usB6EC4-",
        "colab": {
          "base_uri": "https://localhost:8080/",
          "height": 0
        },
        "outputId": "389a4a68-8129-4a4c-a0d8-0e52a7504477"
      },
      "execution_count": 33,
      "outputs": [
        {
          "output_type": "execute_result",
          "data": {
            "text/plain": [
              "array([[0.39896654],\n",
              "       [0.39120174],\n",
              "       [0.38915839],\n",
              "       ...,\n",
              "       [0.13436124],\n",
              "       [0.13436124],\n",
              "       [0.13083701]])"
            ]
          },
          "metadata": {},
          "execution_count": 33
        }
      ]
    },
    {
      "cell_type": "code",
      "source": [
        "data_close=data.filter([\"Close\"])  \n",
        "data_closes=data_close.values                     \n",
        "from sklearn.preprocessing import MinMaxScaler\n",
        "Scaler=MinMaxScaler(feature_range= (0,1))\n",
        "Scales_data=Scaler.fit_transform(data_closes)\n",
        "Scales_data"
      ],
      "metadata": {
        "id": "8F1tutwBEJTR",
        "colab": {
          "base_uri": "https://localhost:8080/",
          "height": 0
        },
        "outputId": "32522086-b95e-45c2-a241-c86baf93a6c9"
      },
      "execution_count": 34,
      "outputs": [
        {
          "output_type": "execute_result",
          "data": {
            "text/plain": [
              "array([[0.38961644],\n",
              "       [0.38802655],\n",
              "       [0.38365444],\n",
              "       ...,\n",
              "       [0.13367609],\n",
              "       [0.13196229],\n",
              "       [0.12724935]])"
            ]
          },
          "metadata": {},
          "execution_count": 34
        }
      ]
    },
    {
      "cell_type": "code",
      "source": [
        "data_close=data.filter([\"Adj Close\"])  \n",
        "data_closes=data_close.values                     \n",
        "from sklearn.preprocessing import MinMaxScaler\n",
        "Scaler=MinMaxScaler(feature_range= (0,1))\n",
        "Scales_data=Scaler.fit_transform(data_closes)\n",
        "Scales_data"
      ],
      "metadata": {
        "id": "nXA3fMUlEOWA",
        "colab": {
          "base_uri": "https://localhost:8080/",
          "height": 0
        },
        "outputId": "c2001631-29fd-4a67-d5ec-bf9c617b141d"
      },
      "execution_count": 35,
      "outputs": [
        {
          "output_type": "execute_result",
          "data": {
            "text/plain": [
              "array([[0.16274641],\n",
              "       [0.16153898],\n",
              "       [0.15821847],\n",
              "       ...,\n",
              "       [0.19950952],\n",
              "       [0.19708314],\n",
              "       [0.19041058]])"
            ]
          },
          "metadata": {},
          "execution_count": 35
        }
      ]
    },
    {
      "cell_type": "code",
      "source": [
        "data_close=data.filter([\"Volume\"])  \n",
        "data_closes=data_close.values                     \n",
        "from sklearn.preprocessing import MinMaxScaler\n",
        "Scaler=MinMaxScaler(feature_range= (0,1))\n",
        "Scales_data=Scaler.fit_transform(data_closes)\n",
        "Scales_data"
      ],
      "metadata": {
        "id": "wzqoUBblEYt3",
        "colab": {
          "base_uri": "https://localhost:8080/",
          "height": 0
        },
        "outputId": "52025660-d77f-4762-e403-96079d5b0a19"
      },
      "execution_count": 36,
      "outputs": [
        {
          "output_type": "execute_result",
          "data": {
            "text/plain": [
              "array([[0.00271111],\n",
              "       [0.00627686],\n",
              "       [0.00327741],\n",
              "       ...,\n",
              "       [0.02387093],\n",
              "       [0.01097635],\n",
              "       [0.01919173]])"
            ]
          },
          "metadata": {},
          "execution_count": 36
        }
      ]
    },
    {
      "cell_type": "markdown",
      "source": [
        "CPU stock\n",
        "\n"
      ],
      "metadata": {
        "id": "Iza8BA9DH9pG"
      }
    },
    {
      "cell_type": "code",
      "source": [
        "data = pd.read_csv(\"/content/drive/MyDrive/SIT723 DOCS/Historical Data/CPU_AX.csv\")\n",
        "data"
      ],
      "metadata": {
        "id": "sQYfGhUdIOP4"
      },
      "execution_count": null,
      "outputs": []
    },
    {
      "cell_type": "code",
      "source": [
        "data_close=data.filter([\"Open\"])  \n",
        "data_closes=data_close.values                     \n",
        "from sklearn.preprocessing import MinMaxScaler\n",
        "Scaler=MinMaxScaler(feature_range= (0,1))\n",
        "Scales_data=Scaler.fit_transform(data_closes)\n",
        "Scales_data"
      ],
      "metadata": {
        "id": "hvY9yOCAIMB-",
        "colab": {
          "base_uri": "https://localhost:8080/",
          "height": 0
        },
        "outputId": "18d172db-816c-4793-9869-87a02ff3ac9f"
      },
      "execution_count": 37,
      "outputs": [
        {
          "output_type": "execute_result",
          "data": {
            "text/plain": [
              "array([[0.40061528],\n",
              "       [0.3902322 ],\n",
              "       [0.38504068],\n",
              "       ...,\n",
              "       [0.13344813],\n",
              "       [0.13344813],\n",
              "       [0.13301765]])"
            ]
          },
          "metadata": {},
          "execution_count": 37
        }
      ]
    },
    {
      "cell_type": "code",
      "source": [
        "data_close=data.filter([\"High\"])  \n",
        "data_closes=data_close.values                     \n",
        "from sklearn.preprocessing import MinMaxScaler\n",
        "Scaler=MinMaxScaler(feature_range= (0,1))\n",
        "Scales_data=Scaler.fit_transform(data_closes)\n",
        "Scales_data"
      ],
      "metadata": {
        "id": "uS4SfNG9Iw2J",
        "colab": {
          "base_uri": "https://localhost:8080/",
          "height": 0
        },
        "outputId": "37e6955b-1dcd-4dee-dfd2-277c0bbb036f"
      },
      "execution_count": 38,
      "outputs": [
        {
          "output_type": "execute_result",
          "data": {
            "text/plain": [
              "array([[0.39605902],\n",
              "       [0.39047776],\n",
              "       [0.38848442],\n",
              "       ...,\n",
              "       [0.13064032],\n",
              "       [0.12978084],\n",
              "       [0.13021058]])"
            ]
          },
          "metadata": {},
          "execution_count": 38
        }
      ]
    },
    {
      "cell_type": "code",
      "source": [
        "data_close=data.filter([\"Low\"])  \n",
        "data_closes=data_close.values                     \n",
        "from sklearn.preprocessing import MinMaxScaler\n",
        "Scaler=MinMaxScaler(feature_range= (0,1))\n",
        "Scales_data=Scaler.fit_transform(data_closes)\n",
        "Scales_data"
      ],
      "metadata": {
        "id": "iDh5CVWgI_fF",
        "colab": {
          "base_uri": "https://localhost:8080/",
          "height": 0
        },
        "outputId": "a8939403-929d-4c08-f930-aff169e4b44b"
      },
      "execution_count": 39,
      "outputs": [
        {
          "output_type": "execute_result",
          "data": {
            "text/plain": [
              "array([[0.39896654],\n",
              "       [0.39120174],\n",
              "       [0.38915839],\n",
              "       ...,\n",
              "       [0.13436124],\n",
              "       [0.13436124],\n",
              "       [0.13083701]])"
            ]
          },
          "metadata": {},
          "execution_count": 39
        }
      ]
    },
    {
      "cell_type": "code",
      "source": [
        "data_close=data.filter([\"Adj Close\"])  \n",
        "data_closes=data_close.values                     \n",
        "from sklearn.preprocessing import MinMaxScaler\n",
        "Scaler=MinMaxScaler(feature_range= (0,1))\n",
        "Scales_data=Scaler.fit_transform(data_closes)\n",
        "Scales_data"
      ],
      "metadata": {
        "id": "M9exPq3YJQN2",
        "colab": {
          "base_uri": "https://localhost:8080/",
          "height": 0
        },
        "outputId": "b8a083e5-9347-4f82-ae48-b9798c7ebb1f"
      },
      "execution_count": 40,
      "outputs": [
        {
          "output_type": "execute_result",
          "data": {
            "text/plain": [
              "array([[0.16274641],\n",
              "       [0.16153898],\n",
              "       [0.15821847],\n",
              "       ...,\n",
              "       [0.19950952],\n",
              "       [0.19708314],\n",
              "       [0.19041058]])"
            ]
          },
          "metadata": {},
          "execution_count": 40
        }
      ]
    },
    {
      "cell_type": "code",
      "source": [
        "data_close=data.filter([\"Volume\"])  \n",
        "data_closes=data_close.values                     \n",
        "from sklearn.preprocessing import MinMaxScaler\n",
        "Scaler=MinMaxScaler(feature_range= (0,1))\n",
        "Scales_data=Scaler.fit_transform(data_closes)\n",
        "Scales_data"
      ],
      "metadata": {
        "id": "36mkMpimJgOI",
        "colab": {
          "base_uri": "https://localhost:8080/",
          "height": 0
        },
        "outputId": "fee3d03a-86c2-48a8-e8f6-27ae3c037ad3"
      },
      "execution_count": 41,
      "outputs": [
        {
          "output_type": "execute_result",
          "data": {
            "text/plain": [
              "array([[0.00271111],\n",
              "       [0.00627686],\n",
              "       [0.00327741],\n",
              "       ...,\n",
              "       [0.02387093],\n",
              "       [0.01097635],\n",
              "       [0.01919173]])"
            ]
          },
          "metadata": {},
          "execution_count": 41
        }
      ]
    },
    {
      "cell_type": "markdown",
      "source": [
        "CSL stocks\n",
        "\n"
      ],
      "metadata": {
        "id": "lqLCV8cTJsgL"
      }
    },
    {
      "cell_type": "code",
      "source": [
        "data = pd.read_csv(\"/content/drive/MyDrive/SIT723 DOCS/Historical Data/CSL_AX.csv\")\n",
        "data"
      ],
      "metadata": {
        "id": "6Y20Y48hJwCA",
        "colab": {
          "base_uri": "https://localhost:8080/",
          "height": 423
        },
        "outputId": "4e78edbb-2c8c-41c9-b92a-837712c60bc2"
      },
      "execution_count": 42,
      "outputs": [
        {
          "output_type": "execute_result",
          "data": {
            "text/plain": [
              "            Date        Open        High         Low       Close   Adj Close  \\\n",
              "0     30/12/2008   32.799999   33.500000   32.669998   33.220001   26.371035   \n",
              "1     31/12/2008   33.150002   33.799999   33.070000   33.700001   26.752081   \n",
              "2      2/01/2009   34.000000   34.000000   33.119999   33.639999   26.704449   \n",
              "3      5/01/2009   33.610001   33.669998   31.680000   31.799999   25.243801   \n",
              "4      6/01/2009   32.189999   32.480000   31.170000   31.270000   24.823071   \n",
              "...          ...         ...         ...         ...         ...         ...   \n",
              "3537  22/12/2022  288.299988  290.769989  287.160004  290.769989  290.769989   \n",
              "3538  23/12/2022  291.309998  293.000000  287.640015  289.000000  289.000000   \n",
              "3539  28/12/2022  286.500000  288.190002  284.119995  285.570007  285.570007   \n",
              "3540  29/12/2022  285.369995  286.899994  284.250000  285.700012  285.700012   \n",
              "3541  30/12/2022  287.429993  288.279999  286.640015  287.760010  287.760010   \n",
              "\n",
              "       Volume  \n",
              "0      639318  \n",
              "1      721811  \n",
              "2      653048  \n",
              "3     1964115  \n",
              "4     1651644  \n",
              "...       ...  \n",
              "3537   492089  \n",
              "3538   442032  \n",
              "3539   377295  \n",
              "3540   386665  \n",
              "3541   428708  \n",
              "\n",
              "[3542 rows x 7 columns]"
            ],
            "text/html": [
              "\n",
              "  <div id=\"df-d1d96596-d0f5-4cd9-b634-0a435fdee437\">\n",
              "    <div class=\"colab-df-container\">\n",
              "      <div>\n",
              "<style scoped>\n",
              "    .dataframe tbody tr th:only-of-type {\n",
              "        vertical-align: middle;\n",
              "    }\n",
              "\n",
              "    .dataframe tbody tr th {\n",
              "        vertical-align: top;\n",
              "    }\n",
              "\n",
              "    .dataframe thead th {\n",
              "        text-align: right;\n",
              "    }\n",
              "</style>\n",
              "<table border=\"1\" class=\"dataframe\">\n",
              "  <thead>\n",
              "    <tr style=\"text-align: right;\">\n",
              "      <th></th>\n",
              "      <th>Date</th>\n",
              "      <th>Open</th>\n",
              "      <th>High</th>\n",
              "      <th>Low</th>\n",
              "      <th>Close</th>\n",
              "      <th>Adj Close</th>\n",
              "      <th>Volume</th>\n",
              "    </tr>\n",
              "  </thead>\n",
              "  <tbody>\n",
              "    <tr>\n",
              "      <th>0</th>\n",
              "      <td>30/12/2008</td>\n",
              "      <td>32.799999</td>\n",
              "      <td>33.500000</td>\n",
              "      <td>32.669998</td>\n",
              "      <td>33.220001</td>\n",
              "      <td>26.371035</td>\n",
              "      <td>639318</td>\n",
              "    </tr>\n",
              "    <tr>\n",
              "      <th>1</th>\n",
              "      <td>31/12/2008</td>\n",
              "      <td>33.150002</td>\n",
              "      <td>33.799999</td>\n",
              "      <td>33.070000</td>\n",
              "      <td>33.700001</td>\n",
              "      <td>26.752081</td>\n",
              "      <td>721811</td>\n",
              "    </tr>\n",
              "    <tr>\n",
              "      <th>2</th>\n",
              "      <td>2/01/2009</td>\n",
              "      <td>34.000000</td>\n",
              "      <td>34.000000</td>\n",
              "      <td>33.119999</td>\n",
              "      <td>33.639999</td>\n",
              "      <td>26.704449</td>\n",
              "      <td>653048</td>\n",
              "    </tr>\n",
              "    <tr>\n",
              "      <th>3</th>\n",
              "      <td>5/01/2009</td>\n",
              "      <td>33.610001</td>\n",
              "      <td>33.669998</td>\n",
              "      <td>31.680000</td>\n",
              "      <td>31.799999</td>\n",
              "      <td>25.243801</td>\n",
              "      <td>1964115</td>\n",
              "    </tr>\n",
              "    <tr>\n",
              "      <th>4</th>\n",
              "      <td>6/01/2009</td>\n",
              "      <td>32.189999</td>\n",
              "      <td>32.480000</td>\n",
              "      <td>31.170000</td>\n",
              "      <td>31.270000</td>\n",
              "      <td>24.823071</td>\n",
              "      <td>1651644</td>\n",
              "    </tr>\n",
              "    <tr>\n",
              "      <th>...</th>\n",
              "      <td>...</td>\n",
              "      <td>...</td>\n",
              "      <td>...</td>\n",
              "      <td>...</td>\n",
              "      <td>...</td>\n",
              "      <td>...</td>\n",
              "      <td>...</td>\n",
              "    </tr>\n",
              "    <tr>\n",
              "      <th>3537</th>\n",
              "      <td>22/12/2022</td>\n",
              "      <td>288.299988</td>\n",
              "      <td>290.769989</td>\n",
              "      <td>287.160004</td>\n",
              "      <td>290.769989</td>\n",
              "      <td>290.769989</td>\n",
              "      <td>492089</td>\n",
              "    </tr>\n",
              "    <tr>\n",
              "      <th>3538</th>\n",
              "      <td>23/12/2022</td>\n",
              "      <td>291.309998</td>\n",
              "      <td>293.000000</td>\n",
              "      <td>287.640015</td>\n",
              "      <td>289.000000</td>\n",
              "      <td>289.000000</td>\n",
              "      <td>442032</td>\n",
              "    </tr>\n",
              "    <tr>\n",
              "      <th>3539</th>\n",
              "      <td>28/12/2022</td>\n",
              "      <td>286.500000</td>\n",
              "      <td>288.190002</td>\n",
              "      <td>284.119995</td>\n",
              "      <td>285.570007</td>\n",
              "      <td>285.570007</td>\n",
              "      <td>377295</td>\n",
              "    </tr>\n",
              "    <tr>\n",
              "      <th>3540</th>\n",
              "      <td>29/12/2022</td>\n",
              "      <td>285.369995</td>\n",
              "      <td>286.899994</td>\n",
              "      <td>284.250000</td>\n",
              "      <td>285.700012</td>\n",
              "      <td>285.700012</td>\n",
              "      <td>386665</td>\n",
              "    </tr>\n",
              "    <tr>\n",
              "      <th>3541</th>\n",
              "      <td>30/12/2022</td>\n",
              "      <td>287.429993</td>\n",
              "      <td>288.279999</td>\n",
              "      <td>286.640015</td>\n",
              "      <td>287.760010</td>\n",
              "      <td>287.760010</td>\n",
              "      <td>428708</td>\n",
              "    </tr>\n",
              "  </tbody>\n",
              "</table>\n",
              "<p>3542 rows × 7 columns</p>\n",
              "</div>\n",
              "      <button class=\"colab-df-convert\" onclick=\"convertToInteractive('df-d1d96596-d0f5-4cd9-b634-0a435fdee437')\"\n",
              "              title=\"Convert this dataframe to an interactive table.\"\n",
              "              style=\"display:none;\">\n",
              "        \n",
              "  <svg xmlns=\"http://www.w3.org/2000/svg\" height=\"24px\"viewBox=\"0 0 24 24\"\n",
              "       width=\"24px\">\n",
              "    <path d=\"M0 0h24v24H0V0z\" fill=\"none\"/>\n",
              "    <path d=\"M18.56 5.44l.94 2.06.94-2.06 2.06-.94-2.06-.94-.94-2.06-.94 2.06-2.06.94zm-11 1L8.5 8.5l.94-2.06 2.06-.94-2.06-.94L8.5 2.5l-.94 2.06-2.06.94zm10 10l.94 2.06.94-2.06 2.06-.94-2.06-.94-.94-2.06-.94 2.06-2.06.94z\"/><path d=\"M17.41 7.96l-1.37-1.37c-.4-.4-.92-.59-1.43-.59-.52 0-1.04.2-1.43.59L10.3 9.45l-7.72 7.72c-.78.78-.78 2.05 0 2.83L4 21.41c.39.39.9.59 1.41.59.51 0 1.02-.2 1.41-.59l7.78-7.78 2.81-2.81c.8-.78.8-2.07 0-2.86zM5.41 20L4 18.59l7.72-7.72 1.47 1.35L5.41 20z\"/>\n",
              "  </svg>\n",
              "      </button>\n",
              "      \n",
              "  <style>\n",
              "    .colab-df-container {\n",
              "      display:flex;\n",
              "      flex-wrap:wrap;\n",
              "      gap: 12px;\n",
              "    }\n",
              "\n",
              "    .colab-df-convert {\n",
              "      background-color: #E8F0FE;\n",
              "      border: none;\n",
              "      border-radius: 50%;\n",
              "      cursor: pointer;\n",
              "      display: none;\n",
              "      fill: #1967D2;\n",
              "      height: 32px;\n",
              "      padding: 0 0 0 0;\n",
              "      width: 32px;\n",
              "    }\n",
              "\n",
              "    .colab-df-convert:hover {\n",
              "      background-color: #E2EBFA;\n",
              "      box-shadow: 0px 1px 2px rgba(60, 64, 67, 0.3), 0px 1px 3px 1px rgba(60, 64, 67, 0.15);\n",
              "      fill: #174EA6;\n",
              "    }\n",
              "\n",
              "    [theme=dark] .colab-df-convert {\n",
              "      background-color: #3B4455;\n",
              "      fill: #D2E3FC;\n",
              "    }\n",
              "\n",
              "    [theme=dark] .colab-df-convert:hover {\n",
              "      background-color: #434B5C;\n",
              "      box-shadow: 0px 1px 3px 1px rgba(0, 0, 0, 0.15);\n",
              "      filter: drop-shadow(0px 1px 2px rgba(0, 0, 0, 0.3));\n",
              "      fill: #FFFFFF;\n",
              "    }\n",
              "  </style>\n",
              "\n",
              "      <script>\n",
              "        const buttonEl =\n",
              "          document.querySelector('#df-d1d96596-d0f5-4cd9-b634-0a435fdee437 button.colab-df-convert');\n",
              "        buttonEl.style.display =\n",
              "          google.colab.kernel.accessAllowed ? 'block' : 'none';\n",
              "\n",
              "        async function convertToInteractive(key) {\n",
              "          const element = document.querySelector('#df-d1d96596-d0f5-4cd9-b634-0a435fdee437');\n",
              "          const dataTable =\n",
              "            await google.colab.kernel.invokeFunction('convertToInteractive',\n",
              "                                                     [key], {});\n",
              "          if (!dataTable) return;\n",
              "\n",
              "          const docLinkHtml = 'Like what you see? Visit the ' +\n",
              "            '<a target=\"_blank\" href=https://colab.research.google.com/notebooks/data_table.ipynb>data table notebook</a>'\n",
              "            + ' to learn more about interactive tables.';\n",
              "          element.innerHTML = '';\n",
              "          dataTable['output_type'] = 'display_data';\n",
              "          await google.colab.output.renderOutput(dataTable, element);\n",
              "          const docLink = document.createElement('div');\n",
              "          docLink.innerHTML = docLinkHtml;\n",
              "          element.appendChild(docLink);\n",
              "        }\n",
              "      </script>\n",
              "    </div>\n",
              "  </div>\n",
              "  "
            ]
          },
          "metadata": {},
          "execution_count": 42
        }
      ]
    },
    {
      "cell_type": "code",
      "source": [
        "data_close=data.filter([\"Open\"])  \n",
        "data_closes=data_close.values                     \n",
        "from sklearn.preprocessing import MinMaxScaler\n",
        "Scaler=MinMaxScaler(feature_range= (0,1))\n",
        "Scales_data=Scaler.fit_transform(data_closes)\n",
        "Scales_data"
      ],
      "metadata": {
        "id": "6pvDz1RUMozv",
        "colab": {
          "base_uri": "https://localhost:8080/",
          "height": 0
        },
        "outputId": "f18dea25-58d1-45a4-9174-eda4bffa418c"
      },
      "execution_count": 43,
      "outputs": [
        {
          "output_type": "execute_result",
          "data": {
            "text/plain": [
              "array([[0.02013294],\n",
              "       [0.02125144],\n",
              "       [0.02396779],\n",
              "       ...,\n",
              "       [0.83088326],\n",
              "       [0.8272721 ],\n",
              "       [0.83385524]])"
            ]
          },
          "metadata": {},
          "execution_count": 43
        }
      ]
    },
    {
      "cell_type": "code",
      "source": [
        "data_close=data.filter([\"High\"])  \n",
        "data_closes=data_close.values                     \n",
        "from sklearn.preprocessing import MinMaxScaler\n",
        "Scaler=MinMaxScaler(feature_range= (0,1))\n",
        "Scales_data=Scaler.fit_transform(data_closes)\n",
        "Scales_data"
      ],
      "metadata": {
        "id": "BnwG5jjaNIqy",
        "colab": {
          "base_uri": "https://localhost:8080/",
          "height": 0
        },
        "outputId": "1818498e-d1a6-44fa-bdbd-96d48b006e38"
      },
      "execution_count": 44,
      "outputs": [
        {
          "output_type": "execute_result",
          "data": {
            "text/plain": [
              "array([[0.02193336],\n",
              "       [0.02288217],\n",
              "       [0.02351471],\n",
              "       ...,\n",
              "       [0.8274428 ],\n",
              "       [0.82336289],\n",
              "       [0.82772743]])"
            ]
          },
          "metadata": {},
          "execution_count": 44
        }
      ]
    },
    {
      "cell_type": "code",
      "source": [
        "data_close=data.filter([\"Low\"])  \n",
        "data_closes=data_close.values                     \n",
        "from sklearn.preprocessing import MinMaxScaler\n",
        "Scaler=MinMaxScaler(feature_range= (0,1))\n",
        "Scales_data=Scaler.fit_transform(data_closes)\n",
        "Scales_data"
      ],
      "metadata": {
        "id": "M2Sn0EviNQ3o",
        "colab": {
          "base_uri": "https://localhost:8080/",
          "height": 0
        },
        "outputId": "b1571dbd-7c1b-4504-feb5-9c3439a772af"
      },
      "execution_count": 45,
      "outputs": [
        {
          "output_type": "execute_result",
          "data": {
            "text/plain": [
              "array([[0.02106718],\n",
              "       [0.02235373],\n",
              "       [0.02251455],\n",
              "       ...,\n",
              "       [0.82982212],\n",
              "       [0.83024026],\n",
              "       [0.83792742]])"
            ]
          },
          "metadata": {},
          "execution_count": 45
        }
      ]
    },
    {
      "cell_type": "code",
      "source": [
        "data_close=data.filter([\"Close\"])  \n",
        "data_closes=data_close.values                     \n",
        "from sklearn.preprocessing import MinMaxScaler\n",
        "Scaler=MinMaxScaler(feature_range= (0,1))\n",
        "Scales_data=Scaler.fit_transform(data_closes)\n",
        "Scales_data"
      ],
      "metadata": {
        "id": "bpHOkzs6No4z",
        "colab": {
          "base_uri": "https://localhost:8080/",
          "height": 0
        },
        "outputId": "417a6c76-fe88-424f-ffa9-a94de68a0c4b"
      },
      "execution_count": 46,
      "outputs": [
        {
          "output_type": "execute_result",
          "data": {
            "text/plain": [
              "array([[0.02208242],\n",
              "       [0.02360754],\n",
              "       [0.02341689],\n",
              "       ...,\n",
              "       [0.82388081],\n",
              "       [0.82429388],\n",
              "       [0.83083916]])"
            ]
          },
          "metadata": {},
          "execution_count": 46
        }
      ]
    },
    {
      "cell_type": "code",
      "source": [
        "data_close=data.filter([\"Adj Close\"])  \n",
        "data_closes=data_close.values                     \n",
        "from sklearn.preprocessing import MinMaxScaler\n",
        "Scaler=MinMaxScaler(feature_range= (0,1))\n",
        "Scales_data=Scaler.fit_transform(data_closes)\n",
        "Scales_data"
      ],
      "metadata": {
        "id": "91v10eEKNtrZ",
        "colab": {
          "base_uri": "https://localhost:8080/",
          "height": 0
        },
        "outputId": "9d0ccb7c-3050-424b-f0c0-bb3d71518e3d"
      },
      "execution_count": 47,
      "outputs": [
        {
          "output_type": "execute_result",
          "data": {
            "text/plain": [
              "array([[0.01414722],\n",
              "       [0.01538304],\n",
              "       [0.01522856],\n",
              "       ...,\n",
              "       [0.85478509],\n",
              "       [0.85520672],\n",
              "       [0.86188774]])"
            ]
          },
          "metadata": {},
          "execution_count": 47
        }
      ]
    },
    {
      "cell_type": "code",
      "source": [
        "data_close=data.filter([\"Volume\"])  \n",
        "data_closes=data_close.values                     \n",
        "from sklearn.preprocessing import MinMaxScaler\n",
        "Scaler=MinMaxScaler(feature_range= (0,1))\n",
        "Scales_data=Scaler.fit_transform(data_closes)\n",
        "Scales_data"
      ],
      "metadata": {
        "id": "6TBrSq18NzEI"
      },
      "execution_count": null,
      "outputs": []
    },
    {
      "cell_type": "markdown",
      "source": [
        "**Scaling DXS Stock features**"
      ],
      "metadata": {
        "id": "p-5Rw7uMOJsv"
      }
    },
    {
      "cell_type": "code",
      "source": [
        "data = pd.read_csv(\"/content/drive/MyDrive/SIT723 DOCS/Historical Data/DXS_AX.csv\")\n",
        "data"
      ],
      "metadata": {
        "id": "TAf9HoHZO2jo"
      },
      "execution_count": null,
      "outputs": []
    },
    {
      "cell_type": "code",
      "source": [
        "data_close=data.filter([\"Open\"])  \n",
        "data_closes=data_close.values                     \n",
        "from sklearn.preprocessing import MinMaxScaler\n",
        "Scaler=MinMaxScaler(feature_range= (0,1))\n",
        "Scales_data=Scaler.fit_transform(data_closes)\n",
        "Scales_data"
      ],
      "metadata": {
        "id": "7ZLfwPJsPeGL"
      },
      "execution_count": null,
      "outputs": []
    },
    {
      "cell_type": "code",
      "source": [
        "data_close=data.filter([\"High\"])  \n",
        "data_closes=data_close.values                     \n",
        "from sklearn.preprocessing import MinMaxScaler\n",
        "Scaler=MinMaxScaler(feature_range= (0,1))\n",
        "Scales_data=Scaler.fit_transform(data_closes)\n",
        "Scales_data"
      ],
      "metadata": {
        "id": "hYeNTx2aPjQL"
      },
      "execution_count": null,
      "outputs": []
    },
    {
      "cell_type": "code",
      "source": [
        "data_close=data.filter([\"Low\"])  \n",
        "data_closes=data_close.values                     \n",
        "from sklearn.preprocessing import MinMaxScaler\n",
        "Scaler=MinMaxScaler(feature_range= (0,1))\n",
        "Scales_data=Scaler.fit_transform(data_closes)\n",
        "Scales_data"
      ],
      "metadata": {
        "id": "1EM7AY1xPk-0"
      },
      "execution_count": null,
      "outputs": []
    },
    {
      "cell_type": "code",
      "source": [
        "data_close=data.filter([\"Close\"])  \n",
        "data_closes=data_close.values                     \n",
        "from sklearn.preprocessing import MinMaxScaler\n",
        "Scaler=MinMaxScaler(feature_range= (0,1))\n",
        "Scales_data=Scaler.fit_transform(data_closes)\n",
        "Scales_data"
      ],
      "metadata": {
        "id": "dRyykDYoPnr1"
      },
      "execution_count": null,
      "outputs": []
    },
    {
      "cell_type": "code",
      "source": [
        "data_close=data.filter([\"Adj Close\"])  \n",
        "data_closes=data_close.values                     \n",
        "from sklearn.preprocessing import MinMaxScaler\n",
        "Scaler=MinMaxScaler(feature_range= (0,1))\n",
        "Scales_data=Scaler.fit_transform(data_closes)\n",
        "Scales_data"
      ],
      "metadata": {
        "id": "o9R2Hx0FPnK2"
      },
      "execution_count": null,
      "outputs": []
    },
    {
      "cell_type": "code",
      "source": [
        "data_close=data.filter([\"Volume\"])  \n",
        "data_closes=data_close.values                     \n",
        "from sklearn.preprocessing import MinMaxScaler\n",
        "Scaler=MinMaxScaler(feature_range= (0,1))\n",
        "Scales_data=Scaler.fit_transform(data_closes)\n",
        "Scales_data"
      ],
      "metadata": {
        "id": "5PrmdiVLPmEf",
        "colab": {
          "base_uri": "https://localhost:8080/",
          "height": 0
        },
        "outputId": "885625db-ab88-4714-ed2d-6447809bbdba"
      },
      "execution_count": 48,
      "outputs": [
        {
          "output_type": "execute_result",
          "data": {
            "text/plain": [
              "array([[0.02205984],\n",
              "       [0.02532401],\n",
              "       [0.02260312],\n",
              "       ...,\n",
              "       [0.01169183],\n",
              "       [0.01206259],\n",
              "       [0.01372619]])"
            ]
          },
          "metadata": {},
          "execution_count": 48
        }
      ]
    },
    {
      "cell_type": "markdown",
      "source": [
        "Loading GMG data for scaling"
      ],
      "metadata": {
        "id": "zDVFcLd7Qq4X"
      }
    },
    {
      "cell_type": "code",
      "source": [
        "data = pd.read_csv(\"/content/drive/MyDrive/SIT723 DOCS/Historical Data/GMG_AX.csv\")\n",
        "data"
      ],
      "metadata": {
        "id": "I2A6AYa9QCxI",
        "colab": {
          "base_uri": "https://localhost:8080/",
          "height": 423
        },
        "outputId": "c9ae9704-81d3-4128-8dac-9f13f2a814f3"
      },
      "execution_count": 49,
      "outputs": [
        {
          "output_type": "execute_result",
          "data": {
            "text/plain": [
              "            Date       Open       High        Low      Close  Adj Close  \\\n",
              "0     30/12/2008   3.223978   3.405610   3.223978   3.360202   2.111440   \n",
              "1     31/12/2008   3.223978   3.405610   3.223978   3.360202   2.111440   \n",
              "2      2/01/2009   3.314794   3.382906   3.246682   3.360202   2.111440   \n",
              "3      5/01/2009   3.382906   3.428315   3.314794   3.360202   2.111440   \n",
              "4      6/01/2009   3.405610   3.451019   3.360202   3.405610   2.139973   \n",
              "...          ...        ...        ...        ...        ...        ...   \n",
              "3537  22/12/2022  17.700001  17.730000  17.445000  17.730000  17.577330   \n",
              "3538  23/12/2022  17.500000  17.530001  17.424999  17.430000  17.279915   \n",
              "3539  28/12/2022  17.260000  17.530001  17.250000  17.420000  17.270000   \n",
              "3540  29/12/2022  17.219999  17.430000  17.080000  17.370001  17.370001   \n",
              "3541  30/12/2022  17.700001  17.719999  17.360001  17.360001  17.360001   \n",
              "\n",
              "       Volume  \n",
              "0     2303626  \n",
              "1     2303626  \n",
              "2     1240859  \n",
              "3     1557014  \n",
              "4     1899412  \n",
              "...       ...  \n",
              "3537  3107194  \n",
              "3538  1791167  \n",
              "3539  1721809  \n",
              "3540  3425925  \n",
              "3541  2116344  \n",
              "\n",
              "[3542 rows x 7 columns]"
            ],
            "text/html": [
              "\n",
              "  <div id=\"df-84f479f0-9fcd-4d68-ac28-211f5e112166\">\n",
              "    <div class=\"colab-df-container\">\n",
              "      <div>\n",
              "<style scoped>\n",
              "    .dataframe tbody tr th:only-of-type {\n",
              "        vertical-align: middle;\n",
              "    }\n",
              "\n",
              "    .dataframe tbody tr th {\n",
              "        vertical-align: top;\n",
              "    }\n",
              "\n",
              "    .dataframe thead th {\n",
              "        text-align: right;\n",
              "    }\n",
              "</style>\n",
              "<table border=\"1\" class=\"dataframe\">\n",
              "  <thead>\n",
              "    <tr style=\"text-align: right;\">\n",
              "      <th></th>\n",
              "      <th>Date</th>\n",
              "      <th>Open</th>\n",
              "      <th>High</th>\n",
              "      <th>Low</th>\n",
              "      <th>Close</th>\n",
              "      <th>Adj Close</th>\n",
              "      <th>Volume</th>\n",
              "    </tr>\n",
              "  </thead>\n",
              "  <tbody>\n",
              "    <tr>\n",
              "      <th>0</th>\n",
              "      <td>30/12/2008</td>\n",
              "      <td>3.223978</td>\n",
              "      <td>3.405610</td>\n",
              "      <td>3.223978</td>\n",
              "      <td>3.360202</td>\n",
              "      <td>2.111440</td>\n",
              "      <td>2303626</td>\n",
              "    </tr>\n",
              "    <tr>\n",
              "      <th>1</th>\n",
              "      <td>31/12/2008</td>\n",
              "      <td>3.223978</td>\n",
              "      <td>3.405610</td>\n",
              "      <td>3.223978</td>\n",
              "      <td>3.360202</td>\n",
              "      <td>2.111440</td>\n",
              "      <td>2303626</td>\n",
              "    </tr>\n",
              "    <tr>\n",
              "      <th>2</th>\n",
              "      <td>2/01/2009</td>\n",
              "      <td>3.314794</td>\n",
              "      <td>3.382906</td>\n",
              "      <td>3.246682</td>\n",
              "      <td>3.360202</td>\n",
              "      <td>2.111440</td>\n",
              "      <td>1240859</td>\n",
              "    </tr>\n",
              "    <tr>\n",
              "      <th>3</th>\n",
              "      <td>5/01/2009</td>\n",
              "      <td>3.382906</td>\n",
              "      <td>3.428315</td>\n",
              "      <td>3.314794</td>\n",
              "      <td>3.360202</td>\n",
              "      <td>2.111440</td>\n",
              "      <td>1557014</td>\n",
              "    </tr>\n",
              "    <tr>\n",
              "      <th>4</th>\n",
              "      <td>6/01/2009</td>\n",
              "      <td>3.405610</td>\n",
              "      <td>3.451019</td>\n",
              "      <td>3.360202</td>\n",
              "      <td>3.405610</td>\n",
              "      <td>2.139973</td>\n",
              "      <td>1899412</td>\n",
              "    </tr>\n",
              "    <tr>\n",
              "      <th>...</th>\n",
              "      <td>...</td>\n",
              "      <td>...</td>\n",
              "      <td>...</td>\n",
              "      <td>...</td>\n",
              "      <td>...</td>\n",
              "      <td>...</td>\n",
              "      <td>...</td>\n",
              "    </tr>\n",
              "    <tr>\n",
              "      <th>3537</th>\n",
              "      <td>22/12/2022</td>\n",
              "      <td>17.700001</td>\n",
              "      <td>17.730000</td>\n",
              "      <td>17.445000</td>\n",
              "      <td>17.730000</td>\n",
              "      <td>17.577330</td>\n",
              "      <td>3107194</td>\n",
              "    </tr>\n",
              "    <tr>\n",
              "      <th>3538</th>\n",
              "      <td>23/12/2022</td>\n",
              "      <td>17.500000</td>\n",
              "      <td>17.530001</td>\n",
              "      <td>17.424999</td>\n",
              "      <td>17.430000</td>\n",
              "      <td>17.279915</td>\n",
              "      <td>1791167</td>\n",
              "    </tr>\n",
              "    <tr>\n",
              "      <th>3539</th>\n",
              "      <td>28/12/2022</td>\n",
              "      <td>17.260000</td>\n",
              "      <td>17.530001</td>\n",
              "      <td>17.250000</td>\n",
              "      <td>17.420000</td>\n",
              "      <td>17.270000</td>\n",
              "      <td>1721809</td>\n",
              "    </tr>\n",
              "    <tr>\n",
              "      <th>3540</th>\n",
              "      <td>29/12/2022</td>\n",
              "      <td>17.219999</td>\n",
              "      <td>17.430000</td>\n",
              "      <td>17.080000</td>\n",
              "      <td>17.370001</td>\n",
              "      <td>17.370001</td>\n",
              "      <td>3425925</td>\n",
              "    </tr>\n",
              "    <tr>\n",
              "      <th>3541</th>\n",
              "      <td>30/12/2022</td>\n",
              "      <td>17.700001</td>\n",
              "      <td>17.719999</td>\n",
              "      <td>17.360001</td>\n",
              "      <td>17.360001</td>\n",
              "      <td>17.360001</td>\n",
              "      <td>2116344</td>\n",
              "    </tr>\n",
              "  </tbody>\n",
              "</table>\n",
              "<p>3542 rows × 7 columns</p>\n",
              "</div>\n",
              "      <button class=\"colab-df-convert\" onclick=\"convertToInteractive('df-84f479f0-9fcd-4d68-ac28-211f5e112166')\"\n",
              "              title=\"Convert this dataframe to an interactive table.\"\n",
              "              style=\"display:none;\">\n",
              "        \n",
              "  <svg xmlns=\"http://www.w3.org/2000/svg\" height=\"24px\"viewBox=\"0 0 24 24\"\n",
              "       width=\"24px\">\n",
              "    <path d=\"M0 0h24v24H0V0z\" fill=\"none\"/>\n",
              "    <path d=\"M18.56 5.44l.94 2.06.94-2.06 2.06-.94-2.06-.94-.94-2.06-.94 2.06-2.06.94zm-11 1L8.5 8.5l.94-2.06 2.06-.94-2.06-.94L8.5 2.5l-.94 2.06-2.06.94zm10 10l.94 2.06.94-2.06 2.06-.94-2.06-.94-.94-2.06-.94 2.06-2.06.94z\"/><path d=\"M17.41 7.96l-1.37-1.37c-.4-.4-.92-.59-1.43-.59-.52 0-1.04.2-1.43.59L10.3 9.45l-7.72 7.72c-.78.78-.78 2.05 0 2.83L4 21.41c.39.39.9.59 1.41.59.51 0 1.02-.2 1.41-.59l7.78-7.78 2.81-2.81c.8-.78.8-2.07 0-2.86zM5.41 20L4 18.59l7.72-7.72 1.47 1.35L5.41 20z\"/>\n",
              "  </svg>\n",
              "      </button>\n",
              "      \n",
              "  <style>\n",
              "    .colab-df-container {\n",
              "      display:flex;\n",
              "      flex-wrap:wrap;\n",
              "      gap: 12px;\n",
              "    }\n",
              "\n",
              "    .colab-df-convert {\n",
              "      background-color: #E8F0FE;\n",
              "      border: none;\n",
              "      border-radius: 50%;\n",
              "      cursor: pointer;\n",
              "      display: none;\n",
              "      fill: #1967D2;\n",
              "      height: 32px;\n",
              "      padding: 0 0 0 0;\n",
              "      width: 32px;\n",
              "    }\n",
              "\n",
              "    .colab-df-convert:hover {\n",
              "      background-color: #E2EBFA;\n",
              "      box-shadow: 0px 1px 2px rgba(60, 64, 67, 0.3), 0px 1px 3px 1px rgba(60, 64, 67, 0.15);\n",
              "      fill: #174EA6;\n",
              "    }\n",
              "\n",
              "    [theme=dark] .colab-df-convert {\n",
              "      background-color: #3B4455;\n",
              "      fill: #D2E3FC;\n",
              "    }\n",
              "\n",
              "    [theme=dark] .colab-df-convert:hover {\n",
              "      background-color: #434B5C;\n",
              "      box-shadow: 0px 1px 3px 1px rgba(0, 0, 0, 0.15);\n",
              "      filter: drop-shadow(0px 1px 2px rgba(0, 0, 0, 0.3));\n",
              "      fill: #FFFFFF;\n",
              "    }\n",
              "  </style>\n",
              "\n",
              "      <script>\n",
              "        const buttonEl =\n",
              "          document.querySelector('#df-84f479f0-9fcd-4d68-ac28-211f5e112166 button.colab-df-convert');\n",
              "        buttonEl.style.display =\n",
              "          google.colab.kernel.accessAllowed ? 'block' : 'none';\n",
              "\n",
              "        async function convertToInteractive(key) {\n",
              "          const element = document.querySelector('#df-84f479f0-9fcd-4d68-ac28-211f5e112166');\n",
              "          const dataTable =\n",
              "            await google.colab.kernel.invokeFunction('convertToInteractive',\n",
              "                                                     [key], {});\n",
              "          if (!dataTable) return;\n",
              "\n",
              "          const docLinkHtml = 'Like what you see? Visit the ' +\n",
              "            '<a target=\"_blank\" href=https://colab.research.google.com/notebooks/data_table.ipynb>data table notebook</a>'\n",
              "            + ' to learn more about interactive tables.';\n",
              "          element.innerHTML = '';\n",
              "          dataTable['output_type'] = 'display_data';\n",
              "          await google.colab.output.renderOutput(dataTable, element);\n",
              "          const docLink = document.createElement('div');\n",
              "          docLink.innerHTML = docLinkHtml;\n",
              "          element.appendChild(docLink);\n",
              "        }\n",
              "      </script>\n",
              "    </div>\n",
              "  </div>\n",
              "  "
            ]
          },
          "metadata": {},
          "execution_count": 49
        }
      ]
    },
    {
      "cell_type": "code",
      "source": [
        "data_close=data.filter([\"Open\"])  \n",
        "data_closes=data_close.values                     \n",
        "from sklearn.preprocessing import MinMaxScaler\n",
        "Scaler=MinMaxScaler(feature_range= (0,1))\n",
        "Scales_data=Scaler.fit_transform(data_closes)\n",
        "Scales_data"
      ],
      "metadata": {
        "id": "-lqy_F_yRArw",
        "colab": {
          "base_uri": "https://localhost:8080/",
          "height": 0
        },
        "outputId": "9743c94b-743c-4a0b-c0a0-7e59c9f80ebe"
      },
      "execution_count": 50,
      "outputs": [
        {
          "output_type": "execute_result",
          "data": {
            "text/plain": [
              "array([[0.09627656],\n",
              "       [0.09627656],\n",
              "       [0.09974598],\n",
              "       ...,\n",
              "       [0.63249024],\n",
              "       [0.6309621 ],\n",
              "       [0.64929946]])"
            ]
          },
          "metadata": {},
          "execution_count": 50
        }
      ]
    },
    {
      "cell_type": "code",
      "source": [
        "data_close=data.filter([\"High\"])  \n",
        "data_closes=data_close.values                     \n",
        "from sklearn.preprocessing import MinMaxScaler\n",
        "Scaler=MinMaxScaler(feature_range= (0,1))\n",
        "Scales_data=Scaler.fit_transform(data_closes)\n",
        "Scales_data"
      ],
      "metadata": {
        "id": "jcb_MZEbRBWl",
        "colab": {
          "base_uri": "https://localhost:8080/",
          "height": 0
        },
        "outputId": "a2e0cc1b-a5ef-4164-b48f-a53fbe577774"
      },
      "execution_count": 51,
      "outputs": [
        {
          "output_type": "execute_result",
          "data": {
            "text/plain": [
              "array([[0.09978721],\n",
              "       [0.09978721],\n",
              "       [0.0989195 ],\n",
              "       ...,\n",
              "       [0.63959987],\n",
              "       [0.63577799],\n",
              "       [0.64686131]])"
            ]
          },
          "metadata": {},
          "execution_count": 51
        }
      ]
    },
    {
      "cell_type": "code",
      "source": [
        "data_close=data.filter([\"Low\"])  \n",
        "data_closes=data_close.values                     \n",
        "from sklearn.preprocessing import MinMaxScaler\n",
        "Scaler=MinMaxScaler(feature_range= (0,1))\n",
        "Scales_data=Scaler.fit_transform(data_closes)\n",
        "Scales_data"
      ],
      "metadata": {
        "id": "u3_oX1XARCK6"
      },
      "execution_count": null,
      "outputs": []
    },
    {
      "cell_type": "code",
      "source": [
        "data_close=data.filter([\"Close\"])  \n",
        "data_closes=data_close.values                     \n",
        "from sklearn.preprocessing import MinMaxScaler\n",
        "Scaler=MinMaxScaler(feature_range= (0,1))\n",
        "Scales_data=Scaler.fit_transform(data_closes)\n",
        "Scales_data"
      ],
      "metadata": {
        "id": "_MqjAIhsRDOn"
      },
      "execution_count": null,
      "outputs": []
    },
    {
      "cell_type": "code",
      "source": [
        "data_close=data.filter([\"Adj Close\"])  \n",
        "data_closes=data_close.values                     \n",
        "from sklearn.preprocessing import MinMaxScaler\n",
        "Scaler=MinMaxScaler(feature_range= (0,1))\n",
        "Scales_data=Scaler.fit_transform(data_closes)\n",
        "Scales_data"
      ],
      "metadata": {
        "id": "8-bXN6SDRD5J"
      },
      "execution_count": null,
      "outputs": []
    },
    {
      "cell_type": "code",
      "source": [
        "data_close=data.filter([\"Volume\"])  \n",
        "data_closes=data_close.values                     \n",
        "from sklearn.preprocessing import MinMaxScaler\n",
        "Scaler=MinMaxScaler(feature_range= (0,1))\n",
        "Scales_data=Scaler.fit_transform(data_closes)\n",
        "Scales_data"
      ],
      "metadata": {
        "id": "JMGmLDxZRG6l"
      },
      "execution_count": null,
      "outputs": []
    },
    {
      "cell_type": "markdown",
      "source": [
        "**Loading RMD datasaet feature scaling **"
      ],
      "metadata": {
        "id": "l8v1gVz1SDnp"
      }
    },
    {
      "cell_type": "code",
      "source": [
        "data = pd.read_csv(\"/content/drive/MyDrive/SIT723 DOCS/Historical Data/RMD_AX.csv\") \n",
        "data"
      ],
      "metadata": {
        "id": "A4aT65ToRmjr"
      },
      "execution_count": null,
      "outputs": []
    },
    {
      "cell_type": "code",
      "source": [
        "data_close=data.filter([\"Open\"])  \n",
        "data_closes=data_close.values                     \n",
        "from sklearn.preprocessing import MinMaxScaler\n",
        "Scaler=MinMaxScaler(feature_range= (0,1))\n",
        "Scales_data=Scaler.fit_transform(data_closes)\n",
        "Scales_data\n"
      ],
      "metadata": {
        "id": "I5VVRb1sR513"
      },
      "execution_count": null,
      "outputs": []
    },
    {
      "cell_type": "code",
      "source": [
        "data_close=data.filter([\"High\"])  \n",
        "data_closes=data_close.values                     \n",
        "from sklearn.preprocessing import MinMaxScaler\n",
        "Scaler=MinMaxScaler(feature_range= (0,1))\n",
        "Scales_data=Scaler.fit_transform(data_closes)\n",
        "Scales_data\n"
      ],
      "metadata": {
        "id": "T6t0IbLgRmd6"
      },
      "execution_count": null,
      "outputs": []
    },
    {
      "cell_type": "code",
      "source": [
        "data_close=data.filter([\"Low\"])  \n",
        "data_closes=data_close.values                     \n",
        "from sklearn.preprocessing import MinMaxScaler\n",
        "Scaler=MinMaxScaler(feature_range= (0,1))\n",
        "Scales_data=Scaler.fit_transform(data_closes)\n",
        "Scales_data\n"
      ],
      "metadata": {
        "id": "C7a5-fbwRmZj"
      },
      "execution_count": null,
      "outputs": []
    },
    {
      "cell_type": "code",
      "source": [
        "data_close=data.filter([\"Close\"])  \n",
        "data_closes=data_close.values                     \n",
        "from sklearn.preprocessing import MinMaxScaler\n",
        "Scaler=MinMaxScaler(feature_range= (0,1))\n",
        "Scales_data=Scaler.fit_transform(data_closes)\n",
        "Scales_data\n"
      ],
      "metadata": {
        "id": "pukkEzi8RmU7"
      },
      "execution_count": null,
      "outputs": []
    },
    {
      "cell_type": "code",
      "source": [
        "data_close=data.filter([\"Adj Close\"])  \n",
        "data_closes=data_close.values                     \n",
        "from sklearn.preprocessing import MinMaxScaler\n",
        "Scaler=MinMaxScaler(feature_range= (0,1))\n",
        "Scales_data=Scaler.fit_transform(data_closes)\n",
        "Scales_data\n"
      ],
      "metadata": {
        "id": "eErn44r1RmPP"
      },
      "execution_count": null,
      "outputs": []
    },
    {
      "cell_type": "code",
      "source": [
        "data_close=data.filter([\"Volume\"])  \n",
        "data_closes=data_close.values                     \n",
        "from sklearn.preprocessing import MinMaxScaler\n",
        "Scaler=MinMaxScaler(feature_range= (0,1))\n",
        "Scales_data=Scaler.fit_transform(data_closes)\n",
        "Scales_data\n"
      ],
      "metadata": {
        "id": "cubZ0ZjZRl9O"
      },
      "execution_count": null,
      "outputs": []
    },
    {
      "cell_type": "markdown",
      "source": [
        "**Loading and Scaling features for SHL **"
      ],
      "metadata": {
        "id": "5KIHLtc9S7qK"
      }
    },
    {
      "cell_type": "code",
      "source": [
        "data = pd.read_csv (\"/content/drive/MyDrive/SIT723 DOCS/Historical Data/SHL_AX.csv\")\n",
        "data"
      ],
      "metadata": {
        "id": "8aih8vUETDeL"
      },
      "execution_count": null,
      "outputs": []
    },
    {
      "cell_type": "code",
      "source": [],
      "metadata": {
        "id": "U99CKXZ8KbQL"
      },
      "execution_count": null,
      "outputs": []
    },
    {
      "cell_type": "code",
      "source": [],
      "metadata": {
        "id": "nYPRI596KeJy"
      },
      "execution_count": null,
      "outputs": []
    },
    {
      "cell_type": "code",
      "source": [
        "data_close=data.filter([\"Open\"])  \n",
        "data_closes=data_close.values                     \n",
        "from sklearn.preprocessing import MinMaxScaler\n",
        "Scaler=MinMaxScaler(feature_range= (0,1))\n",
        "Scales_data=Scaler.fit_transform(data_closes)\n",
        "Scales_data"
      ],
      "metadata": {
        "id": "Uenu6cIqTjNw"
      },
      "execution_count": null,
      "outputs": []
    },
    {
      "cell_type": "code",
      "source": [
        "data_close=data.filter([\"High\"])  \n",
        "data_closes=data_close.values                     \n",
        "from sklearn.preprocessing import MinMaxScaler\n",
        "Scaler=MinMaxScaler(feature_range= (0,1))\n",
        "Scales_data=Scaler.fit_transform(data_closes)\n",
        "Scales_data"
      ],
      "metadata": {
        "id": "x58hf4beTjEy"
      },
      "execution_count": null,
      "outputs": []
    },
    {
      "cell_type": "code",
      "source": [
        "data_close=data.filter([\"Low\"])  \n",
        "data_closes=data_close.values                     \n",
        "from sklearn.preprocessing import MinMaxScaler\n",
        "Scaler=MinMaxScaler(feature_range= (0,1))\n",
        "Scales_data=Scaler.fit_transform(data_closes)\n",
        "Scales_data"
      ],
      "metadata": {
        "id": "UiEsXVWsTi59"
      },
      "execution_count": null,
      "outputs": []
    },
    {
      "cell_type": "code",
      "source": [],
      "metadata": {
        "id": "R4MZac4lTiu8"
      },
      "execution_count": null,
      "outputs": []
    },
    {
      "cell_type": "code",
      "source": [
        "data_close=data.filter([\"Adj Close\"])\n",
        "data_closes=data_close.values\n",
        "from sklearn.preprocessing import MinMaxScaler\n",
        "Scaler=MinMaxScaler(feature_range= (0,1))\n",
        "Scales_data=Scaler.fit_transform(data_closes)\n",
        "Scales_data"
      ],
      "metadata": {
        "id": "xPNuI1tBTikM"
      },
      "execution_count": null,
      "outputs": []
    },
    {
      "cell_type": "code",
      "source": [
        "data_close=data.filter([\"Volume\"])  \n",
        "data_closes=data_close.values                     \n",
        "from sklearn.preprocessing import MinMaxScaler\n",
        "Scaler=MinMaxScaler(feature_range= (0,1))\n",
        "Scales_data=Scaler.fit_transform(data_closes)\n",
        "Scales_data"
      ],
      "metadata": {
        "id": "BFhvPazMTiWB"
      },
      "execution_count": null,
      "outputs": []
    },
    {
      "cell_type": "code",
      "source": [
        "import sys\n",
        "np.set_printoptions(threshold=sys.maxsize)"
      ],
      "metadata": {
        "id": "7PHsysVmTiGf"
      },
      "execution_count": null,
      "outputs": []
    },
    {
      "cell_type": "code",
      "source": [
        "data = pd.read_csv(\"/content/drive/MyDrive/SIT723 DOCS/Historical Data/TLS_AX.csv\")\n",
        "data"
      ],
      "metadata": {
        "id": "fBqsH80vXnBv"
      },
      "execution_count": null,
      "outputs": []
    },
    {
      "cell_type": "code",
      "source": [
        "data_close=data.filter([\"Open\"])  \n",
        "data_closes=data_close.values                     \n",
        "from sklearn.preprocessing import MinMaxScaler\n",
        "Scaler=MinMaxScaler(feature_range= (0,1))\n",
        "Scales_data=Scaler.fit_transform(data_closes)\n",
        "Scales_data"
      ],
      "metadata": {
        "id": "6XlWKhCbnJdJ"
      },
      "execution_count": null,
      "outputs": []
    },
    {
      "cell_type": "code",
      "source": [
        "data_close=data.filter([\"High\"])  \n",
        "data_closes=data_close.values                     \n",
        "from sklearn.preprocessing import MinMaxScaler\n",
        "Scaler=MinMaxScaler(feature_range= (0,1))\n",
        "Scales_data=Scaler.fit_transform(data_closes)\n",
        "Scales_data"
      ],
      "metadata": {
        "id": "CO8Y5-FbnNzI"
      },
      "execution_count": null,
      "outputs": []
    },
    {
      "cell_type": "code",
      "source": [
        "data_close=data.filter([\"Low\"])  \n",
        "data_closes=data_close.values                     \n",
        "from sklearn.preprocessing import MinMaxScaler\n",
        "Scaler=MinMaxScaler(feature_range= (0,1))\n",
        "Scales_data=Scaler.fit_transform(data_closes)\n",
        "Scales_data"
      ],
      "metadata": {
        "id": "8cmCsSUFnNDJ"
      },
      "execution_count": null,
      "outputs": []
    },
    {
      "cell_type": "code",
      "source": [
        "data_close=data.filter([\"Close\"])\n",
        "data_closes=data_close.values\n",
        "from sklearn.preprocessing import MinMaxScaler\n",
        "Scaler= MinMaxScaler (feature_range= (0,1))\n",
        "Scales_data=Scaler.fit_transform(data_closes)\n",
        "Scales_data"
      ],
      "metadata": {
        "id": "v0HsPefRnMgs"
      },
      "execution_count": null,
      "outputs": []
    },
    {
      "cell_type": "code",
      "source": [
        "data_close=data.filter([\"Adj Close\"])  \n",
        "data_closes=data_close.values                     \n",
        "from sklearn.preprocessing import MinMaxScaler\n",
        "Scaler=MinMaxScaler(feature_range= (0,1))\n",
        "Scales_data=Scaler.fit_transform(data_closes)\n",
        "Scales_data"
      ],
      "metadata": {
        "id": "tL0VWVBBnLyL"
      },
      "execution_count": null,
      "outputs": []
    },
    {
      "cell_type": "code",
      "source": [
        "data_close=data.filter([\"Volume\"])  \n",
        "data_closes=data_close.values                     \n",
        "from sklearn.preprocessing import MinMaxScaler\n",
        "Scaler=MinMaxScaler(feature_range= (0,1))\n",
        "Scales_data=Scaler.fit_transform(data_closes)\n",
        "Scales_data"
      ],
      "metadata": {
        "id": "PpggNHhznK8z"
      },
      "execution_count": null,
      "outputs": []
    },
    {
      "cell_type": "markdown",
      "source": [
        "Loading TNE data "
      ],
      "metadata": {
        "id": "lkA98ahwou3Y"
      }
    },
    {
      "cell_type": "code",
      "source": [],
      "metadata": {
        "id": "JWOFtTHhnwNq"
      },
      "execution_count": null,
      "outputs": []
    },
    {
      "cell_type": "code",
      "source": [
        "data = pd.read_csv(\"/content/drive/MyDrive/SIT723 DOCS/Historical Data/TNE_AX.csv\")\n",
        "data"
      ],
      "metadata": {
        "id": "0k4yohTSnwHM"
      },
      "execution_count": null,
      "outputs": []
    },
    {
      "cell_type": "code",
      "source": [
        "data_close=data.filter([\"Open\"])\n",
        "data_closes=data_close.values\n",
        "from sklearn.preprocessing import MinMaxScaler\n",
        "Scaler= MinMaxScaler (feature_range= (0,1))\n",
        "Scales_data=Scaler.fit_transform(data_closes)\n",
        "Scales_data"
      ],
      "metadata": {
        "id": "HJrHXDCPnwDi"
      },
      "execution_count": null,
      "outputs": []
    },
    {
      "cell_type": "code",
      "source": [
        "data_close=data.filter([\"High\"])\n",
        "data_closes=data_close.values\n",
        "from sklearn.preprocessing import MinMaxScaler\n",
        "Scaler= MinMaxScaler (feature_range= (0,1))\n",
        "Scales_data=Scaler.fit_transform(data_closes)\n",
        "Scales_data"
      ],
      "metadata": {
        "id": "eQcJIboVnv_r"
      },
      "execution_count": null,
      "outputs": []
    },
    {
      "cell_type": "code",
      "source": [
        "data_close=data.filter([\"Low\"])  \n",
        "data_closes=data_close.values                     \n",
        "from sklearn.preprocessing import MinMaxScaler\n",
        "Scaler=MinMaxScaler(feature_range= (0,1))\n",
        "Scales_data=Scaler.fit_transform(data_closes)\n",
        "Scales_data"
      ],
      "metadata": {
        "id": "-zSvORUtnv8K"
      },
      "execution_count": null,
      "outputs": []
    },
    {
      "cell_type": "code",
      "source": [
        "data_close=data.filter([\"Close\"])  \n",
        "data_closes=data_close.values                     \n",
        "from sklearn.preprocessing import MinMaxScaler\n",
        "Scaler=MinMaxScaler(feature_range= (0,1))\n",
        "Scales_data=Scaler.fit_transform(data_closes)\n",
        "Scales_data"
      ],
      "metadata": {
        "id": "ELd7SQHFnv34"
      },
      "execution_count": null,
      "outputs": []
    },
    {
      "cell_type": "code",
      "source": [
        "data_close=data.filter([\"Adj Close\"])  \n",
        "data_closes=data_close.values                     \n",
        "from sklearn.preprocessing import MinMaxScaler\n",
        "Scaler=MinMaxScaler(feature_range= (0,1))\n",
        "Scales_data=Scaler.fit_transform(data_closes)\n",
        "Scales_data"
      ],
      "metadata": {
        "id": "FTOZsD4AnvSc"
      },
      "execution_count": null,
      "outputs": []
    },
    {
      "cell_type": "code",
      "source": [
        "data_close=data.filter([\"Volume\"])  \n",
        "data_closes=data_close.values                     \n",
        "from sklearn.preprocessing import MinMaxScaler\n",
        "Scaler=MinMaxScaler(feature_range= (0,1))\n",
        "Scales_data=Scaler.fit_transform(data_closes)\n",
        "Scales_data"
      ],
      "metadata": {
        "id": "kq4nhDSfoGf2"
      },
      "execution_count": null,
      "outputs": []
    },
    {
      "cell_type": "markdown",
      "source": [
        "**Load WBC dataset for feature scaling**"
      ],
      "metadata": {
        "id": "5rVVSXfqroUF"
      }
    },
    {
      "cell_type": "code",
      "source": [
        "import sys\n",
        "import numpy as np\n",
        "np.set_printoptions(threshold=sys.maxsize)\n",
        "data=pd.read_csv(\"/content/drive/MyDrive/SIT723 DOCS/Historical Data/WBC_AX.csv\")\n",
        "data"
      ],
      "metadata": {
        "id": "IbeRoUtvsu4t"
      },
      "execution_count": null,
      "outputs": []
    },
    {
      "cell_type": "code",
      "source": [
        "data_close=data.filter([\"Open\"])  \n",
        "data_closes=data_close.values                     \n",
        "from sklearn.preprocessing import MinMaxScaler\n",
        "Scaler=MinMaxScaler(feature_range=(0,1))\n",
        "Scales_data=Scaler.fit_transform(data_closes)\n",
        "Scales_data"
      ],
      "metadata": {
        "id": "w8ECb3AerjLq"
      },
      "execution_count": null,
      "outputs": []
    },
    {
      "cell_type": "code",
      "source": [
        "data_close=data.filter([\"High\"])\n",
        "data_closes=data_close.values\n",
        "from sklearn.preprocessing import MinMaxScaler\n",
        "Scaler= MinMaxScaler (feature_range= (0,1))\n",
        "Scales_data=Scaler.fit_transform(data_closes)\n",
        "Scales_data\n"
      ],
      "metadata": {
        "id": "eJDBr5Vrrioj"
      },
      "execution_count": null,
      "outputs": []
    },
    {
      "cell_type": "code",
      "source": [
        "data_close=data.filter([\"Low\"])  \n",
        "data_closes=data_close.values                \n",
        "from sklearn.preprocessing import MinMaxScaler\n",
        "Scaler=MinMaxScaler(feature_range= (0,1))\n",
        "Scales_data=Scaler.fit_transform(data_closes)\n",
        "Scales_data"
      ],
      "metadata": {
        "id": "7mOlgwhQwAtc"
      },
      "execution_count": null,
      "outputs": []
    },
    {
      "cell_type": "code",
      "source": [
        "data_close=data.filter([\"Close\"])\n",
        "data_closes=data_close.values\n",
        "from sklearn.preprocessing import MinMaxScaler\n",
        "Scaler= MinMaxScaler (feature_range= (0,1))\n",
        "Scales_dataWBC2=Scaler.fit_transform(data_closes)\n",
        "Scales_dataWBC2"
      ],
      "metadata": {
        "id": "oEho6jLVwJ4Y"
      },
      "execution_count": null,
      "outputs": []
    },
    {
      "cell_type": "code",
      "source": [
        "data_close=data.filter([\"Adj Close\"])  \n",
        "data_closes=data_close.values                     \n",
        "from sklearn.preprocessing import MinMaxScaler\n",
        "Scaler=MinMaxScaler(feature_range= (0,1))\n",
        "Scales_dataWBC=Scaler.fit_transform(data_closes)\n",
        "Scales_dataWBC\n"
      ],
      "metadata": {
        "id": "WXYL8o30wOvq"
      },
      "execution_count": null,
      "outputs": []
    },
    {
      "cell_type": "code",
      "source": [
        "data_close=data.filter([\"Volume\"])  \n",
        "data_closes=data_close.values                     \n",
        "from sklearn.preprocessing import MinMaxScaler\n",
        "Scaler=MinMaxScaler(feature_range= (0,1))\n",
        "Scales_data=Scaler.fit_transform(data_closes)\n",
        "Scales_data"
      ],
      "metadata": {
        "id": "JtEURhZIwSk-"
      },
      "execution_count": null,
      "outputs": []
    },
    {
      "cell_type": "markdown",
      "source": [
        "**Split** dataset to train and test start with WBC stock- Westpac Bank \n"
      ],
      "metadata": {
        "id": "TRm_KdGWaK94"
      }
    },
    {
      "cell_type": "code",
      "source": [
        "\n",
        "data_close=data.filter([\"Close\"])  \n",
        "data_closes=data_close.values                     \n",
        "from sklearn.preprocessing import MinMaxScaler\n",
        "Scaler=MinMaxScaler(feature_range= (0,1))\n",
        "Scales_dataWBC2=Scaler.fit_transform(data_closes)\n",
        "Scales_dataWBC2"
      ],
      "metadata": {
        "id": "Y_uWt5w1h34K"
      },
      "execution_count": null,
      "outputs": []
    },
    {
      "cell_type": "code",
      "source": [
        "Scales_dataWBC2 = pd.read_csv(\"/content/drive/MyDrive/SIT723 DOCS/Historical Data/WBC_AX.csv\")\n",
        "Scales_dataWBC2"
      ],
      "metadata": {
        "id": "eU9TYSzRlRKB",
        "colab": {
          "base_uri": "https://localhost:8080/",
          "height": 423
        },
        "outputId": "b5ccb56c-63ae-4eb1-f9f8-e9cad9bfbc52"
      },
      "execution_count": 61,
      "outputs": [
        {
          "output_type": "execute_result",
          "data": {
            "text/plain": [
              "            Date       Open       High        Low      Close  Adj Close  \\\n",
              "0     30/12/2008  16.636738  16.855249  16.547344  16.855249   8.094463   \n",
              "1     31/12/2008  16.636738  16.855249  16.547344  16.855249   8.094463   \n",
              "2      2/01/2009  16.775789  17.024099  16.497683  16.646669   7.994293   \n",
              "3      5/01/2009  16.805588  16.944639  16.388428  16.527479   7.937055   \n",
              "4      6/01/2009  16.845318  16.914843  16.626804  16.914843   8.123080   \n",
              "...          ...        ...        ...        ...        ...        ...   \n",
              "3537  22/12/2022  23.639999  23.760000  23.469999  23.549999  23.549999   \n",
              "3538  23/12/2022  23.400000  23.525000  23.379999  23.500000  23.500000   \n",
              "3539  28/12/2022  23.500000  23.600000  23.389999  23.490000  23.490000   \n",
              "3540  29/12/2022  23.490000  23.490000  23.090000  23.270000  23.270000   \n",
              "3541  30/12/2022  23.360001  23.520000  23.309999  23.350000  23.350000   \n",
              "\n",
              "       Volume  \n",
              "0     3044164  \n",
              "1     3044046  \n",
              "2     3655805  \n",
              "3     5161118  \n",
              "4     4922125  \n",
              "...       ...  \n",
              "3537  8021837  \n",
              "3538  2705357  \n",
              "3539  3424307  \n",
              "3540  3645448  \n",
              "3541  3935218  \n",
              "\n",
              "[3542 rows x 7 columns]"
            ],
            "text/html": [
              "\n",
              "  <div id=\"df-8f03237f-8c9a-425d-ad90-8075d731f978\">\n",
              "    <div class=\"colab-df-container\">\n",
              "      <div>\n",
              "<style scoped>\n",
              "    .dataframe tbody tr th:only-of-type {\n",
              "        vertical-align: middle;\n",
              "    }\n",
              "\n",
              "    .dataframe tbody tr th {\n",
              "        vertical-align: top;\n",
              "    }\n",
              "\n",
              "    .dataframe thead th {\n",
              "        text-align: right;\n",
              "    }\n",
              "</style>\n",
              "<table border=\"1\" class=\"dataframe\">\n",
              "  <thead>\n",
              "    <tr style=\"text-align: right;\">\n",
              "      <th></th>\n",
              "      <th>Date</th>\n",
              "      <th>Open</th>\n",
              "      <th>High</th>\n",
              "      <th>Low</th>\n",
              "      <th>Close</th>\n",
              "      <th>Adj Close</th>\n",
              "      <th>Volume</th>\n",
              "    </tr>\n",
              "  </thead>\n",
              "  <tbody>\n",
              "    <tr>\n",
              "      <th>0</th>\n",
              "      <td>30/12/2008</td>\n",
              "      <td>16.636738</td>\n",
              "      <td>16.855249</td>\n",
              "      <td>16.547344</td>\n",
              "      <td>16.855249</td>\n",
              "      <td>8.094463</td>\n",
              "      <td>3044164</td>\n",
              "    </tr>\n",
              "    <tr>\n",
              "      <th>1</th>\n",
              "      <td>31/12/2008</td>\n",
              "      <td>16.636738</td>\n",
              "      <td>16.855249</td>\n",
              "      <td>16.547344</td>\n",
              "      <td>16.855249</td>\n",
              "      <td>8.094463</td>\n",
              "      <td>3044046</td>\n",
              "    </tr>\n",
              "    <tr>\n",
              "      <th>2</th>\n",
              "      <td>2/01/2009</td>\n",
              "      <td>16.775789</td>\n",
              "      <td>17.024099</td>\n",
              "      <td>16.497683</td>\n",
              "      <td>16.646669</td>\n",
              "      <td>7.994293</td>\n",
              "      <td>3655805</td>\n",
              "    </tr>\n",
              "    <tr>\n",
              "      <th>3</th>\n",
              "      <td>5/01/2009</td>\n",
              "      <td>16.805588</td>\n",
              "      <td>16.944639</td>\n",
              "      <td>16.388428</td>\n",
              "      <td>16.527479</td>\n",
              "      <td>7.937055</td>\n",
              "      <td>5161118</td>\n",
              "    </tr>\n",
              "    <tr>\n",
              "      <th>4</th>\n",
              "      <td>6/01/2009</td>\n",
              "      <td>16.845318</td>\n",
              "      <td>16.914843</td>\n",
              "      <td>16.626804</td>\n",
              "      <td>16.914843</td>\n",
              "      <td>8.123080</td>\n",
              "      <td>4922125</td>\n",
              "    </tr>\n",
              "    <tr>\n",
              "      <th>...</th>\n",
              "      <td>...</td>\n",
              "      <td>...</td>\n",
              "      <td>...</td>\n",
              "      <td>...</td>\n",
              "      <td>...</td>\n",
              "      <td>...</td>\n",
              "      <td>...</td>\n",
              "    </tr>\n",
              "    <tr>\n",
              "      <th>3537</th>\n",
              "      <td>22/12/2022</td>\n",
              "      <td>23.639999</td>\n",
              "      <td>23.760000</td>\n",
              "      <td>23.469999</td>\n",
              "      <td>23.549999</td>\n",
              "      <td>23.549999</td>\n",
              "      <td>8021837</td>\n",
              "    </tr>\n",
              "    <tr>\n",
              "      <th>3538</th>\n",
              "      <td>23/12/2022</td>\n",
              "      <td>23.400000</td>\n",
              "      <td>23.525000</td>\n",
              "      <td>23.379999</td>\n",
              "      <td>23.500000</td>\n",
              "      <td>23.500000</td>\n",
              "      <td>2705357</td>\n",
              "    </tr>\n",
              "    <tr>\n",
              "      <th>3539</th>\n",
              "      <td>28/12/2022</td>\n",
              "      <td>23.500000</td>\n",
              "      <td>23.600000</td>\n",
              "      <td>23.389999</td>\n",
              "      <td>23.490000</td>\n",
              "      <td>23.490000</td>\n",
              "      <td>3424307</td>\n",
              "    </tr>\n",
              "    <tr>\n",
              "      <th>3540</th>\n",
              "      <td>29/12/2022</td>\n",
              "      <td>23.490000</td>\n",
              "      <td>23.490000</td>\n",
              "      <td>23.090000</td>\n",
              "      <td>23.270000</td>\n",
              "      <td>23.270000</td>\n",
              "      <td>3645448</td>\n",
              "    </tr>\n",
              "    <tr>\n",
              "      <th>3541</th>\n",
              "      <td>30/12/2022</td>\n",
              "      <td>23.360001</td>\n",
              "      <td>23.520000</td>\n",
              "      <td>23.309999</td>\n",
              "      <td>23.350000</td>\n",
              "      <td>23.350000</td>\n",
              "      <td>3935218</td>\n",
              "    </tr>\n",
              "  </tbody>\n",
              "</table>\n",
              "<p>3542 rows × 7 columns</p>\n",
              "</div>\n",
              "      <button class=\"colab-df-convert\" onclick=\"convertToInteractive('df-8f03237f-8c9a-425d-ad90-8075d731f978')\"\n",
              "              title=\"Convert this dataframe to an interactive table.\"\n",
              "              style=\"display:none;\">\n",
              "        \n",
              "  <svg xmlns=\"http://www.w3.org/2000/svg\" height=\"24px\"viewBox=\"0 0 24 24\"\n",
              "       width=\"24px\">\n",
              "    <path d=\"M0 0h24v24H0V0z\" fill=\"none\"/>\n",
              "    <path d=\"M18.56 5.44l.94 2.06.94-2.06 2.06-.94-2.06-.94-.94-2.06-.94 2.06-2.06.94zm-11 1L8.5 8.5l.94-2.06 2.06-.94-2.06-.94L8.5 2.5l-.94 2.06-2.06.94zm10 10l.94 2.06.94-2.06 2.06-.94-2.06-.94-.94-2.06-.94 2.06-2.06.94z\"/><path d=\"M17.41 7.96l-1.37-1.37c-.4-.4-.92-.59-1.43-.59-.52 0-1.04.2-1.43.59L10.3 9.45l-7.72 7.72c-.78.78-.78 2.05 0 2.83L4 21.41c.39.39.9.59 1.41.59.51 0 1.02-.2 1.41-.59l7.78-7.78 2.81-2.81c.8-.78.8-2.07 0-2.86zM5.41 20L4 18.59l7.72-7.72 1.47 1.35L5.41 20z\"/>\n",
              "  </svg>\n",
              "      </button>\n",
              "      \n",
              "  <style>\n",
              "    .colab-df-container {\n",
              "      display:flex;\n",
              "      flex-wrap:wrap;\n",
              "      gap: 12px;\n",
              "    }\n",
              "\n",
              "    .colab-df-convert {\n",
              "      background-color: #E8F0FE;\n",
              "      border: none;\n",
              "      border-radius: 50%;\n",
              "      cursor: pointer;\n",
              "      display: none;\n",
              "      fill: #1967D2;\n",
              "      height: 32px;\n",
              "      padding: 0 0 0 0;\n",
              "      width: 32px;\n",
              "    }\n",
              "\n",
              "    .colab-df-convert:hover {\n",
              "      background-color: #E2EBFA;\n",
              "      box-shadow: 0px 1px 2px rgba(60, 64, 67, 0.3), 0px 1px 3px 1px rgba(60, 64, 67, 0.15);\n",
              "      fill: #174EA6;\n",
              "    }\n",
              "\n",
              "    [theme=dark] .colab-df-convert {\n",
              "      background-color: #3B4455;\n",
              "      fill: #D2E3FC;\n",
              "    }\n",
              "\n",
              "    [theme=dark] .colab-df-convert:hover {\n",
              "      background-color: #434B5C;\n",
              "      box-shadow: 0px 1px 3px 1px rgba(0, 0, 0, 0.15);\n",
              "      filter: drop-shadow(0px 1px 2px rgba(0, 0, 0, 0.3));\n",
              "      fill: #FFFFFF;\n",
              "    }\n",
              "  </style>\n",
              "\n",
              "      <script>\n",
              "        const buttonEl =\n",
              "          document.querySelector('#df-8f03237f-8c9a-425d-ad90-8075d731f978 button.colab-df-convert');\n",
              "        buttonEl.style.display =\n",
              "          google.colab.kernel.accessAllowed ? 'block' : 'none';\n",
              "\n",
              "        async function convertToInteractive(key) {\n",
              "          const element = document.querySelector('#df-8f03237f-8c9a-425d-ad90-8075d731f978');\n",
              "          const dataTable =\n",
              "            await google.colab.kernel.invokeFunction('convertToInteractive',\n",
              "                                                     [key], {});\n",
              "          if (!dataTable) return;\n",
              "\n",
              "          const docLinkHtml = 'Like what you see? Visit the ' +\n",
              "            '<a target=\"_blank\" href=https://colab.research.google.com/notebooks/data_table.ipynb>data table notebook</a>'\n",
              "            + ' to learn more about interactive tables.';\n",
              "          element.innerHTML = '';\n",
              "          dataTable['output_type'] = 'display_data';\n",
              "          await google.colab.output.renderOutput(dataTable, element);\n",
              "          const docLink = document.createElement('div');\n",
              "          docLink.innerHTML = docLinkHtml;\n",
              "          element.appendChild(docLink);\n",
              "        }\n",
              "      </script>\n",
              "    </div>\n",
              "  </div>\n",
              "  "
            ]
          },
          "metadata": {},
          "execution_count": 61
        }
      ]
    },
    {
      "cell_type": "code",
      "source": [
        "data_close=data.filter([\"Close\"])  \n",
        "data_closes=data_close.values                     \n",
        "from sklearn.preprocessing import MinMaxScaler\n",
        "Scaler=MinMaxScaler(feature_range= (0,1))\n",
        "Scales_dataWBC2=Scaler.fit_transform(data_closes)\n",
        "\n",
        "Scales_dataWBC2"
      ],
      "metadata": {
        "id": "6K7M_U0glz0a",
        "colab": {
          "base_uri": "https://localhost:8080/",
          "height": 0
        },
        "outputId": "53a4ed86-2e0f-4b0b-f675-e007858550d2"
      },
      "execution_count": 62,
      "outputs": [
        {
          "output_type": "execute_result",
          "data": {
            "text/plain": [
              "array([[0.10117148],\n",
              "       [0.10117148],\n",
              "       [0.10117148],\n",
              "       ...,\n",
              "       [0.63665691],\n",
              "       [0.63475264],\n",
              "       [0.63437177]])"
            ]
          },
          "metadata": {},
          "execution_count": 62
        }
      ]
    },
    {
      "cell_type": "code",
      "source": [
        "##This is to split dataset into train and test\n",
        "\n",
        "\n",
        "training_size = int(len(Scales_dataWBC2)*0.80)  #80% of scales_data is given as the training dataset\n",
        "test_size = len(Scales_dataWBC2) - training_size  #whilst 20% remaining makes uo the test data\n",
        "training_data = Scales_dataWBC2[0:training_size, :]\n",
        "test_data = Scales_dataWBC2[training_size : len(Scales_dataWBC2), :1]\n",
        "\n",
        "\n",
        "     "
      ],
      "metadata": {
        "id": "5d1i94glcUGA"
      },
      "execution_count": 63,
      "outputs": []
    },
    {
      "cell_type": "code",
      "source": [
        "training_size, test_size"
      ],
      "metadata": {
        "id": "q_sxO5t7KjD9",
        "colab": {
          "base_uri": "https://localhost:8080/",
          "height": 0
        },
        "outputId": "62111574-e280-4746-f96d-18b245d15165"
      },
      "execution_count": 64,
      "outputs": [
        {
          "output_type": "execute_result",
          "data": {
            "text/plain": [
              "(2833, 709)"
            ]
          },
          "metadata": {},
          "execution_count": 64
        }
      ]
    },
    {
      "cell_type": "code",
      "source": [
        "training_data"
      ],
      "metadata": {
        "id": "LsBlC2bdKq4T",
        "colab": {
          "base_uri": "https://localhost:8080/",
          "height": 0
        },
        "outputId": "59811b2b-b139-411a-8912-4a0fae8fb27d"
      },
      "execution_count": 65,
      "outputs": [
        {
          "output_type": "execute_result",
          "data": {
            "text/plain": [
              "array([[0.10117148],\n",
              "       [0.10117148],\n",
              "       [0.10117148],\n",
              "       ...,\n",
              "       [0.50754442],\n",
              "       [0.47859884],\n",
              "       [0.49726112]])"
            ]
          },
          "metadata": {},
          "execution_count": 65
        }
      ]
    },
    {
      "cell_type": "code",
      "source": [
        "def create_mydataset(dataset, step=1):  #this will enable dataset values into a matrix\n",
        "    Xstockdata, Ystockdata = [], []\n",
        "    for i in range(len(dataset)-step-1):\n",
        "        a = dataset[i:(i+step), 0]\n",
        "        Xstockdata.append(a)\n",
        "        Ystockdata.append(dataset[i+step, 0])\n",
        "\n",
        "    return np.array(Xstockdata), np.array(Ystockdata)"
      ],
      "metadata": {
        "id": "VR1f6yUzKekU"
      },
      "execution_count": 158,
      "outputs": []
    },
    {
      "cell_type": "code",
      "source": [
        "# Reshaping X and Y\n",
        "\n",
        "time_step=100\n",
        "X_train, y_train=create_mydataset(training_data, time_step)\n",
        "X_test, ytest=create_mydataset(test_data, time_step)"
      ],
      "metadata": {
        "id": "yx7ETFGoLHPt"
      },
      "execution_count": 67,
      "outputs": []
    },
    {
      "cell_type": "code",
      "source": [
        "print(X_train.shape), print (y_train.shape)"
      ],
      "metadata": {
        "id": "dURQKUJjqbPq",
        "colab": {
          "base_uri": "https://localhost:8080/",
          "height": 0
        },
        "outputId": "8049bb61-f4c0-43c5-f23d-48270d5215ff"
      },
      "execution_count": 68,
      "outputs": [
        {
          "output_type": "stream",
          "name": "stdout",
          "text": [
            "(2732, 100)\n",
            "(2732,)\n"
          ]
        },
        {
          "output_type": "execute_result",
          "data": {
            "text/plain": [
              "(None, None)"
            ]
          },
          "metadata": {},
          "execution_count": 68
        }
      ]
    },
    {
      "cell_type": "code",
      "source": [
        "print(X_test.shape), print (ytest.shape)"
      ],
      "metadata": {
        "id": "ZOo-5eez0khA",
        "colab": {
          "base_uri": "https://localhost:8080/",
          "height": 0
        },
        "outputId": "6378c73e-6228-4202-b9b3-8c6033015706"
      },
      "execution_count": 69,
      "outputs": [
        {
          "output_type": "stream",
          "name": "stdout",
          "text": [
            "(608, 100)\n",
            "(608,)\n"
          ]
        },
        {
          "output_type": "execute_result",
          "data": {
            "text/plain": [
              "(None, None)"
            ]
          },
          "metadata": {},
          "execution_count": 69
        }
      ]
    },
    {
      "cell_type": "code",
      "source": [
        "#Reshaping input for LSTM model\n",
        "\n",
        "X_train=X_train.reshape (X_train.shape[0], X_train.shape[1], 1)\n",
        "X_test=X_test.reshape (X_test.shape[0], X_test.shape[1], 1)\n",
        "X_train.shape\n",
        "X_test.shape"
      ],
      "metadata": {
        "id": "g1DZIRmP1tn2",
        "colab": {
          "base_uri": "https://localhost:8080/",
          "height": 0
        },
        "outputId": "e30b5b9a-5c32-4200-8116-c9f0b7d537f6"
      },
      "execution_count": 70,
      "outputs": [
        {
          "output_type": "execute_result",
          "data": {
            "text/plain": [
              "(608, 100, 1)"
            ]
          },
          "metadata": {},
          "execution_count": 70
        }
      ]
    },
    {
      "cell_type": "code",
      "source": [
        "from keras.models import Sequential\n",
        "from keras.layers import LSTM\n",
        "from keras.layers import Dense"
      ],
      "metadata": {
        "id": "oS3G1LYNkghE"
      },
      "execution_count": 71,
      "outputs": []
    },
    {
      "cell_type": "markdown",
      "source": [
        "**Building the model**"
      ],
      "metadata": {
        "id": "KOoJX1_vlFbf"
      }
    },
    {
      "cell_type": "code",
      "source": [
        "model=Sequential()\n",
        "model.add(LSTM(128,return_sequences=True,input_shape=(X_train.shape[1],1)))\n",
        "model.add(LSTM(64, return_sequences=True))\n",
        "model.add(LSTM(64))\n",
        "model.add(Dense(units=1, activation='linear'))\n",
        "model.summary()\n",
        "\n"
      ],
      "metadata": {
        "id": "NKPFtEgUkkCr",
        "colab": {
          "base_uri": "https://localhost:8080/",
          "height": 0
        },
        "outputId": "be5a7cb0-b2be-4582-fd51-b48b9a8da23d"
      },
      "execution_count": 72,
      "outputs": [
        {
          "output_type": "stream",
          "name": "stdout",
          "text": [
            "Model: \"sequential\"\n",
            "_________________________________________________________________\n",
            " Layer (type)                Output Shape              Param #   \n",
            "=================================================================\n",
            " lstm (LSTM)                 (None, 100, 128)          66560     \n",
            "                                                                 \n",
            " lstm_1 (LSTM)               (None, 100, 64)           49408     \n",
            "                                                                 \n",
            " lstm_2 (LSTM)               (None, 64)                33024     \n",
            "                                                                 \n",
            " dense (Dense)               (None, 1)                 65        \n",
            "                                                                 \n",
            "=================================================================\n",
            "Total params: 149,057\n",
            "Trainable params: 149,057\n",
            "Non-trainable params: 0\n",
            "_________________________________________________________________\n"
          ]
        }
      ]
    },
    {
      "cell_type": "code",
      "source": [
        "mse='mean_squared_loss'\n",
        "model.compile(loss='mse',optimizer ='adam')\n",
        "model.fit(X_train, y_train,validation_data=(X_test, ytest), epochs=100,batch_size=64, verbose=1)"
      ],
      "metadata": {
        "id": "zT6L2MNmWNct",
        "colab": {
          "base_uri": "https://localhost:8080/",
          "height": 0
        },
        "outputId": "756b54ab-328f-4704-e88f-cebeb563fae0"
      },
      "execution_count": 73,
      "outputs": [
        {
          "output_type": "stream",
          "name": "stdout",
          "text": [
            "Epoch 1/100\n",
            "43/43 [==============================] - 17s 297ms/step - loss: 0.0048 - val_loss: 0.0015\n",
            "Epoch 2/100\n",
            "43/43 [==============================] - 11s 251ms/step - loss: 1.1834e-04 - val_loss: 0.0014\n",
            "Epoch 3/100\n",
            "43/43 [==============================] - 11s 246ms/step - loss: 9.1721e-05 - val_loss: 0.0014\n",
            "Epoch 4/100\n",
            "43/43 [==============================] - 10s 243ms/step - loss: 1.0577e-04 - val_loss: 0.0017\n",
            "Epoch 5/100\n",
            "43/43 [==============================] - 11s 244ms/step - loss: 9.9649e-05 - val_loss: 0.0015\n",
            "Epoch 6/100\n",
            "43/43 [==============================] - 10s 242ms/step - loss: 8.7917e-05 - val_loss: 0.0012\n",
            "Epoch 7/100\n",
            "43/43 [==============================] - 10s 243ms/step - loss: 9.9998e-05 - val_loss: 0.0014\n",
            "Epoch 8/100\n",
            "43/43 [==============================] - 10s 244ms/step - loss: 1.0046e-04 - val_loss: 0.0013\n",
            "Epoch 9/100\n",
            "43/43 [==============================] - 10s 244ms/step - loss: 1.1222e-04 - val_loss: 0.0011\n",
            "Epoch 10/100\n",
            "43/43 [==============================] - 10s 244ms/step - loss: 9.0703e-05 - val_loss: 0.0014\n",
            "Epoch 11/100\n",
            "43/43 [==============================] - 11s 245ms/step - loss: 9.3239e-05 - val_loss: 0.0011\n",
            "Epoch 12/100\n",
            "43/43 [==============================] - 10s 243ms/step - loss: 8.9841e-05 - val_loss: 0.0013\n",
            "Epoch 13/100\n",
            "43/43 [==============================] - 10s 243ms/step - loss: 8.5202e-05 - val_loss: 0.0015\n",
            "Epoch 14/100\n",
            "43/43 [==============================] - 11s 246ms/step - loss: 8.0662e-05 - val_loss: 0.0011\n",
            "Epoch 15/100\n",
            "43/43 [==============================] - 12s 272ms/step - loss: 7.6052e-05 - val_loss: 0.0010\n",
            "Epoch 16/100\n",
            "43/43 [==============================] - 10s 244ms/step - loss: 7.7038e-05 - val_loss: 0.0012\n",
            "Epoch 17/100\n",
            "43/43 [==============================] - 10s 244ms/step - loss: 8.3117e-05 - val_loss: 0.0011\n",
            "Epoch 18/100\n",
            "43/43 [==============================] - 10s 244ms/step - loss: 8.5096e-05 - val_loss: 8.7555e-04\n",
            "Epoch 19/100\n",
            "43/43 [==============================] - 10s 243ms/step - loss: 7.5476e-05 - val_loss: 8.6378e-04\n",
            "Epoch 20/100\n",
            "43/43 [==============================] - 11s 245ms/step - loss: 7.5385e-05 - val_loss: 8.8131e-04\n",
            "Epoch 21/100\n",
            "43/43 [==============================] - 10s 244ms/step - loss: 7.1634e-05 - val_loss: 8.2871e-04\n",
            "Epoch 22/100\n",
            "43/43 [==============================] - 11s 246ms/step - loss: 7.3999e-05 - val_loss: 0.0013\n",
            "Epoch 23/100\n",
            "43/43 [==============================] - 10s 244ms/step - loss: 7.1176e-05 - val_loss: 0.0011\n",
            "Epoch 24/100\n",
            "43/43 [==============================] - 10s 244ms/step - loss: 6.6384e-05 - val_loss: 0.0011\n",
            "Epoch 25/100\n",
            "43/43 [==============================] - 11s 245ms/step - loss: 6.6425e-05 - val_loss: 6.9211e-04\n",
            "Epoch 26/100\n",
            "43/43 [==============================] - 11s 246ms/step - loss: 6.9941e-05 - val_loss: 0.0013\n",
            "Epoch 27/100\n",
            "43/43 [==============================] - 11s 245ms/step - loss: 6.3906e-05 - val_loss: 6.5471e-04\n",
            "Epoch 28/100\n",
            "43/43 [==============================] - 11s 245ms/step - loss: 7.2336e-05 - val_loss: 0.0016\n",
            "Epoch 29/100\n",
            "43/43 [==============================] - 12s 270ms/step - loss: 7.9538e-05 - val_loss: 0.0020\n",
            "Epoch 30/100\n",
            "43/43 [==============================] - 10s 243ms/step - loss: 9.3719e-05 - val_loss: 8.2963e-04\n",
            "Epoch 31/100\n",
            "43/43 [==============================] - 10s 244ms/step - loss: 5.7323e-05 - val_loss: 6.1920e-04\n",
            "Epoch 32/100\n",
            "43/43 [==============================] - 10s 243ms/step - loss: 6.4496e-05 - val_loss: 5.8160e-04\n",
            "Epoch 33/100\n",
            "43/43 [==============================] - 11s 247ms/step - loss: 5.7623e-05 - val_loss: 6.0274e-04\n",
            "Epoch 34/100\n",
            "43/43 [==============================] - 11s 246ms/step - loss: 6.0899e-05 - val_loss: 5.9665e-04\n",
            "Epoch 35/100\n",
            "43/43 [==============================] - 10s 243ms/step - loss: 6.2489e-05 - val_loss: 0.0023\n",
            "Epoch 36/100\n",
            "43/43 [==============================] - 10s 244ms/step - loss: 7.3119e-05 - val_loss: 5.5877e-04\n",
            "Epoch 37/100\n",
            "43/43 [==============================] - 11s 245ms/step - loss: 7.6859e-05 - val_loss: 0.0013\n",
            "Epoch 38/100\n",
            "43/43 [==============================] - 10s 245ms/step - loss: 9.0859e-05 - val_loss: 0.0014\n",
            "Epoch 39/100\n",
            "43/43 [==============================] - 10s 244ms/step - loss: 5.1108e-05 - val_loss: 5.3015e-04\n",
            "Epoch 40/100\n",
            "43/43 [==============================] - 11s 246ms/step - loss: 5.6422e-05 - val_loss: 9.2836e-04\n",
            "Epoch 41/100\n",
            "43/43 [==============================] - 11s 246ms/step - loss: 5.7485e-05 - val_loss: 0.0014\n",
            "Epoch 42/100\n",
            "43/43 [==============================] - 11s 247ms/step - loss: 6.3269e-05 - val_loss: 5.6643e-04\n",
            "Epoch 43/100\n",
            "43/43 [==============================] - 12s 266ms/step - loss: 5.4126e-05 - val_loss: 0.0012\n",
            "Epoch 44/100\n",
            "43/43 [==============================] - 11s 246ms/step - loss: 4.6740e-05 - val_loss: 5.0403e-04\n",
            "Epoch 45/100\n",
            "43/43 [==============================] - 10s 244ms/step - loss: 4.9586e-05 - val_loss: 9.8522e-04\n",
            "Epoch 46/100\n",
            "43/43 [==============================] - 10s 243ms/step - loss: 4.6336e-05 - val_loss: 8.5198e-04\n",
            "Epoch 47/100\n",
            "43/43 [==============================] - 10s 243ms/step - loss: 4.8860e-05 - val_loss: 0.0013\n",
            "Epoch 48/100\n",
            "43/43 [==============================] - 11s 247ms/step - loss: 5.8923e-05 - val_loss: 0.0013\n",
            "Epoch 49/100\n",
            "43/43 [==============================] - 11s 246ms/step - loss: 4.8109e-05 - val_loss: 8.1572e-04\n",
            "Epoch 50/100\n",
            "43/43 [==============================] - 11s 246ms/step - loss: 4.8844e-05 - val_loss: 0.0010\n",
            "Epoch 51/100\n",
            "43/43 [==============================] - 10s 244ms/step - loss: 4.5536e-05 - val_loss: 0.0014\n",
            "Epoch 52/100\n",
            "43/43 [==============================] - 11s 246ms/step - loss: 6.0061e-05 - val_loss: 9.6594e-04\n",
            "Epoch 53/100\n",
            "43/43 [==============================] - 11s 246ms/step - loss: 4.5537e-05 - val_loss: 0.0010\n",
            "Epoch 54/100\n",
            "43/43 [==============================] - 11s 247ms/step - loss: 4.3167e-05 - val_loss: 0.0014\n",
            "Epoch 55/100\n",
            "43/43 [==============================] - 11s 245ms/step - loss: 4.3918e-05 - val_loss: 8.8572e-04\n",
            "Epoch 56/100\n",
            "43/43 [==============================] - 11s 251ms/step - loss: 4.1831e-05 - val_loss: 0.0016\n",
            "Epoch 57/100\n",
            "43/43 [==============================] - 11s 261ms/step - loss: 5.7511e-05 - val_loss: 6.7725e-04\n",
            "Epoch 58/100\n",
            "43/43 [==============================] - 10s 245ms/step - loss: 4.4081e-05 - val_loss: 5.1909e-04\n",
            "Epoch 59/100\n",
            "43/43 [==============================] - 11s 246ms/step - loss: 4.0336e-05 - val_loss: 7.2892e-04\n",
            "Epoch 60/100\n",
            "43/43 [==============================] - 11s 248ms/step - loss: 3.7759e-05 - val_loss: 0.0014\n",
            "Epoch 61/100\n",
            "43/43 [==============================] - 10s 244ms/step - loss: 4.0176e-05 - val_loss: 0.0010\n",
            "Epoch 62/100\n",
            "43/43 [==============================] - 11s 245ms/step - loss: 4.4060e-05 - val_loss: 7.2256e-04\n",
            "Epoch 63/100\n",
            "43/43 [==============================] - 11s 248ms/step - loss: 4.1595e-05 - val_loss: 8.4720e-04\n",
            "Epoch 64/100\n",
            "43/43 [==============================] - 10s 245ms/step - loss: 4.5380e-05 - val_loss: 6.4552e-04\n",
            "Epoch 65/100\n",
            "43/43 [==============================] - 11s 245ms/step - loss: 5.3306e-05 - val_loss: 0.0020\n",
            "Epoch 66/100\n",
            "43/43 [==============================] - 10s 243ms/step - loss: 4.0763e-05 - val_loss: 9.6912e-04\n",
            "Epoch 67/100\n",
            "43/43 [==============================] - 11s 245ms/step - loss: 4.0971e-05 - val_loss: 0.0013\n",
            "Epoch 68/100\n",
            "43/43 [==============================] - 11s 245ms/step - loss: 5.1760e-05 - val_loss: 5.7179e-04\n",
            "Epoch 69/100\n",
            "43/43 [==============================] - 10s 244ms/step - loss: 3.7575e-05 - val_loss: 0.0017\n",
            "Epoch 70/100\n",
            "43/43 [==============================] - 12s 271ms/step - loss: 4.0323e-05 - val_loss: 4.6950e-04\n",
            "Epoch 71/100\n",
            "43/43 [==============================] - 10s 244ms/step - loss: 4.0449e-05 - val_loss: 0.0011\n",
            "Epoch 72/100\n",
            "43/43 [==============================] - 10s 243ms/step - loss: 4.9330e-05 - val_loss: 7.5640e-04\n",
            "Epoch 73/100\n",
            "43/43 [==============================] - 11s 246ms/step - loss: 3.6089e-05 - val_loss: 0.0038\n",
            "Epoch 74/100\n",
            "43/43 [==============================] - 10s 244ms/step - loss: 4.7053e-05 - val_loss: 0.0012\n",
            "Epoch 75/100\n",
            "43/43 [==============================] - 11s 245ms/step - loss: 3.5427e-05 - val_loss: 0.0010\n",
            "Epoch 76/100\n",
            "43/43 [==============================] - 11s 246ms/step - loss: 4.4354e-05 - val_loss: 7.1008e-04\n",
            "Epoch 77/100\n",
            "43/43 [==============================] - 11s 247ms/step - loss: 3.2021e-05 - val_loss: 0.0011\n",
            "Epoch 78/100\n",
            "43/43 [==============================] - 11s 245ms/step - loss: 3.3660e-05 - val_loss: 5.1986e-04\n",
            "Epoch 79/100\n",
            "43/43 [==============================] - 11s 246ms/step - loss: 4.5849e-05 - val_loss: 6.7879e-04\n",
            "Epoch 80/100\n",
            "43/43 [==============================] - 11s 246ms/step - loss: 3.2675e-05 - val_loss: 0.0012\n",
            "Epoch 81/100\n",
            "43/43 [==============================] - 10s 244ms/step - loss: 4.4604e-05 - val_loss: 8.8529e-04\n",
            "Epoch 82/100\n",
            "43/43 [==============================] - 11s 247ms/step - loss: 5.2157e-05 - val_loss: 0.0016\n",
            "Epoch 83/100\n",
            "43/43 [==============================] - 11s 245ms/step - loss: 4.0787e-05 - val_loss: 0.0012\n",
            "Epoch 84/100\n",
            "43/43 [==============================] - 12s 272ms/step - loss: 3.2418e-05 - val_loss: 0.0012\n",
            "Epoch 85/100\n",
            "43/43 [==============================] - 10s 242ms/step - loss: 3.0712e-05 - val_loss: 0.0013\n",
            "Epoch 86/100\n",
            "43/43 [==============================] - 10s 244ms/step - loss: 3.0052e-05 - val_loss: 0.0012\n",
            "Epoch 87/100\n",
            "43/43 [==============================] - 10s 245ms/step - loss: 3.3587e-05 - val_loss: 0.0021\n",
            "Epoch 88/100\n",
            "43/43 [==============================] - 11s 248ms/step - loss: 3.4817e-05 - val_loss: 0.0015\n",
            "Epoch 89/100\n",
            "43/43 [==============================] - 11s 245ms/step - loss: 3.4723e-05 - val_loss: 0.0022\n",
            "Epoch 90/100\n",
            "43/43 [==============================] - 11s 245ms/step - loss: 3.6651e-05 - val_loss: 6.8222e-04\n",
            "Epoch 91/100\n",
            "43/43 [==============================] - 10s 243ms/step - loss: 3.3642e-05 - val_loss: 9.7417e-04\n",
            "Epoch 92/100\n",
            "43/43 [==============================] - 11s 247ms/step - loss: 2.7130e-05 - val_loss: 8.2786e-04\n",
            "Epoch 93/100\n",
            "43/43 [==============================] - 11s 248ms/step - loss: 3.0576e-05 - val_loss: 0.0014\n",
            "Epoch 94/100\n",
            "43/43 [==============================] - 11s 249ms/step - loss: 3.0812e-05 - val_loss: 0.0012\n",
            "Epoch 95/100\n",
            "43/43 [==============================] - 11s 246ms/step - loss: 3.1465e-05 - val_loss: 0.0015\n",
            "Epoch 96/100\n",
            "43/43 [==============================] - 10s 245ms/step - loss: 2.4342e-05 - val_loss: 0.0012\n",
            "Epoch 97/100\n",
            "43/43 [==============================] - 10s 244ms/step - loss: 2.5088e-05 - val_loss: 9.8509e-04\n",
            "Epoch 98/100\n",
            "43/43 [==============================] - 12s 274ms/step - loss: 2.6678e-05 - val_loss: 8.9790e-04\n",
            "Epoch 99/100\n",
            "43/43 [==============================] - 10s 245ms/step - loss: 4.2271e-05 - val_loss: 5.1419e-04\n",
            "Epoch 100/100\n",
            "43/43 [==============================] - 11s 245ms/step - loss: 3.4271e-05 - val_loss: 9.1037e-04\n"
          ]
        },
        {
          "output_type": "execute_result",
          "data": {
            "text/plain": [
              "<keras.callbacks.History at 0x7fd9735fc6a0>"
            ]
          },
          "metadata": {},
          "execution_count": 73
        }
      ]
    },
    {
      "cell_type": "code",
      "source": [
        "loss=model.history.history['loss']\n",
        "plt.plot(loss)"
      ],
      "metadata": {
        "id": "ob9oaTETWeXE",
        "colab": {
          "base_uri": "https://localhost:8080/",
          "height": 285
        },
        "outputId": "fcf55f32-510e-46eb-a698-312d691039dc"
      },
      "execution_count": 74,
      "outputs": [
        {
          "output_type": "execute_result",
          "data": {
            "text/plain": [
              "[<matplotlib.lines.Line2D at 0x7fd966f525e0>]"
            ]
          },
          "metadata": {},
          "execution_count": 74
        },
        {
          "output_type": "display_data",
          "data": {
            "text/plain": [
              "<Figure size 432x288 with 1 Axes>"
            ],
            "image/png": "[encoded data removed]"
          },
          "metadata": {}
        }
      ]
    },
    {
      "cell_type": "markdown",
      "source": [
        " The plot above for loss revealed that the loss decreased significantly, there was no overfitting but model trained well"
      ],
      "metadata": {
        "id": "2BUY4eGrA9fg"
      }
    },
    {
      "cell_type": "markdown",
      "source": [
        "#predicting using train and test dataset"
      ],
      "metadata": {
        "id": "f0g7utUPA79X"
      }
    },
    {
      "cell_type": "code",
      "source": [
        "\n",
        "train_predict = model.predict(X_train)\n",
        "test_predict = model.predict(X_test)"
      ],
      "metadata": {
        "id": "NceK8eWBWp99",
        "colab": {
          "base_uri": "https://localhost:8080/",
          "height": 0
        },
        "outputId": "fe828b7d-d15c-4859-c70c-d503f10c50b4"
      },
      "execution_count": 75,
      "outputs": [
        {
          "output_type": "stream",
          "name": "stdout",
          "text": [
            "86/86 [==============================] - 5s 47ms/step\n",
            "19/19 [==============================] - 1s 48ms/step\n"
          ]
        }
      ]
    },
    {
      "cell_type": "code",
      "source": [
        "import tensorflow as tf\n"
      ],
      "metadata": {
        "id": "xSpcI5lSW2s8"
      },
      "execution_count": 76,
      "outputs": []
    },
    {
      "cell_type": "code",
      "source": [
        "train_predict=Scaler.inverse_transform(train_predict)\n",
        "test_predict=Scaler.inverse_transform(test_predict)"
      ],
      "metadata": {
        "id": "sWiQBSqqID96"
      },
      "execution_count": 77,
      "outputs": []
    },
    {
      "cell_type": "code",
      "source": [
        "##Compare visuals using WestPacBank dataset \n",
        "plt.plot(Scaler.inverse_transform(Scales_dataWBC2))\n",
        "plt.plot(train_predict)\n",
        "plt.plot(test_predict)"
      ],
      "metadata": {
        "id": "pTNrorMQJBK0",
        "colab": {
          "base_uri": "https://localhost:8080/",
          "height": 283
        },
        "outputId": "849b3516-36c2-40a8-e142-267af475e58b"
      },
      "execution_count": 78,
      "outputs": [
        {
          "output_type": "execute_result",
          "data": {
            "text/plain": [
              "[<matplotlib.lines.Line2D at 0x7fd97309f5e0>]"
            ]
          },
          "metadata": {},
          "execution_count": 78
        },
        {
          "output_type": "display_data",
          "data": {
            "text/plain": [
              "<Figure size 432x288 with 1 Axes>"
            ],
            "image/png": "[encoded data removed]"
          },
          "metadata": {}
        }
      ]
    },
    {
      "cell_type": "code",
      "source": [
        "type(train_predict)"
      ],
      "metadata": {
        "id": "YIzFKAPEPdXc",
        "colab": {
          "base_uri": "https://localhost:8080/",
          "height": 0
        },
        "outputId": "2a0ba1a4-e0e9-46d9-aa8e-49aeec1a497b"
      },
      "execution_count": 79,
      "outputs": [
        {
          "output_type": "execute_result",
          "data": {
            "text/plain": [
              "numpy.ndarray"
            ]
          },
          "metadata": {},
          "execution_count": 79
        }
      ]
    },
    {
      "cell_type": "code",
      "source": [
        "#Check the rmse\n",
        "import math\n",
        "from sklearn.metrics import mean_squared_error\n",
        "math.sqrt(mean_squared_error(y_train,train_predict))"
      ],
      "metadata": {
        "id": "jYLHxAK7Ppdh",
        "colab": {
          "base_uri": "https://localhost:8080/",
          "height": 0
        },
        "outputId": "88d63d44-cd46-47e1-c86c-152fe1e637ef"
      },
      "execution_count": 80,
      "outputs": [
        {
          "output_type": "execute_result",
          "data": {
            "text/plain": [
              "7.02550265050625"
            ]
          },
          "metadata": {},
          "execution_count": 80
        }
      ]
    },
    {
      "cell_type": "code",
      "source": [
        "math.sqrt(mean_squared_error(ytest,test_predict))"
      ],
      "metadata": {
        "id": "aQEfiQDYTW2s",
        "colab": {
          "base_uri": "https://localhost:8080/",
          "height": 0
        },
        "outputId": "c14696d4-b370-486a-bf32-15b578c57f6a"
      },
      "execution_count": 81,
      "outputs": [
        {
          "output_type": "execute_result",
          "data": {
            "text/plain": [
              "18.884248249871934"
            ]
          },
          "metadata": {},
          "execution_count": 81
        }
      ]
    },
    {
      "cell_type": "code",
      "source": [
        "test = np.vstack((train_predict,test_predict))"
      ],
      "metadata": {
        "id": "3OCCjW6FUNHh"
      },
      "execution_count": 82,
      "outputs": []
    },
    {
      "cell_type": "code",
      "source": [
        "plt.plot(Scaler.inverse_transform(Scales_dataWBC2))\n",
        "plt.plot(test)"
      ],
      "metadata": {
        "id": "4jrDvalBUVHM",
        "colab": {
          "base_uri": "https://localhost:8080/",
          "height": 283
        },
        "outputId": "fd7c1b8e-fb70-440e-d4ae-b961a4e33666"
      },
      "execution_count": 83,
      "outputs": [
        {
          "output_type": "execute_result",
          "data": {
            "text/plain": [
              "[<matplotlib.lines.Line2D at 0x7fd96bec1700>]"
            ]
          },
          "metadata": {},
          "execution_count": 83
        },
        {
          "output_type": "display_data",
          "data": {
            "text/plain": [
              "<Figure size 432x288 with 1 Axes>"
            ],
            "image/png": "[encoded data removed]"
          },
          "metadata": {}
        }
      ]
    },
    {
      "cell_type": "code",
      "source": [
        "test_size"
      ],
      "metadata": {
        "id": "hc70ddrPWqdu",
        "colab": {
          "base_uri": "https://localhost:8080/",
          "height": 0
        },
        "outputId": "2d636ee4-204a-4335-aa9d-d5b4a8c6453c"
      },
      "execution_count": 84,
      "outputs": [
        {
          "output_type": "execute_result",
          "data": {
            "text/plain": [
              "709"
            ]
          },
          "metadata": {},
          "execution_count": 84
        }
      ]
    },
    {
      "cell_type": "code",
      "source": [
        "#test previous 100days\n",
        "x_inputted=test_data[609:].reshape(1,-1)\n",
        "x_inputted.shape"
      ],
      "metadata": {
        "id": "HNFmA_enYkm5",
        "colab": {
          "base_uri": "https://localhost:8080/",
          "height": 0
        },
        "outputId": "0509bd58-f77c-4b8c-f48d-87eab22cc917"
      },
      "execution_count": 85,
      "outputs": [
        {
          "output_type": "execute_result",
          "data": {
            "text/plain": [
              "(1, 100)"
            ]
          },
          "metadata": {},
          "execution_count": 85
        }
      ]
    },
    {
      "cell_type": "code",
      "source": [
        "x_inputted=x_inputted.reshape(1,-1)"
      ],
      "metadata": {
        "id": "4wpv-UclZJiF"
      },
      "execution_count": 86,
      "outputs": []
    },
    {
      "cell_type": "code",
      "source": [
        "temp_inputted=list (x_inputted)"
      ],
      "metadata": {
        "id": "X_tfQhsfBBFp"
      },
      "execution_count": 87,
      "outputs": []
    },
    {
      "cell_type": "code",
      "source": [
        "x_inputted.shape"
      ],
      "metadata": {
        "id": "zdKrFgCVBSTW",
        "colab": {
          "base_uri": "https://localhost:8080/",
          "height": 0
        },
        "outputId": "9ced566e-f5db-493b-d0e7-f6bfc82291a1"
      },
      "execution_count": 88,
      "outputs": [
        {
          "output_type": "execute_result",
          "data": {
            "text/plain": [
              "(1, 100)"
            ]
          },
          "metadata": {},
          "execution_count": 88
        }
      ]
    },
    {
      "cell_type": "code",
      "source": [
        "temp_inputted=temp_inputted[0].tolist()   #this creates a list of last 100 dataset"
      ],
      "metadata": {
        "id": "U33F7fgMBePZ"
      },
      "execution_count": 89,
      "outputs": []
    },
    {
      "cell_type": "code",
      "source": [
        "from numpy import array\n",
        "lst_output=[]           ##predicting 30 and 60days  price\n",
        "n_steps=100\n",
        "i=0\n",
        "while(i<60):\n",
        "\n",
        "   if(len(temp_inputted)>100):\n",
        "        #print(temp_inputted)\n",
        "        x_inputted=np.array(temp_inputted[1:])\n",
        "        print(\"{} day input {}\".format(i,x_inputted))\n",
        "        x_inputted=x_inputted.reshape(1,-1)\n",
        "        x_inputted = x_inputted.reshape((1,n_steps, 1))\n",
        "        #print(x_input)\n",
        "        yhat = model.predict(x_inputted, verbose=0)\n",
        "        print(\"{} day output {}\".format(i,yhat))\n",
        "        temp_inputted.extend(yhat[0].tolist())\n",
        "        temp_inputted=temp_inputted[1:]\n",
        "        #print(temp_inputted)\n",
        "        lst_output.extend(yhat.tolist())\n",
        "        i=i+1\n",
        "   else:\n",
        "        x_inputted = x_inputted.reshape((1, n_steps,1))\n",
        "        yhat = model.predict(x_inputted, verbose=0)\n",
        "        print(yhat[0])\n",
        "        temp_inputted.extend(yhat[0].tolist())\n",
        "        print(len(temp_inputted))\n",
        "        lst_output.extend(yhat.tolist())\n",
        "        i=i+1\n",
        "\n",
        "\n",
        "print(lst_output)\n",
        "\n"
      ],
      "metadata": {
        "id": "6pcT0S4RB0XX",
        "colab": {
          "base_uri": "https://localhost:8080/",
          "height": 0
        },
        "outputId": "1456e7fc-30b3-4f34-baa7-eb2b69048e41"
      },
      "execution_count": 90,
      "outputs": [
        {
          "output_type": "stream",
          "name": "stdout",
          "text": [
            "[0.6241258]\n",
            "101\n",
            "1 day input [0.76424595 0.74215595 0.7596756  0.75586693 0.77529094 0.77452929\n",
            " 0.7535818  0.74253681 0.72539795 0.71016343 0.74025156 0.75472438\n",
            " 0.7398707  0.74063246 0.72235104 0.7033079  0.70483132 0.69112029\n",
            " 0.68997771 0.68121786 0.70673567 0.69873751 0.70368877 0.72273191\n",
            " 0.68502653 0.66979201 0.65112966 0.65379578 0.65265315 0.64160809\n",
            " 0.61685204 0.61228173 0.59628549 0.58638302 0.59133424 0.57419541\n",
            " 0.57648059 0.61075824 0.63132487 0.61494773 0.60009404 0.58790643\n",
            " 0.57800404 0.58105094 0.57267196 0.58295525 0.58371702 0.60618792\n",
            " 0.60961561 0.60237926 0.57952749 0.59361945 0.60390267 0.6187564\n",
            " 0.61799463 0.6111391  0.62066067 0.64541676 0.6248502  0.61951805\n",
            " 0.614186   0.61989895 0.6218033  0.62561185 0.62942052 0.66903025\n",
            " 0.66522162 0.65417656 0.65455743 0.66560249 0.67245805 0.66331735\n",
            " 0.6644599  0.6675068  0.68007523 0.68807339 0.69340547 0.68502653\n",
            " 0.70140363 0.70445053 0.67436233 0.68654994 0.67855182 0.65874695\n",
            " 0.6675068  0.66560249 0.66636425 0.67055366 0.68159872 0.67588582\n",
            " 0.6671259  0.65531919 0.6244693  0.63970381 0.64846366 0.63703777\n",
            " 0.63665691 0.63475264 0.63437177 0.62412578]\n",
            "1 day output [[0.6176481]]\n",
            "2 day input [0.74215595 0.7596756  0.75586693 0.77529094 0.77452929 0.7535818\n",
            " 0.74253681 0.72539795 0.71016343 0.74025156 0.75472438 0.7398707\n",
            " 0.74063246 0.72235104 0.7033079  0.70483132 0.69112029 0.68997771\n",
            " 0.68121786 0.70673567 0.69873751 0.70368877 0.72273191 0.68502653\n",
            " 0.66979201 0.65112966 0.65379578 0.65265315 0.64160809 0.61685204\n",
            " 0.61228173 0.59628549 0.58638302 0.59133424 0.57419541 0.57648059\n",
            " 0.61075824 0.63132487 0.61494773 0.60009404 0.58790643 0.57800404\n",
            " 0.58105094 0.57267196 0.58295525 0.58371702 0.60618792 0.60961561\n",
            " 0.60237926 0.57952749 0.59361945 0.60390267 0.6187564  0.61799463\n",
            " 0.6111391  0.62066067 0.64541676 0.6248502  0.61951805 0.614186\n",
            " 0.61989895 0.6218033  0.62561185 0.62942052 0.66903025 0.66522162\n",
            " 0.65417656 0.65455743 0.66560249 0.67245805 0.66331735 0.6644599\n",
            " 0.6675068  0.68007523 0.68807339 0.69340547 0.68502653 0.70140363\n",
            " 0.70445053 0.67436233 0.68654994 0.67855182 0.65874695 0.6675068\n",
            " 0.66560249 0.66636425 0.67055366 0.68159872 0.67588582 0.6671259\n",
            " 0.65531919 0.6244693  0.63970381 0.64846366 0.63703777 0.63665691\n",
            " 0.63475264 0.63437177 0.62412578 0.61764812]\n",
            "2 day output [[0.60995275]]\n",
            "3 day input [0.7596756  0.75586693 0.77529094 0.77452929 0.7535818  0.74253681\n",
            " 0.72539795 0.71016343 0.74025156 0.75472438 0.7398707  0.74063246\n",
            " 0.72235104 0.7033079  0.70483132 0.69112029 0.68997771 0.68121786\n",
            " 0.70673567 0.69873751 0.70368877 0.72273191 0.68502653 0.66979201\n",
            " 0.65112966 0.65379578 0.65265315 0.64160809 0.61685204 0.61228173\n",
            " 0.59628549 0.58638302 0.59133424 0.57419541 0.57648059 0.61075824\n",
            " 0.63132487 0.61494773 0.60009404 0.58790643 0.57800404 0.58105094\n",
            " 0.57267196 0.58295525 0.58371702 0.60618792 0.60961561 0.60237926\n",
            " 0.57952749 0.59361945 0.60390267 0.6187564  0.61799463 0.6111391\n",
            " 0.62066067 0.64541676 0.6248502  0.61951805 0.614186   0.61989895\n",
            " 0.6218033  0.62561185 0.62942052 0.66903025 0.66522162 0.65417656\n",
            " 0.65455743 0.66560249 0.67245805 0.66331735 0.6644599  0.6675068\n",
            " 0.68007523 0.68807339 0.69340547 0.68502653 0.70140363 0.70445053\n",
            " 0.67436233 0.68654994 0.67855182 0.65874695 0.6675068  0.66560249\n",
            " 0.66636425 0.67055366 0.68159872 0.67588582 0.6671259  0.65531919\n",
            " 0.6244693  0.63970381 0.64846366 0.63703777 0.63665691 0.63475264\n",
            " 0.63437177 0.62412578 0.61764812 0.60995275]\n",
            "3 day output [[0.60232496]]\n",
            "4 day input [0.75586693 0.77529094 0.77452929 0.7535818  0.74253681 0.72539795\n",
            " 0.71016343 0.74025156 0.75472438 0.7398707  0.74063246 0.72235104\n",
            " 0.7033079  0.70483132 0.69112029 0.68997771 0.68121786 0.70673567\n",
            " 0.69873751 0.70368877 0.72273191 0.68502653 0.66979201 0.65112966\n",
            " 0.65379578 0.65265315 0.64160809 0.61685204 0.61228173 0.59628549\n",
            " 0.58638302 0.59133424 0.57419541 0.57648059 0.61075824 0.63132487\n",
            " 0.61494773 0.60009404 0.58790643 0.57800404 0.58105094 0.57267196\n",
            " 0.58295525 0.58371702 0.60618792 0.60961561 0.60237926 0.57952749\n",
            " 0.59361945 0.60390267 0.6187564  0.61799463 0.6111391  0.62066067\n",
            " 0.64541676 0.6248502  0.61951805 0.614186   0.61989895 0.6218033\n",
            " 0.62561185 0.62942052 0.66903025 0.66522162 0.65417656 0.65455743\n",
            " 0.66560249 0.67245805 0.66331735 0.6644599  0.6675068  0.68007523\n",
            " 0.68807339 0.69340547 0.68502653 0.70140363 0.70445053 0.67436233\n",
            " 0.68654994 0.67855182 0.65874695 0.6675068  0.66560249 0.66636425\n",
            " 0.67055366 0.68159872 0.67588582 0.6671259  0.65531919 0.6244693\n",
            " 0.63970381 0.64846366 0.63703777 0.63665691 0.63475264 0.63437177\n",
            " 0.62412578 0.61764812 0.60995275 0.60232496]\n",
            "4 day output [[0.59516704]]\n",
            "5 day input [0.77529094 0.77452929 0.7535818  0.74253681 0.72539795 0.71016343\n",
            " 0.74025156 0.75472438 0.7398707  0.74063246 0.72235104 0.7033079\n",
            " 0.70483132 0.69112029 0.68997771 0.68121786 0.70673567 0.69873751\n",
            " 0.70368877 0.72273191 0.68502653 0.66979201 0.65112966 0.65379578\n",
            " 0.65265315 0.64160809 0.61685204 0.61228173 0.59628549 0.58638302\n",
            " 0.59133424 0.57419541 0.57648059 0.61075824 0.63132487 0.61494773\n",
            " 0.60009404 0.58790643 0.57800404 0.58105094 0.57267196 0.58295525\n",
            " 0.58371702 0.60618792 0.60961561 0.60237926 0.57952749 0.59361945\n",
            " 0.60390267 0.6187564  0.61799463 0.6111391  0.62066067 0.64541676\n",
            " 0.6248502  0.61951805 0.614186   0.61989895 0.6218033  0.62561185\n",
            " 0.62942052 0.66903025 0.66522162 0.65417656 0.65455743 0.66560249\n",
            " 0.67245805 0.66331735 0.6644599  0.6675068  0.68007523 0.68807339\n",
            " 0.69340547 0.68502653 0.70140363 0.70445053 0.67436233 0.68654994\n",
            " 0.67855182 0.65874695 0.6675068  0.66560249 0.66636425 0.67055366\n",
            " 0.68159872 0.67588582 0.6671259  0.65531919 0.6244693  0.63970381\n",
            " 0.64846366 0.63703777 0.63665691 0.63475264 0.63437177 0.62412578\n",
            " 0.61764812 0.60995275 0.60232496 0.59516704]\n",
            "5 day output [[0.58864635]]\n",
            "6 day input [0.77452929 0.7535818  0.74253681 0.72539795 0.71016343 0.74025156\n",
            " 0.75472438 0.7398707  0.74063246 0.72235104 0.7033079  0.70483132\n",
            " 0.69112029 0.68997771 0.68121786 0.70673567 0.69873751 0.70368877\n",
            " 0.72273191 0.68502653 0.66979201 0.65112966 0.65379578 0.65265315\n",
            " 0.64160809 0.61685204 0.61228173 0.59628549 0.58638302 0.59133424\n",
            " 0.57419541 0.57648059 0.61075824 0.63132487 0.61494773 0.60009404\n",
            " 0.58790643 0.57800404 0.58105094 0.57267196 0.58295525 0.58371702\n",
            " 0.60618792 0.60961561 0.60237926 0.57952749 0.59361945 0.60390267\n",
            " 0.6187564  0.61799463 0.6111391  0.62066067 0.64541676 0.6248502\n",
            " 0.61951805 0.614186   0.61989895 0.6218033  0.62561185 0.62942052\n",
            " 0.66903025 0.66522162 0.65417656 0.65455743 0.66560249 0.67245805\n",
            " 0.66331735 0.6644599  0.6675068  0.68007523 0.68807339 0.69340547\n",
            " 0.68502653 0.70140363 0.70445053 0.67436233 0.68654994 0.67855182\n",
            " 0.65874695 0.6675068  0.66560249 0.66636425 0.67055366 0.68159872\n",
            " 0.67588582 0.6671259  0.65531919 0.6244693  0.63970381 0.64846366\n",
            " 0.63703777 0.63665691 0.63475264 0.63437177 0.62412578 0.61764812\n",
            " 0.60995275 0.60232496 0.59516704 0.58864635]\n",
            "6 day output [[0.58281344]]\n",
            "7 day input [0.7535818  0.74253681 0.72539795 0.71016343 0.74025156 0.75472438\n",
            " 0.7398707  0.74063246 0.72235104 0.7033079  0.70483132 0.69112029\n",
            " 0.68997771 0.68121786 0.70673567 0.69873751 0.70368877 0.72273191\n",
            " 0.68502653 0.66979201 0.65112966 0.65379578 0.65265315 0.64160809\n",
            " 0.61685204 0.61228173 0.59628549 0.58638302 0.59133424 0.57419541\n",
            " 0.57648059 0.61075824 0.63132487 0.61494773 0.60009404 0.58790643\n",
            " 0.57800404 0.58105094 0.57267196 0.58295525 0.58371702 0.60618792\n",
            " 0.60961561 0.60237926 0.57952749 0.59361945 0.60390267 0.6187564\n",
            " 0.61799463 0.6111391  0.62066067 0.64541676 0.6248502  0.61951805\n",
            " 0.614186   0.61989895 0.6218033  0.62561185 0.62942052 0.66903025\n",
            " 0.66522162 0.65417656 0.65455743 0.66560249 0.67245805 0.66331735\n",
            " 0.6644599  0.6675068  0.68007523 0.68807339 0.69340547 0.68502653\n",
            " 0.70140363 0.70445053 0.67436233 0.68654994 0.67855182 0.65874695\n",
            " 0.6675068  0.66560249 0.66636425 0.67055366 0.68159872 0.67588582\n",
            " 0.6671259  0.65531919 0.6244693  0.63970381 0.64846366 0.63703777\n",
            " 0.63665691 0.63475264 0.63437177 0.62412578 0.61764812 0.60995275\n",
            " 0.60232496 0.59516704 0.58864635 0.58281344]\n",
            "7 day output [[0.5776436]]\n",
            "8 day input [0.74253681 0.72539795 0.71016343 0.74025156 0.75472438 0.7398707\n",
            " 0.74063246 0.72235104 0.7033079  0.70483132 0.69112029 0.68997771\n",
            " 0.68121786 0.70673567 0.69873751 0.70368877 0.72273191 0.68502653\n",
            " 0.66979201 0.65112966 0.65379578 0.65265315 0.64160809 0.61685204\n",
            " 0.61228173 0.59628549 0.58638302 0.59133424 0.57419541 0.57648059\n",
            " 0.61075824 0.63132487 0.61494773 0.60009404 0.58790643 0.57800404\n",
            " 0.58105094 0.57267196 0.58295525 0.58371702 0.60618792 0.60961561\n",
            " 0.60237926 0.57952749 0.59361945 0.60390267 0.6187564  0.61799463\n",
            " 0.6111391  0.62066067 0.64541676 0.6248502  0.61951805 0.614186\n",
            " 0.61989895 0.6218033  0.62561185 0.62942052 0.66903025 0.66522162\n",
            " 0.65417656 0.65455743 0.66560249 0.67245805 0.66331735 0.6644599\n",
            " 0.6675068  0.68007523 0.68807339 0.69340547 0.68502653 0.70140363\n",
            " 0.70445053 0.67436233 0.68654994 0.67855182 0.65874695 0.6675068\n",
            " 0.66560249 0.66636425 0.67055366 0.68159872 0.67588582 0.6671259\n",
            " 0.65531919 0.6244693  0.63970381 0.64846366 0.63703777 0.63665691\n",
            " 0.63475264 0.63437177 0.62412578 0.61764812 0.60995275 0.60232496\n",
            " 0.59516704 0.58864635 0.58281344 0.57764357]\n",
            "8 day output [[0.57307124]]\n",
            "9 day input [0.72539795 0.71016343 0.74025156 0.75472438 0.7398707  0.74063246\n",
            " 0.72235104 0.7033079  0.70483132 0.69112029 0.68997771 0.68121786\n",
            " 0.70673567 0.69873751 0.70368877 0.72273191 0.68502653 0.66979201\n",
            " 0.65112966 0.65379578 0.65265315 0.64160809 0.61685204 0.61228173\n",
            " 0.59628549 0.58638302 0.59133424 0.57419541 0.57648059 0.61075824\n",
            " 0.63132487 0.61494773 0.60009404 0.58790643 0.57800404 0.58105094\n",
            " 0.57267196 0.58295525 0.58371702 0.60618792 0.60961561 0.60237926\n",
            " 0.57952749 0.59361945 0.60390267 0.6187564  0.61799463 0.6111391\n",
            " 0.62066067 0.64541676 0.6248502  0.61951805 0.614186   0.61989895\n",
            " 0.6218033  0.62561185 0.62942052 0.66903025 0.66522162 0.65417656\n",
            " 0.65455743 0.66560249 0.67245805 0.66331735 0.6644599  0.6675068\n",
            " 0.68007523 0.68807339 0.69340547 0.68502653 0.70140363 0.70445053\n",
            " 0.67436233 0.68654994 0.67855182 0.65874695 0.6675068  0.66560249\n",
            " 0.66636425 0.67055366 0.68159872 0.67588582 0.6671259  0.65531919\n",
            " 0.6244693  0.63970381 0.64846366 0.63703777 0.63665691 0.63475264\n",
            " 0.63437177 0.62412578 0.61764812 0.60995275 0.60232496 0.59516704\n",
            " 0.58864635 0.58281344 0.57764357 0.57307124]\n",
            "9 day output [[0.56901985]]\n",
            "10 day input [0.71016343 0.74025156 0.75472438 0.7398707  0.74063246 0.72235104\n",
            " 0.7033079  0.70483132 0.69112029 0.68997771 0.68121786 0.70673567\n",
            " 0.69873751 0.70368877 0.72273191 0.68502653 0.66979201 0.65112966\n",
            " 0.65379578 0.65265315 0.64160809 0.61685204 0.61228173 0.59628549\n",
            " 0.58638302 0.59133424 0.57419541 0.57648059 0.61075824 0.63132487\n",
            " 0.61494773 0.60009404 0.58790643 0.57800404 0.58105094 0.57267196\n",
            " 0.58295525 0.58371702 0.60618792 0.60961561 0.60237926 0.57952749\n",
            " 0.59361945 0.60390267 0.6187564  0.61799463 0.6111391  0.62066067\n",
            " 0.64541676 0.6248502  0.61951805 0.614186   0.61989895 0.6218033\n",
            " 0.62561185 0.62942052 0.66903025 0.66522162 0.65417656 0.65455743\n",
            " 0.66560249 0.67245805 0.66331735 0.6644599  0.6675068  0.68007523\n",
            " 0.68807339 0.69340547 0.68502653 0.70140363 0.70445053 0.67436233\n",
            " 0.68654994 0.67855182 0.65874695 0.6675068  0.66560249 0.66636425\n",
            " 0.67055366 0.68159872 0.67588582 0.6671259  0.65531919 0.6244693\n",
            " 0.63970381 0.64846366 0.63703777 0.63665691 0.63475264 0.63437177\n",
            " 0.62412578 0.61764812 0.60995275 0.60232496 0.59516704 0.58864635\n",
            " 0.58281344 0.57764357 0.57307124 0.56901985]\n",
            "10 day output [[0.5654222]]\n",
            "11 day input [0.74025156 0.75472438 0.7398707  0.74063246 0.72235104 0.7033079\n",
            " 0.70483132 0.69112029 0.68997771 0.68121786 0.70673567 0.69873751\n",
            " 0.70368877 0.72273191 0.68502653 0.66979201 0.65112966 0.65379578\n",
            " 0.65265315 0.64160809 0.61685204 0.61228173 0.59628549 0.58638302\n",
            " 0.59133424 0.57419541 0.57648059 0.61075824 0.63132487 0.61494773\n",
            " 0.60009404 0.58790643 0.57800404 0.58105094 0.57267196 0.58295525\n",
            " 0.58371702 0.60618792 0.60961561 0.60237926 0.57952749 0.59361945\n",
            " 0.60390267 0.6187564  0.61799463 0.6111391  0.62066067 0.64541676\n",
            " 0.6248502  0.61951805 0.614186   0.61989895 0.6218033  0.62561185\n",
            " 0.62942052 0.66903025 0.66522162 0.65417656 0.65455743 0.66560249\n",
            " 0.67245805 0.66331735 0.6644599  0.6675068  0.68007523 0.68807339\n",
            " 0.69340547 0.68502653 0.70140363 0.70445053 0.67436233 0.68654994\n",
            " 0.67855182 0.65874695 0.6675068  0.66560249 0.66636425 0.67055366\n",
            " 0.68159872 0.67588582 0.6671259  0.65531919 0.6244693  0.63970381\n",
            " 0.64846366 0.63703777 0.63665691 0.63475264 0.63437177 0.62412578\n",
            " 0.61764812 0.60995275 0.60232496 0.59516704 0.58864635 0.58281344\n",
            " 0.57764357 0.57307124 0.56901985 0.56542218]\n",
            "11 day output [[0.56222904]]\n",
            "12 day input [0.75472438 0.7398707  0.74063246 0.72235104 0.7033079  0.70483132\n",
            " 0.69112029 0.68997771 0.68121786 0.70673567 0.69873751 0.70368877\n",
            " 0.72273191 0.68502653 0.66979201 0.65112966 0.65379578 0.65265315\n",
            " 0.64160809 0.61685204 0.61228173 0.59628549 0.58638302 0.59133424\n",
            " 0.57419541 0.57648059 0.61075824 0.63132487 0.61494773 0.60009404\n",
            " 0.58790643 0.57800404 0.58105094 0.57267196 0.58295525 0.58371702\n",
            " 0.60618792 0.60961561 0.60237926 0.57952749 0.59361945 0.60390267\n",
            " 0.6187564  0.61799463 0.6111391  0.62066067 0.64541676 0.6248502\n",
            " 0.61951805 0.614186   0.61989895 0.6218033  0.62561185 0.62942052\n",
            " 0.66903025 0.66522162 0.65417656 0.65455743 0.66560249 0.67245805\n",
            " 0.66331735 0.6644599  0.6675068  0.68007523 0.68807339 0.69340547\n",
            " 0.68502653 0.70140363 0.70445053 0.67436233 0.68654994 0.67855182\n",
            " 0.65874695 0.6675068  0.66560249 0.66636425 0.67055366 0.68159872\n",
            " 0.67588582 0.6671259  0.65531919 0.6244693  0.63970381 0.64846366\n",
            " 0.63703777 0.63665691 0.63475264 0.63437177 0.62412578 0.61764812\n",
            " 0.60995275 0.60232496 0.59516704 0.58864635 0.58281344 0.57764357\n",
            " 0.57307124 0.56901985 0.56542218 0.56222904]\n",
            "12 day output [[0.5594113]]\n",
            "13 day input [0.7398707  0.74063246 0.72235104 0.7033079  0.70483132 0.69112029\n",
            " 0.68997771 0.68121786 0.70673567 0.69873751 0.70368877 0.72273191\n",
            " 0.68502653 0.66979201 0.65112966 0.65379578 0.65265315 0.64160809\n",
            " 0.61685204 0.61228173 0.59628549 0.58638302 0.59133424 0.57419541\n",
            " 0.57648059 0.61075824 0.63132487 0.61494773 0.60009404 0.58790643\n",
            " 0.57800404 0.58105094 0.57267196 0.58295525 0.58371702 0.60618792\n",
            " 0.60961561 0.60237926 0.57952749 0.59361945 0.60390267 0.6187564\n",
            " 0.61799463 0.6111391  0.62066067 0.64541676 0.6248502  0.61951805\n",
            " 0.614186   0.61989895 0.6218033  0.62561185 0.62942052 0.66903025\n",
            " 0.66522162 0.65417656 0.65455743 0.66560249 0.67245805 0.66331735\n",
            " 0.6644599  0.6675068  0.68007523 0.68807339 0.69340547 0.68502653\n",
            " 0.70140363 0.70445053 0.67436233 0.68654994 0.67855182 0.65874695\n",
            " 0.6675068  0.66560249 0.66636425 0.67055366 0.68159872 0.67588582\n",
            " 0.6671259  0.65531919 0.6244693  0.63970381 0.64846366 0.63703777\n",
            " 0.63665691 0.63475264 0.63437177 0.62412578 0.61764812 0.60995275\n",
            " 0.60232496 0.59516704 0.58864635 0.58281344 0.57764357 0.57307124\n",
            " 0.56901985 0.56542218 0.56222904 0.55941129]\n",
            "13 day output [[0.5569563]]\n",
            "14 day input [0.74063246 0.72235104 0.7033079  0.70483132 0.69112029 0.68997771\n",
            " 0.68121786 0.70673567 0.69873751 0.70368877 0.72273191 0.68502653\n",
            " 0.66979201 0.65112966 0.65379578 0.65265315 0.64160809 0.61685204\n",
            " 0.61228173 0.59628549 0.58638302 0.59133424 0.57419541 0.57648059\n",
            " 0.61075824 0.63132487 0.61494773 0.60009404 0.58790643 0.57800404\n",
            " 0.58105094 0.57267196 0.58295525 0.58371702 0.60618792 0.60961561\n",
            " 0.60237926 0.57952749 0.59361945 0.60390267 0.6187564  0.61799463\n",
            " 0.6111391  0.62066067 0.64541676 0.6248502  0.61951805 0.614186\n",
            " 0.61989895 0.6218033  0.62561185 0.62942052 0.66903025 0.66522162\n",
            " 0.65417656 0.65455743 0.66560249 0.67245805 0.66331735 0.6644599\n",
            " 0.6675068  0.68007523 0.68807339 0.69340547 0.68502653 0.70140363\n",
            " 0.70445053 0.67436233 0.68654994 0.67855182 0.65874695 0.6675068\n",
            " 0.66560249 0.66636425 0.67055366 0.68159872 0.67588582 0.6671259\n",
            " 0.65531919 0.6244693  0.63970381 0.64846366 0.63703777 0.63665691\n",
            " 0.63475264 0.63437177 0.62412578 0.61764812 0.60995275 0.60232496\n",
            " 0.59516704 0.58864635 0.58281344 0.57764357 0.57307124 0.56901985\n",
            " 0.56542218 0.56222904 0.55941129 0.55695629]\n",
            "14 day output [[0.55486226]]\n",
            "15 day input [0.72235104 0.7033079  0.70483132 0.69112029 0.68997771 0.68121786\n",
            " 0.70673567 0.69873751 0.70368877 0.72273191 0.68502653 0.66979201\n",
            " 0.65112966 0.65379578 0.65265315 0.64160809 0.61685204 0.61228173\n",
            " 0.59628549 0.58638302 0.59133424 0.57419541 0.57648059 0.61075824\n",
            " 0.63132487 0.61494773 0.60009404 0.58790643 0.57800404 0.58105094\n",
            " 0.57267196 0.58295525 0.58371702 0.60618792 0.60961561 0.60237926\n",
            " 0.57952749 0.59361945 0.60390267 0.6187564  0.61799463 0.6111391\n",
            " 0.62066067 0.64541676 0.6248502  0.61951805 0.614186   0.61989895\n",
            " 0.6218033  0.62561185 0.62942052 0.66903025 0.66522162 0.65417656\n",
            " 0.65455743 0.66560249 0.67245805 0.66331735 0.6644599  0.6675068\n",
            " 0.68007523 0.68807339 0.69340547 0.68502653 0.70140363 0.70445053\n",
            " 0.67436233 0.68654994 0.67855182 0.65874695 0.6675068  0.66560249\n",
            " 0.66636425 0.67055366 0.68159872 0.67588582 0.6671259  0.65531919\n",
            " 0.6244693  0.63970381 0.64846366 0.63703777 0.63665691 0.63475264\n",
            " 0.63437177 0.62412578 0.61764812 0.60995275 0.60232496 0.59516704\n",
            " 0.58864635 0.58281344 0.57764357 0.57307124 0.56901985 0.56542218\n",
            " 0.56222904 0.55941129 0.55695629 0.55486226]\n",
            "15 day output [[0.5531308]]\n",
            "16 day input [0.7033079  0.70483132 0.69112029 0.68997771 0.68121786 0.70673567\n",
            " 0.69873751 0.70368877 0.72273191 0.68502653 0.66979201 0.65112966\n",
            " 0.65379578 0.65265315 0.64160809 0.61685204 0.61228173 0.59628549\n",
            " 0.58638302 0.59133424 0.57419541 0.57648059 0.61075824 0.63132487\n",
            " 0.61494773 0.60009404 0.58790643 0.57800404 0.58105094 0.57267196\n",
            " 0.58295525 0.58371702 0.60618792 0.60961561 0.60237926 0.57952749\n",
            " 0.59361945 0.60390267 0.6187564  0.61799463 0.6111391  0.62066067\n",
            " 0.64541676 0.6248502  0.61951805 0.614186   0.61989895 0.6218033\n",
            " 0.62561185 0.62942052 0.66903025 0.66522162 0.65417656 0.65455743\n",
            " 0.66560249 0.67245805 0.66331735 0.6644599  0.6675068  0.68007523\n",
            " 0.68807339 0.69340547 0.68502653 0.70140363 0.70445053 0.67436233\n",
            " 0.68654994 0.67855182 0.65874695 0.6675068  0.66560249 0.66636425\n",
            " 0.67055366 0.68159872 0.67588582 0.6671259  0.65531919 0.6244693\n",
            " 0.63970381 0.64846366 0.63703777 0.63665691 0.63475264 0.63437177\n",
            " 0.62412578 0.61764812 0.60995275 0.60232496 0.59516704 0.58864635\n",
            " 0.58281344 0.57764357 0.57307124 0.56901985 0.56542218 0.56222904\n",
            " 0.55941129 0.55695629 0.55486226 0.55313081]\n",
            "16 day output [[0.55176234]]\n",
            "17 day input [0.70483132 0.69112029 0.68997771 0.68121786 0.70673567 0.69873751\n",
            " 0.70368877 0.72273191 0.68502653 0.66979201 0.65112966 0.65379578\n",
            " 0.65265315 0.64160809 0.61685204 0.61228173 0.59628549 0.58638302\n",
            " 0.59133424 0.57419541 0.57648059 0.61075824 0.63132487 0.61494773\n",
            " 0.60009404 0.58790643 0.57800404 0.58105094 0.57267196 0.58295525\n",
            " 0.58371702 0.60618792 0.60961561 0.60237926 0.57952749 0.59361945\n",
            " 0.60390267 0.6187564  0.61799463 0.6111391  0.62066067 0.64541676\n",
            " 0.6248502  0.61951805 0.614186   0.61989895 0.6218033  0.62561185\n",
            " 0.62942052 0.66903025 0.66522162 0.65417656 0.65455743 0.66560249\n",
            " 0.67245805 0.66331735 0.6644599  0.6675068  0.68007523 0.68807339\n",
            " 0.69340547 0.68502653 0.70140363 0.70445053 0.67436233 0.68654994\n",
            " 0.67855182 0.65874695 0.6675068  0.66560249 0.66636425 0.67055366\n",
            " 0.68159872 0.67588582 0.6671259  0.65531919 0.6244693  0.63970381\n",
            " 0.64846366 0.63703777 0.63665691 0.63475264 0.63437177 0.62412578\n",
            " 0.61764812 0.60995275 0.60232496 0.59516704 0.58864635 0.58281344\n",
            " 0.57764357 0.57307124 0.56901985 0.56542218 0.56222904 0.55941129\n",
            " 0.55695629 0.55486226 0.55313081 0.55176234]\n",
            "17 day output [[0.55075246]]\n",
            "18 day input [0.69112029 0.68997771 0.68121786 0.70673567 0.69873751 0.70368877\n",
            " 0.72273191 0.68502653 0.66979201 0.65112966 0.65379578 0.65265315\n",
            " 0.64160809 0.61685204 0.61228173 0.59628549 0.58638302 0.59133424\n",
            " 0.57419541 0.57648059 0.61075824 0.63132487 0.61494773 0.60009404\n",
            " 0.58790643 0.57800404 0.58105094 0.57267196 0.58295525 0.58371702\n",
            " 0.60618792 0.60961561 0.60237926 0.57952749 0.59361945 0.60390267\n",
            " 0.6187564  0.61799463 0.6111391  0.62066067 0.64541676 0.6248502\n",
            " 0.61951805 0.614186   0.61989895 0.6218033  0.62561185 0.62942052\n",
            " 0.66903025 0.66522162 0.65417656 0.65455743 0.66560249 0.67245805\n",
            " 0.66331735 0.6644599  0.6675068  0.68007523 0.68807339 0.69340547\n",
            " 0.68502653 0.70140363 0.70445053 0.67436233 0.68654994 0.67855182\n",
            " 0.65874695 0.6675068  0.66560249 0.66636425 0.67055366 0.68159872\n",
            " 0.67588582 0.6671259  0.65531919 0.6244693  0.63970381 0.64846366\n",
            " 0.63703777 0.63665691 0.63475264 0.63437177 0.62412578 0.61764812\n",
            " 0.60995275 0.60232496 0.59516704 0.58864635 0.58281344 0.57764357\n",
            " 0.57307124 0.56901985 0.56542218 0.56222904 0.55941129 0.55695629\n",
            " 0.55486226 0.55313081 0.55176234 0.55075246]\n",
            "18 day output [[0.5500893]]\n",
            "19 day input [0.68997771 0.68121786 0.70673567 0.69873751 0.70368877 0.72273191\n",
            " 0.68502653 0.66979201 0.65112966 0.65379578 0.65265315 0.64160809\n",
            " 0.61685204 0.61228173 0.59628549 0.58638302 0.59133424 0.57419541\n",
            " 0.57648059 0.61075824 0.63132487 0.61494773 0.60009404 0.58790643\n",
            " 0.57800404 0.58105094 0.57267196 0.58295525 0.58371702 0.60618792\n",
            " 0.60961561 0.60237926 0.57952749 0.59361945 0.60390267 0.6187564\n",
            " 0.61799463 0.6111391  0.62066067 0.64541676 0.6248502  0.61951805\n",
            " 0.614186   0.61989895 0.6218033  0.62561185 0.62942052 0.66903025\n",
            " 0.66522162 0.65417656 0.65455743 0.66560249 0.67245805 0.66331735\n",
            " 0.6644599  0.6675068  0.68007523 0.68807339 0.69340547 0.68502653\n",
            " 0.70140363 0.70445053 0.67436233 0.68654994 0.67855182 0.65874695\n",
            " 0.6675068  0.66560249 0.66636425 0.67055366 0.68159872 0.67588582\n",
            " 0.6671259  0.65531919 0.6244693  0.63970381 0.64846366 0.63703777\n",
            " 0.63665691 0.63475264 0.63437177 0.62412578 0.61764812 0.60995275\n",
            " 0.60232496 0.59516704 0.58864635 0.58281344 0.57764357 0.57307124\n",
            " 0.56901985 0.56542218 0.56222904 0.55941129 0.55695629 0.55486226\n",
            " 0.55313081 0.55176234 0.55075246 0.5500893 ]\n",
            "19 day output [[0.5497546]]\n",
            "20 day input [0.68121786 0.70673567 0.69873751 0.70368877 0.72273191 0.68502653\n",
            " 0.66979201 0.65112966 0.65379578 0.65265315 0.64160809 0.61685204\n",
            " 0.61228173 0.59628549 0.58638302 0.59133424 0.57419541 0.57648059\n",
            " 0.61075824 0.63132487 0.61494773 0.60009404 0.58790643 0.57800404\n",
            " 0.58105094 0.57267196 0.58295525 0.58371702 0.60618792 0.60961561\n",
            " 0.60237926 0.57952749 0.59361945 0.60390267 0.6187564  0.61799463\n",
            " 0.6111391  0.62066067 0.64541676 0.6248502  0.61951805 0.614186\n",
            " 0.61989895 0.6218033  0.62561185 0.62942052 0.66903025 0.66522162\n",
            " 0.65417656 0.65455743 0.66560249 0.67245805 0.66331735 0.6644599\n",
            " 0.6675068  0.68007523 0.68807339 0.69340547 0.68502653 0.70140363\n",
            " 0.70445053 0.67436233 0.68654994 0.67855182 0.65874695 0.6675068\n",
            " 0.66560249 0.66636425 0.67055366 0.68159872 0.67588582 0.6671259\n",
            " 0.65531919 0.6244693  0.63970381 0.64846366 0.63703777 0.63665691\n",
            " 0.63475264 0.63437177 0.62412578 0.61764812 0.60995275 0.60232496\n",
            " 0.59516704 0.58864635 0.58281344 0.57764357 0.57307124 0.56901985\n",
            " 0.56542218 0.56222904 0.55941129 0.55695629 0.55486226 0.55313081\n",
            " 0.55176234 0.55075246 0.5500893  0.54975462]\n",
            "20 day output [[0.54972357]]\n",
            "21 day input [0.70673567 0.69873751 0.70368877 0.72273191 0.68502653 0.66979201\n",
            " 0.65112966 0.65379578 0.65265315 0.64160809 0.61685204 0.61228173\n",
            " 0.59628549 0.58638302 0.59133424 0.57419541 0.57648059 0.61075824\n",
            " 0.63132487 0.61494773 0.60009404 0.58790643 0.57800404 0.58105094\n",
            " 0.57267196 0.58295525 0.58371702 0.60618792 0.60961561 0.60237926\n",
            " 0.57952749 0.59361945 0.60390267 0.6187564  0.61799463 0.6111391\n",
            " 0.62066067 0.64541676 0.6248502  0.61951805 0.614186   0.61989895\n",
            " 0.6218033  0.62561185 0.62942052 0.66903025 0.66522162 0.65417656\n",
            " 0.65455743 0.66560249 0.67245805 0.66331735 0.6644599  0.6675068\n",
            " 0.68007523 0.68807339 0.69340547 0.68502653 0.70140363 0.70445053\n",
            " 0.67436233 0.68654994 0.67855182 0.65874695 0.6675068  0.66560249\n",
            " 0.66636425 0.67055366 0.68159872 0.67588582 0.6671259  0.65531919\n",
            " 0.6244693  0.63970381 0.64846366 0.63703777 0.63665691 0.63475264\n",
            " 0.63437177 0.62412578 0.61764812 0.60995275 0.60232496 0.59516704\n",
            " 0.58864635 0.58281344 0.57764357 0.57307124 0.56901985 0.56542218\n",
            " 0.56222904 0.55941129 0.55695629 0.55486226 0.55313081 0.55176234\n",
            " 0.55075246 0.5500893  0.54975462 0.54972357]\n",
            "21 day output [[0.54996735]]\n",
            "22 day input [0.69873751 0.70368877 0.72273191 0.68502653 0.66979201 0.65112966\n",
            " 0.65379578 0.65265315 0.64160809 0.61685204 0.61228173 0.59628549\n",
            " 0.58638302 0.59133424 0.57419541 0.57648059 0.61075824 0.63132487\n",
            " 0.61494773 0.60009404 0.58790643 0.57800404 0.58105094 0.57267196\n",
            " 0.58295525 0.58371702 0.60618792 0.60961561 0.60237926 0.57952749\n",
            " 0.59361945 0.60390267 0.6187564  0.61799463 0.6111391  0.62066067\n",
            " 0.64541676 0.6248502  0.61951805 0.614186   0.61989895 0.6218033\n",
            " 0.62561185 0.62942052 0.66903025 0.66522162 0.65417656 0.65455743\n",
            " 0.66560249 0.67245805 0.66331735 0.6644599  0.6675068  0.68007523\n",
            " 0.68807339 0.69340547 0.68502653 0.70140363 0.70445053 0.67436233\n",
            " 0.68654994 0.67855182 0.65874695 0.6675068  0.66560249 0.66636425\n",
            " 0.67055366 0.68159872 0.67588582 0.6671259  0.65531919 0.6244693\n",
            " 0.63970381 0.64846366 0.63703777 0.63665691 0.63475264 0.63437177\n",
            " 0.62412578 0.61764812 0.60995275 0.60232496 0.59516704 0.58864635\n",
            " 0.58281344 0.57764357 0.57307124 0.56901985 0.56542218 0.56222904\n",
            " 0.55941129 0.55695629 0.55486226 0.55313081 0.55176234 0.55075246\n",
            " 0.5500893  0.54975462 0.54972357 0.54996735]\n",
            "22 day output [[0.55045426]]\n",
            "23 day input [0.70368877 0.72273191 0.68502653 0.66979201 0.65112966 0.65379578\n",
            " 0.65265315 0.64160809 0.61685204 0.61228173 0.59628549 0.58638302\n",
            " 0.59133424 0.57419541 0.57648059 0.61075824 0.63132487 0.61494773\n",
            " 0.60009404 0.58790643 0.57800404 0.58105094 0.57267196 0.58295525\n",
            " 0.58371702 0.60618792 0.60961561 0.60237926 0.57952749 0.59361945\n",
            " 0.60390267 0.6187564  0.61799463 0.6111391  0.62066067 0.64541676\n",
            " 0.6248502  0.61951805 0.614186   0.61989895 0.6218033  0.62561185\n",
            " 0.62942052 0.66903025 0.66522162 0.65417656 0.65455743 0.66560249\n",
            " 0.67245805 0.66331735 0.6644599  0.6675068  0.68007523 0.68807339\n",
            " 0.69340547 0.68502653 0.70140363 0.70445053 0.67436233 0.68654994\n",
            " 0.67855182 0.65874695 0.6675068  0.66560249 0.66636425 0.67055366\n",
            " 0.68159872 0.67588582 0.6671259  0.65531919 0.6244693  0.63970381\n",
            " 0.64846366 0.63703777 0.63665691 0.63475264 0.63437177 0.62412578\n",
            " 0.61764812 0.60995275 0.60232496 0.59516704 0.58864635 0.58281344\n",
            " 0.57764357 0.57307124 0.56901985 0.56542218 0.56222904 0.55941129\n",
            " 0.55695629 0.55486226 0.55313081 0.55176234 0.55075246 0.5500893\n",
            " 0.54975462 0.54972357 0.54996735 0.55045426]\n",
            "23 day output [[0.55115193]]\n",
            "24 day input [0.72273191 0.68502653 0.66979201 0.65112966 0.65379578 0.65265315\n",
            " 0.64160809 0.61685204 0.61228173 0.59628549 0.58638302 0.59133424\n",
            " 0.57419541 0.57648059 0.61075824 0.63132487 0.61494773 0.60009404\n",
            " 0.58790643 0.57800404 0.58105094 0.57267196 0.58295525 0.58371702\n",
            " 0.60618792 0.60961561 0.60237926 0.57952749 0.59361945 0.60390267\n",
            " 0.6187564  0.61799463 0.6111391  0.62066067 0.64541676 0.6248502\n",
            " 0.61951805 0.614186   0.61989895 0.6218033  0.62561185 0.62942052\n",
            " 0.66903025 0.66522162 0.65417656 0.65455743 0.66560249 0.67245805\n",
            " 0.66331735 0.6644599  0.6675068  0.68007523 0.68807339 0.69340547\n",
            " 0.68502653 0.70140363 0.70445053 0.67436233 0.68654994 0.67855182\n",
            " 0.65874695 0.6675068  0.66560249 0.66636425 0.67055366 0.68159872\n",
            " 0.67588582 0.6671259  0.65531919 0.6244693  0.63970381 0.64846366\n",
            " 0.63703777 0.63665691 0.63475264 0.63437177 0.62412578 0.61764812\n",
            " 0.60995275 0.60232496 0.59516704 0.58864635 0.58281344 0.57764357\n",
            " 0.57307124 0.56901985 0.56542218 0.56222904 0.55941129 0.55695629\n",
            " 0.55486226 0.55313081 0.55176234 0.55075246 0.5500893  0.54975462\n",
            " 0.54972357 0.54996735 0.55045426 0.55115193]\n",
            "24 day output [[0.55202824]]\n",
            "25 day input [0.68502653 0.66979201 0.65112966 0.65379578 0.65265315 0.64160809\n",
            " 0.61685204 0.61228173 0.59628549 0.58638302 0.59133424 0.57419541\n",
            " 0.57648059 0.61075824 0.63132487 0.61494773 0.60009404 0.58790643\n",
            " 0.57800404 0.58105094 0.57267196 0.58295525 0.58371702 0.60618792\n",
            " 0.60961561 0.60237926 0.57952749 0.59361945 0.60390267 0.6187564\n",
            " 0.61799463 0.6111391  0.62066067 0.64541676 0.6248502  0.61951805\n",
            " 0.614186   0.61989895 0.6218033  0.62561185 0.62942052 0.66903025\n",
            " 0.66522162 0.65417656 0.65455743 0.66560249 0.67245805 0.66331735\n",
            " 0.6644599  0.6675068  0.68007523 0.68807339 0.69340547 0.68502653\n",
            " 0.70140363 0.70445053 0.67436233 0.68654994 0.67855182 0.65874695\n",
            " 0.6675068  0.66560249 0.66636425 0.67055366 0.68159872 0.67588582\n",
            " 0.6671259  0.65531919 0.6244693  0.63970381 0.64846366 0.63703777\n",
            " 0.63665691 0.63475264 0.63437177 0.62412578 0.61764812 0.60995275\n",
            " 0.60232496 0.59516704 0.58864635 0.58281344 0.57764357 0.57307124\n",
            " 0.56901985 0.56542218 0.56222904 0.55941129 0.55695629 0.55486226\n",
            " 0.55313081 0.55176234 0.55075246 0.5500893  0.54975462 0.54972357\n",
            " 0.54996735 0.55045426 0.55115193 0.55202824]\n",
            "25 day output [[0.5530526]]\n",
            "26 day input [0.66979201 0.65112966 0.65379578 0.65265315 0.64160809 0.61685204\n",
            " 0.61228173 0.59628549 0.58638302 0.59133424 0.57419541 0.57648059\n",
            " 0.61075824 0.63132487 0.61494773 0.60009404 0.58790643 0.57800404\n",
            " 0.58105094 0.57267196 0.58295525 0.58371702 0.60618792 0.60961561\n",
            " 0.60237926 0.57952749 0.59361945 0.60390267 0.6187564  0.61799463\n",
            " 0.6111391  0.62066067 0.64541676 0.6248502  0.61951805 0.614186\n",
            " 0.61989895 0.6218033  0.62561185 0.62942052 0.66903025 0.66522162\n",
            " 0.65417656 0.65455743 0.66560249 0.67245805 0.66331735 0.6644599\n",
            " 0.6675068  0.68007523 0.68807339 0.69340547 0.68502653 0.70140363\n",
            " 0.70445053 0.67436233 0.68654994 0.67855182 0.65874695 0.6675068\n",
            " 0.66560249 0.66636425 0.67055366 0.68159872 0.67588582 0.6671259\n",
            " 0.65531919 0.6244693  0.63970381 0.64846366 0.63703777 0.63665691\n",
            " 0.63475264 0.63437177 0.62412578 0.61764812 0.60995275 0.60232496\n",
            " 0.59516704 0.58864635 0.58281344 0.57764357 0.57307124 0.56901985\n",
            " 0.56542218 0.56222904 0.55941129 0.55695629 0.55486226 0.55313081\n",
            " 0.55176234 0.55075246 0.5500893  0.54975462 0.54972357 0.54996735\n",
            " 0.55045426 0.55115193 0.55202824 0.5530526 ]\n",
            "26 day output [[0.5541961]]\n",
            "27 day input [0.65112966 0.65379578 0.65265315 0.64160809 0.61685204 0.61228173\n",
            " 0.59628549 0.58638302 0.59133424 0.57419541 0.57648059 0.61075824\n",
            " 0.63132487 0.61494773 0.60009404 0.58790643 0.57800404 0.58105094\n",
            " 0.57267196 0.58295525 0.58371702 0.60618792 0.60961561 0.60237926\n",
            " 0.57952749 0.59361945 0.60390267 0.6187564  0.61799463 0.6111391\n",
            " 0.62066067 0.64541676 0.6248502  0.61951805 0.614186   0.61989895\n",
            " 0.6218033  0.62561185 0.62942052 0.66903025 0.66522162 0.65417656\n",
            " 0.65455743 0.66560249 0.67245805 0.66331735 0.6644599  0.6675068\n",
            " 0.68007523 0.68807339 0.69340547 0.68502653 0.70140363 0.70445053\n",
            " 0.67436233 0.68654994 0.67855182 0.65874695 0.6675068  0.66560249\n",
            " 0.66636425 0.67055366 0.68159872 0.67588582 0.6671259  0.65531919\n",
            " 0.6244693  0.63970381 0.64846366 0.63703777 0.63665691 0.63475264\n",
            " 0.63437177 0.62412578 0.61764812 0.60995275 0.60232496 0.59516704\n",
            " 0.58864635 0.58281344 0.57764357 0.57307124 0.56901985 0.56542218\n",
            " 0.56222904 0.55941129 0.55695629 0.55486226 0.55313081 0.55176234\n",
            " 0.55075246 0.5500893  0.54975462 0.54972357 0.54996735 0.55045426\n",
            " 0.55115193 0.55202824 0.5530526  0.55419612]\n",
            "27 day output [[0.5554327]]\n",
            "28 day input [0.65379578 0.65265315 0.64160809 0.61685204 0.61228173 0.59628549\n",
            " 0.58638302 0.59133424 0.57419541 0.57648059 0.61075824 0.63132487\n",
            " 0.61494773 0.60009404 0.58790643 0.57800404 0.58105094 0.57267196\n",
            " 0.58295525 0.58371702 0.60618792 0.60961561 0.60237926 0.57952749\n",
            " 0.59361945 0.60390267 0.6187564  0.61799463 0.6111391  0.62066067\n",
            " 0.64541676 0.6248502  0.61951805 0.614186   0.61989895 0.6218033\n",
            " 0.62561185 0.62942052 0.66903025 0.66522162 0.65417656 0.65455743\n",
            " 0.66560249 0.67245805 0.66331735 0.6644599  0.6675068  0.68007523\n",
            " 0.68807339 0.69340547 0.68502653 0.70140363 0.70445053 0.67436233\n",
            " 0.68654994 0.67855182 0.65874695 0.6675068  0.66560249 0.66636425\n",
            " 0.67055366 0.68159872 0.67588582 0.6671259  0.65531919 0.6244693\n",
            " 0.63970381 0.64846366 0.63703777 0.63665691 0.63475264 0.63437177\n",
            " 0.62412578 0.61764812 0.60995275 0.60232496 0.59516704 0.58864635\n",
            " 0.58281344 0.57764357 0.57307124 0.56901985 0.56542218 0.56222904\n",
            " 0.55941129 0.55695629 0.55486226 0.55313081 0.55176234 0.55075246\n",
            " 0.5500893  0.54975462 0.54972357 0.54996735 0.55045426 0.55115193\n",
            " 0.55202824 0.5530526  0.55419612 0.55543268]\n",
            "28 day output [[0.5567377]]\n",
            "29 day input [0.65265315 0.64160809 0.61685204 0.61228173 0.59628549 0.58638302\n",
            " 0.59133424 0.57419541 0.57648059 0.61075824 0.63132487 0.61494773\n",
            " 0.60009404 0.58790643 0.57800404 0.58105094 0.57267196 0.58295525\n",
            " 0.58371702 0.60618792 0.60961561 0.60237926 0.57952749 0.59361945\n",
            " 0.60390267 0.6187564  0.61799463 0.6111391  0.62066067 0.64541676\n",
            " 0.6248502  0.61951805 0.614186   0.61989895 0.6218033  0.62561185\n",
            " 0.62942052 0.66903025 0.66522162 0.65417656 0.65455743 0.66560249\n",
            " 0.67245805 0.66331735 0.6644599  0.6675068  0.68007523 0.68807339\n",
            " 0.69340547 0.68502653 0.70140363 0.70445053 0.67436233 0.68654994\n",
            " 0.67855182 0.65874695 0.6675068  0.66560249 0.66636425 0.67055366\n",
            " 0.68159872 0.67588582 0.6671259  0.65531919 0.6244693  0.63970381\n",
            " 0.64846366 0.63703777 0.63665691 0.63475264 0.63437177 0.62412578\n",
            " 0.61764812 0.60995275 0.60232496 0.59516704 0.58864635 0.58281344\n",
            " 0.57764357 0.57307124 0.56901985 0.56542218 0.56222904 0.55941129\n",
            " 0.55695629 0.55486226 0.55313081 0.55176234 0.55075246 0.5500893\n",
            " 0.54975462 0.54972357 0.54996735 0.55045426 0.55115193 0.55202824\n",
            " 0.5530526  0.55419612 0.55543268 0.55673772]\n",
            "29 day output [[0.5580894]]\n",
            "30 day input [0.64160809 0.61685204 0.61228173 0.59628549 0.58638302 0.59133424\n",
            " 0.57419541 0.57648059 0.61075824 0.63132487 0.61494773 0.60009404\n",
            " 0.58790643 0.57800404 0.58105094 0.57267196 0.58295525 0.58371702\n",
            " 0.60618792 0.60961561 0.60237926 0.57952749 0.59361945 0.60390267\n",
            " 0.6187564  0.61799463 0.6111391  0.62066067 0.64541676 0.6248502\n",
            " 0.61951805 0.614186   0.61989895 0.6218033  0.62561185 0.62942052\n",
            " 0.66903025 0.66522162 0.65417656 0.65455743 0.66560249 0.67245805\n",
            " 0.66331735 0.6644599  0.6675068  0.68007523 0.68807339 0.69340547\n",
            " 0.68502653 0.70140363 0.70445053 0.67436233 0.68654994 0.67855182\n",
            " 0.65874695 0.6675068  0.66560249 0.66636425 0.67055366 0.68159872\n",
            " 0.67588582 0.6671259  0.65531919 0.6244693  0.63970381 0.64846366\n",
            " 0.63703777 0.63665691 0.63475264 0.63437177 0.62412578 0.61764812\n",
            " 0.60995275 0.60232496 0.59516704 0.58864635 0.58281344 0.57764357\n",
            " 0.57307124 0.56901985 0.56542218 0.56222904 0.55941129 0.55695629\n",
            " 0.55486226 0.55313081 0.55176234 0.55075246 0.5500893  0.54975462\n",
            " 0.54972357 0.54996735 0.55045426 0.55115193 0.55202824 0.5530526\n",
            " 0.55419612 0.55543268 0.55673772 0.55808938]\n",
            "30 day output [[0.55946714]]\n",
            "31 day input [0.61685204 0.61228173 0.59628549 0.58638302 0.59133424 0.57419541\n",
            " 0.57648059 0.61075824 0.63132487 0.61494773 0.60009404 0.58790643\n",
            " 0.57800404 0.58105094 0.57267196 0.58295525 0.58371702 0.60618792\n",
            " 0.60961561 0.60237926 0.57952749 0.59361945 0.60390267 0.6187564\n",
            " 0.61799463 0.6111391  0.62066067 0.64541676 0.6248502  0.61951805\n",
            " 0.614186   0.61989895 0.6218033  0.62561185 0.62942052 0.66903025\n",
            " 0.66522162 0.65417656 0.65455743 0.66560249 0.67245805 0.66331735\n",
            " 0.6644599  0.6675068  0.68007523 0.68807339 0.69340547 0.68502653\n",
            " 0.70140363 0.70445053 0.67436233 0.68654994 0.67855182 0.65874695\n",
            " 0.6675068  0.66560249 0.66636425 0.67055366 0.68159872 0.67588582\n",
            " 0.6671259  0.65531919 0.6244693  0.63970381 0.64846366 0.63703777\n",
            " 0.63665691 0.63475264 0.63437177 0.62412578 0.61764812 0.60995275\n",
            " 0.60232496 0.59516704 0.58864635 0.58281344 0.57764357 0.57307124\n",
            " 0.56901985 0.56542218 0.56222904 0.55941129 0.55695629 0.55486226\n",
            " 0.55313081 0.55176234 0.55075246 0.5500893  0.54975462 0.54972357\n",
            " 0.54996735 0.55045426 0.55115193 0.55202824 0.5530526  0.55419612\n",
            " 0.55543268 0.55673772 0.55808938 0.55946714]\n",
            "31 day output [[0.5608526]]\n",
            "32 day input [0.61228173 0.59628549 0.58638302 0.59133424 0.57419541 0.57648059\n",
            " 0.61075824 0.63132487 0.61494773 0.60009404 0.58790643 0.57800404\n",
            " 0.58105094 0.57267196 0.58295525 0.58371702 0.60618792 0.60961561\n",
            " 0.60237926 0.57952749 0.59361945 0.60390267 0.6187564  0.61799463\n",
            " 0.6111391  0.62066067 0.64541676 0.6248502  0.61951805 0.614186\n",
            " 0.61989895 0.6218033  0.62561185 0.62942052 0.66903025 0.66522162\n",
            " 0.65417656 0.65455743 0.66560249 0.67245805 0.66331735 0.6644599\n",
            " 0.6675068  0.68007523 0.68807339 0.69340547 0.68502653 0.70140363\n",
            " 0.70445053 0.67436233 0.68654994 0.67855182 0.65874695 0.6675068\n",
            " 0.66560249 0.66636425 0.67055366 0.68159872 0.67588582 0.6671259\n",
            " 0.65531919 0.6244693  0.63970381 0.64846366 0.63703777 0.63665691\n",
            " 0.63475264 0.63437177 0.62412578 0.61764812 0.60995275 0.60232496\n",
            " 0.59516704 0.58864635 0.58281344 0.57764357 0.57307124 0.56901985\n",
            " 0.56542218 0.56222904 0.55941129 0.55695629 0.55486226 0.55313081\n",
            " 0.55176234 0.55075246 0.5500893  0.54975462 0.54972357 0.54996735\n",
            " 0.55045426 0.55115193 0.55202824 0.5530526  0.55419612 0.55543268\n",
            " 0.55673772 0.55808938 0.55946714 0.56085259]\n",
            "32 day output [[0.5622289]]\n",
            "33 day input [0.59628549 0.58638302 0.59133424 0.57419541 0.57648059 0.61075824\n",
            " 0.63132487 0.61494773 0.60009404 0.58790643 0.57800404 0.58105094\n",
            " 0.57267196 0.58295525 0.58371702 0.60618792 0.60961561 0.60237926\n",
            " 0.57952749 0.59361945 0.60390267 0.6187564  0.61799463 0.6111391\n",
            " 0.62066067 0.64541676 0.6248502  0.61951805 0.614186   0.61989895\n",
            " 0.6218033  0.62561185 0.62942052 0.66903025 0.66522162 0.65417656\n",
            " 0.65455743 0.66560249 0.67245805 0.66331735 0.6644599  0.6675068\n",
            " 0.68007523 0.68807339 0.69340547 0.68502653 0.70140363 0.70445053\n",
            " 0.67436233 0.68654994 0.67855182 0.65874695 0.6675068  0.66560249\n",
            " 0.66636425 0.67055366 0.68159872 0.67588582 0.6671259  0.65531919\n",
            " 0.6244693  0.63970381 0.64846366 0.63703777 0.63665691 0.63475264\n",
            " 0.63437177 0.62412578 0.61764812 0.60995275 0.60232496 0.59516704\n",
            " 0.58864635 0.58281344 0.57764357 0.57307124 0.56901985 0.56542218\n",
            " 0.56222904 0.55941129 0.55695629 0.55486226 0.55313081 0.55176234\n",
            " 0.55075246 0.5500893  0.54975462 0.54972357 0.54996735 0.55045426\n",
            " 0.55115193 0.55202824 0.5530526  0.55419612 0.55543268 0.55673772\n",
            " 0.55808938 0.55946714 0.56085259 0.56222892]\n",
            "33 day output [[0.5635809]]\n",
            "34 day input [0.58638302 0.59133424 0.57419541 0.57648059 0.61075824 0.63132487\n",
            " 0.61494773 0.60009404 0.58790643 0.57800404 0.58105094 0.57267196\n",
            " 0.58295525 0.58371702 0.60618792 0.60961561 0.60237926 0.57952749\n",
            " 0.59361945 0.60390267 0.6187564  0.61799463 0.6111391  0.62066067\n",
            " 0.64541676 0.6248502  0.61951805 0.614186   0.61989895 0.6218033\n",
            " 0.62561185 0.62942052 0.66903025 0.66522162 0.65417656 0.65455743\n",
            " 0.66560249 0.67245805 0.66331735 0.6644599  0.6675068  0.68007523\n",
            " 0.68807339 0.69340547 0.68502653 0.70140363 0.70445053 0.67436233\n",
            " 0.68654994 0.67855182 0.65874695 0.6675068  0.66560249 0.66636425\n",
            " 0.67055366 0.68159872 0.67588582 0.6671259  0.65531919 0.6244693\n",
            " 0.63970381 0.64846366 0.63703777 0.63665691 0.63475264 0.63437177\n",
            " 0.62412578 0.61764812 0.60995275 0.60232496 0.59516704 0.58864635\n",
            " 0.58281344 0.57764357 0.57307124 0.56901985 0.56542218 0.56222904\n",
            " 0.55941129 0.55695629 0.55486226 0.55313081 0.55176234 0.55075246\n",
            " 0.5500893  0.54975462 0.54972357 0.54996735 0.55045426 0.55115193\n",
            " 0.55202824 0.5530526  0.55419612 0.55543268 0.55673772 0.55808938\n",
            " 0.55946714 0.56085259 0.56222892 0.56358087]\n",
            "34 day output [[0.5648943]]\n",
            "35 day input [0.59133424 0.57419541 0.57648059 0.61075824 0.63132487 0.61494773\n",
            " 0.60009404 0.58790643 0.57800404 0.58105094 0.57267196 0.58295525\n",
            " 0.58371702 0.60618792 0.60961561 0.60237926 0.57952749 0.59361945\n",
            " 0.60390267 0.6187564  0.61799463 0.6111391  0.62066067 0.64541676\n",
            " 0.6248502  0.61951805 0.614186   0.61989895 0.6218033  0.62561185\n",
            " 0.62942052 0.66903025 0.66522162 0.65417656 0.65455743 0.66560249\n",
            " 0.67245805 0.66331735 0.6644599  0.6675068  0.68007523 0.68807339\n",
            " 0.69340547 0.68502653 0.70140363 0.70445053 0.67436233 0.68654994\n",
            " 0.67855182 0.65874695 0.6675068  0.66560249 0.66636425 0.67055366\n",
            " 0.68159872 0.67588582 0.6671259  0.65531919 0.6244693  0.63970381\n",
            " 0.64846366 0.63703777 0.63665691 0.63475264 0.63437177 0.62412578\n",
            " 0.61764812 0.60995275 0.60232496 0.59516704 0.58864635 0.58281344\n",
            " 0.57764357 0.57307124 0.56901985 0.56542218 0.56222904 0.55941129\n",
            " 0.55695629 0.55486226 0.55313081 0.55176234 0.55075246 0.5500893\n",
            " 0.54975462 0.54972357 0.54996735 0.55045426 0.55115193 0.55202824\n",
            " 0.5530526  0.55419612 0.55543268 0.55673772 0.55808938 0.55946714\n",
            " 0.56085259 0.56222892 0.56358087 0.56489432]\n",
            "35 day output [[0.5661568]]\n",
            "36 day input [0.57419541 0.57648059 0.61075824 0.63132487 0.61494773 0.60009404\n",
            " 0.58790643 0.57800404 0.58105094 0.57267196 0.58295525 0.58371702\n",
            " 0.60618792 0.60961561 0.60237926 0.57952749 0.59361945 0.60390267\n",
            " 0.6187564  0.61799463 0.6111391  0.62066067 0.64541676 0.6248502\n",
            " 0.61951805 0.614186   0.61989895 0.6218033  0.62561185 0.62942052\n",
            " 0.66903025 0.66522162 0.65417656 0.65455743 0.66560249 0.67245805\n",
            " 0.66331735 0.6644599  0.6675068  0.68007523 0.68807339 0.69340547\n",
            " 0.68502653 0.70140363 0.70445053 0.67436233 0.68654994 0.67855182\n",
            " 0.65874695 0.6675068  0.66560249 0.66636425 0.67055366 0.68159872\n",
            " 0.67588582 0.6671259  0.65531919 0.6244693  0.63970381 0.64846366\n",
            " 0.63703777 0.63665691 0.63475264 0.63437177 0.62412578 0.61764812\n",
            " 0.60995275 0.60232496 0.59516704 0.58864635 0.58281344 0.57764357\n",
            " 0.57307124 0.56901985 0.56542218 0.56222904 0.55941129 0.55695629\n",
            " 0.55486226 0.55313081 0.55176234 0.55075246 0.5500893  0.54975462\n",
            " 0.54972357 0.54996735 0.55045426 0.55115193 0.55202824 0.5530526\n",
            " 0.55419612 0.55543268 0.55673772 0.55808938 0.55946714 0.56085259\n",
            " 0.56222892 0.56358087 0.56489432 0.5661568 ]\n",
            "36 day output [[0.5673574]]\n",
            "37 day input [0.57648059 0.61075824 0.63132487 0.61494773 0.60009404 0.58790643\n",
            " 0.57800404 0.58105094 0.57267196 0.58295525 0.58371702 0.60618792\n",
            " 0.60961561 0.60237926 0.57952749 0.59361945 0.60390267 0.6187564\n",
            " 0.61799463 0.6111391  0.62066067 0.64541676 0.6248502  0.61951805\n",
            " 0.614186   0.61989895 0.6218033  0.62561185 0.62942052 0.66903025\n",
            " 0.66522162 0.65417656 0.65455743 0.66560249 0.67245805 0.66331735\n",
            " 0.6644599  0.6675068  0.68007523 0.68807339 0.69340547 0.68502653\n",
            " 0.70140363 0.70445053 0.67436233 0.68654994 0.67855182 0.65874695\n",
            " 0.6675068  0.66560249 0.66636425 0.67055366 0.68159872 0.67588582\n",
            " 0.6671259  0.65531919 0.6244693  0.63970381 0.64846366 0.63703777\n",
            " 0.63665691 0.63475264 0.63437177 0.62412578 0.61764812 0.60995275\n",
            " 0.60232496 0.59516704 0.58864635 0.58281344 0.57764357 0.57307124\n",
            " 0.56901985 0.56542218 0.56222904 0.55941129 0.55695629 0.55486226\n",
            " 0.55313081 0.55176234 0.55075246 0.5500893  0.54975462 0.54972357\n",
            " 0.54996735 0.55045426 0.55115193 0.55202824 0.5530526  0.55419612\n",
            " 0.55543268 0.55673772 0.55808938 0.55946714 0.56085259 0.56222892\n",
            " 0.56358087 0.56489432 0.5661568  0.56735742]\n",
            "37 day output [[0.5684862]]\n",
            "38 day input [0.61075824 0.63132487 0.61494773 0.60009404 0.58790643 0.57800404\n",
            " 0.58105094 0.57267196 0.58295525 0.58371702 0.60618792 0.60961561\n",
            " 0.60237926 0.57952749 0.59361945 0.60390267 0.6187564  0.61799463\n",
            " 0.6111391  0.62066067 0.64541676 0.6248502  0.61951805 0.614186\n",
            " 0.61989895 0.6218033  0.62561185 0.62942052 0.66903025 0.66522162\n",
            " 0.65417656 0.65455743 0.66560249 0.67245805 0.66331735 0.6644599\n",
            " 0.6675068  0.68007523 0.68807339 0.69340547 0.68502653 0.70140363\n",
            " 0.70445053 0.67436233 0.68654994 0.67855182 0.65874695 0.6675068\n",
            " 0.66560249 0.66636425 0.67055366 0.68159872 0.67588582 0.6671259\n",
            " 0.65531919 0.6244693  0.63970381 0.64846366 0.63703777 0.63665691\n",
            " 0.63475264 0.63437177 0.62412578 0.61764812 0.60995275 0.60232496\n",
            " 0.59516704 0.58864635 0.58281344 0.57764357 0.57307124 0.56901985\n",
            " 0.56542218 0.56222904 0.55941129 0.55695629 0.55486226 0.55313081\n",
            " 0.55176234 0.55075246 0.5500893  0.54975462 0.54972357 0.54996735\n",
            " 0.55045426 0.55115193 0.55202824 0.5530526  0.55419612 0.55543268\n",
            " 0.55673772 0.55808938 0.55946714 0.56085259 0.56222892 0.56358087\n",
            " 0.56489432 0.5661568  0.56735742 0.56848621]\n",
            "38 day output [[0.5695356]]\n",
            "39 day input [0.63132487 0.61494773 0.60009404 0.58790643 0.57800404 0.58105094\n",
            " 0.57267196 0.58295525 0.58371702 0.60618792 0.60961561 0.60237926\n",
            " 0.57952749 0.59361945 0.60390267 0.6187564  0.61799463 0.6111391\n",
            " 0.62066067 0.64541676 0.6248502  0.61951805 0.614186   0.61989895\n",
            " 0.6218033  0.62561185 0.62942052 0.66903025 0.66522162 0.65417656\n",
            " 0.65455743 0.66560249 0.67245805 0.66331735 0.6644599  0.6675068\n",
            " 0.68007523 0.68807339 0.69340547 0.68502653 0.70140363 0.70445053\n",
            " 0.67436233 0.68654994 0.67855182 0.65874695 0.6675068  0.66560249\n",
            " 0.66636425 0.67055366 0.68159872 0.67588582 0.6671259  0.65531919\n",
            " 0.6244693  0.63970381 0.64846366 0.63703777 0.63665691 0.63475264\n",
            " 0.63437177 0.62412578 0.61764812 0.60995275 0.60232496 0.59516704\n",
            " 0.58864635 0.58281344 0.57764357 0.57307124 0.56901985 0.56542218\n",
            " 0.56222904 0.55941129 0.55695629 0.55486226 0.55313081 0.55176234\n",
            " 0.55075246 0.5500893  0.54975462 0.54972357 0.54996735 0.55045426\n",
            " 0.55115193 0.55202824 0.5530526  0.55419612 0.55543268 0.55673772\n",
            " 0.55808938 0.55946714 0.56085259 0.56222892 0.56358087 0.56489432\n",
            " 0.5661568  0.56735742 0.56848621 0.56953561]\n",
            "39 day output [[0.57049865]]\n",
            "40 day input [0.61494773 0.60009404 0.58790643 0.57800404 0.58105094 0.57267196\n",
            " 0.58295525 0.58371702 0.60618792 0.60961561 0.60237926 0.57952749\n",
            " 0.59361945 0.60390267 0.6187564  0.61799463 0.6111391  0.62066067\n",
            " 0.64541676 0.6248502  0.61951805 0.614186   0.61989895 0.6218033\n",
            " 0.62561185 0.62942052 0.66903025 0.66522162 0.65417656 0.65455743\n",
            " 0.66560249 0.67245805 0.66331735 0.6644599  0.6675068  0.68007523\n",
            " 0.68807339 0.69340547 0.68502653 0.70140363 0.70445053 0.67436233\n",
            " 0.68654994 0.67855182 0.65874695 0.6675068  0.66560249 0.66636425\n",
            " 0.67055366 0.68159872 0.67588582 0.6671259  0.65531919 0.6244693\n",
            " 0.63970381 0.64846366 0.63703777 0.63665691 0.63475264 0.63437177\n",
            " 0.62412578 0.61764812 0.60995275 0.60232496 0.59516704 0.58864635\n",
            " 0.58281344 0.57764357 0.57307124 0.56901985 0.56542218 0.56222904\n",
            " 0.55941129 0.55695629 0.55486226 0.55313081 0.55176234 0.55075246\n",
            " 0.5500893  0.54975462 0.54972357 0.54996735 0.55045426 0.55115193\n",
            " 0.55202824 0.5530526  0.55419612 0.55543268 0.55673772 0.55808938\n",
            " 0.55946714 0.56085259 0.56222892 0.56358087 0.56489432 0.5661568\n",
            " 0.56735742 0.56848621 0.56953561 0.57049865]\n",
            "40 day output [[0.5713701]]\n",
            "41 day input [0.60009404 0.58790643 0.57800404 0.58105094 0.57267196 0.58295525\n",
            " 0.58371702 0.60618792 0.60961561 0.60237926 0.57952749 0.59361945\n",
            " 0.60390267 0.6187564  0.61799463 0.6111391  0.62066067 0.64541676\n",
            " 0.6248502  0.61951805 0.614186   0.61989895 0.6218033  0.62561185\n",
            " 0.62942052 0.66903025 0.66522162 0.65417656 0.65455743 0.66560249\n",
            " 0.67245805 0.66331735 0.6644599  0.6675068  0.68007523 0.68807339\n",
            " 0.69340547 0.68502653 0.70140363 0.70445053 0.67436233 0.68654994\n",
            " 0.67855182 0.65874695 0.6675068  0.66560249 0.66636425 0.67055366\n",
            " 0.68159872 0.67588582 0.6671259  0.65531919 0.6244693  0.63970381\n",
            " 0.64846366 0.63703777 0.63665691 0.63475264 0.63437177 0.62412578\n",
            " 0.61764812 0.60995275 0.60232496 0.59516704 0.58864635 0.58281344\n",
            " 0.57764357 0.57307124 0.56901985 0.56542218 0.56222904 0.55941129\n",
            " 0.55695629 0.55486226 0.55313081 0.55176234 0.55075246 0.5500893\n",
            " 0.54975462 0.54972357 0.54996735 0.55045426 0.55115193 0.55202824\n",
            " 0.5530526  0.55419612 0.55543268 0.55673772 0.55808938 0.55946714\n",
            " 0.56085259 0.56222892 0.56358087 0.56489432 0.5661568  0.56735742\n",
            " 0.56848621 0.56953561 0.57049865 0.57137012]\n",
            "41 day output [[0.57214653]]\n",
            "42 day input [0.58790643 0.57800404 0.58105094 0.57267196 0.58295525 0.58371702\n",
            " 0.60618792 0.60961561 0.60237926 0.57952749 0.59361945 0.60390267\n",
            " 0.6187564  0.61799463 0.6111391  0.62066067 0.64541676 0.6248502\n",
            " 0.61951805 0.614186   0.61989895 0.6218033  0.62561185 0.62942052\n",
            " 0.66903025 0.66522162 0.65417656 0.65455743 0.66560249 0.67245805\n",
            " 0.66331735 0.6644599  0.6675068  0.68007523 0.68807339 0.69340547\n",
            " 0.68502653 0.70140363 0.70445053 0.67436233 0.68654994 0.67855182\n",
            " 0.65874695 0.6675068  0.66560249 0.66636425 0.67055366 0.68159872\n",
            " 0.67588582 0.6671259  0.65531919 0.6244693  0.63970381 0.64846366\n",
            " 0.63703777 0.63665691 0.63475264 0.63437177 0.62412578 0.61764812\n",
            " 0.60995275 0.60232496 0.59516704 0.58864635 0.58281344 0.57764357\n",
            " 0.57307124 0.56901985 0.56542218 0.56222904 0.55941129 0.55695629\n",
            " 0.55486226 0.55313081 0.55176234 0.55075246 0.5500893  0.54975462\n",
            " 0.54972357 0.54996735 0.55045426 0.55115193 0.55202824 0.5530526\n",
            " 0.55419612 0.55543268 0.55673772 0.55808938 0.55946714 0.56085259\n",
            " 0.56222892 0.56358087 0.56489432 0.5661568  0.56735742 0.56848621\n",
            " 0.56953561 0.57049865 0.57137012 0.57214653]\n",
            "42 day output [[0.5728253]]\n",
            "43 day input [0.57800404 0.58105094 0.57267196 0.58295525 0.58371702 0.60618792\n",
            " 0.60961561 0.60237926 0.57952749 0.59361945 0.60390267 0.6187564\n",
            " 0.61799463 0.6111391  0.62066067 0.64541676 0.6248502  0.61951805\n",
            " 0.614186   0.61989895 0.6218033  0.62561185 0.62942052 0.66903025\n",
            " 0.66522162 0.65417656 0.65455743 0.66560249 0.67245805 0.66331735\n",
            " 0.6644599  0.6675068  0.68007523 0.68807339 0.69340547 0.68502653\n",
            " 0.70140363 0.70445053 0.67436233 0.68654994 0.67855182 0.65874695\n",
            " 0.6675068  0.66560249 0.66636425 0.67055366 0.68159872 0.67588582\n",
            " 0.6671259  0.65531919 0.6244693  0.63970381 0.64846366 0.63703777\n",
            " 0.63665691 0.63475264 0.63437177 0.62412578 0.61764812 0.60995275\n",
            " 0.60232496 0.59516704 0.58864635 0.58281344 0.57764357 0.57307124\n",
            " 0.56901985 0.56542218 0.56222904 0.55941129 0.55695629 0.55486226\n",
            " 0.55313081 0.55176234 0.55075246 0.5500893  0.54975462 0.54972357\n",
            " 0.54996735 0.55045426 0.55115193 0.55202824 0.5530526  0.55419612\n",
            " 0.55543268 0.55673772 0.55808938 0.55946714 0.56085259 0.56222892\n",
            " 0.56358087 0.56489432 0.5661568  0.56735742 0.56848621 0.56953561\n",
            " 0.57049865 0.57137012 0.57214653 0.57282531]\n",
            "43 day output [[0.5734056]]\n",
            "44 day input [0.58105094 0.57267196 0.58295525 0.58371702 0.60618792 0.60961561\n",
            " 0.60237926 0.57952749 0.59361945 0.60390267 0.6187564  0.61799463\n",
            " 0.6111391  0.62066067 0.64541676 0.6248502  0.61951805 0.614186\n",
            " 0.61989895 0.6218033  0.62561185 0.62942052 0.66903025 0.66522162\n",
            " 0.65417656 0.65455743 0.66560249 0.67245805 0.66331735 0.6644599\n",
            " 0.6675068  0.68007523 0.68807339 0.69340547 0.68502653 0.70140363\n",
            " 0.70445053 0.67436233 0.68654994 0.67855182 0.65874695 0.6675068\n",
            " 0.66560249 0.66636425 0.67055366 0.68159872 0.67588582 0.6671259\n",
            " 0.65531919 0.6244693  0.63970381 0.64846366 0.63703777 0.63665691\n",
            " 0.63475264 0.63437177 0.62412578 0.61764812 0.60995275 0.60232496\n",
            " 0.59516704 0.58864635 0.58281344 0.57764357 0.57307124 0.56901985\n",
            " 0.56542218 0.56222904 0.55941129 0.55695629 0.55486226 0.55313081\n",
            " 0.55176234 0.55075246 0.5500893  0.54975462 0.54972357 0.54996735\n",
            " 0.55045426 0.55115193 0.55202824 0.5530526  0.55419612 0.55543268\n",
            " 0.55673772 0.55808938 0.55946714 0.56085259 0.56222892 0.56358087\n",
            " 0.56489432 0.5661568  0.56735742 0.56848621 0.56953561 0.57049865\n",
            " 0.57137012 0.57214653 0.57282531 0.57340562]\n",
            "44 day output [[0.5738874]]\n",
            "45 day input [0.57267196 0.58295525 0.58371702 0.60618792 0.60961561 0.60237926\n",
            " 0.57952749 0.59361945 0.60390267 0.6187564  0.61799463 0.6111391\n",
            " 0.62066067 0.64541676 0.6248502  0.61951805 0.614186   0.61989895\n",
            " 0.6218033  0.62561185 0.62942052 0.66903025 0.66522162 0.65417656\n",
            " 0.65455743 0.66560249 0.67245805 0.66331735 0.6644599  0.6675068\n",
            " 0.68007523 0.68807339 0.69340547 0.68502653 0.70140363 0.70445053\n",
            " 0.67436233 0.68654994 0.67855182 0.65874695 0.6675068  0.66560249\n",
            " 0.66636425 0.67055366 0.68159872 0.67588582 0.6671259  0.65531919\n",
            " 0.6244693  0.63970381 0.64846366 0.63703777 0.63665691 0.63475264\n",
            " 0.63437177 0.62412578 0.61764812 0.60995275 0.60232496 0.59516704\n",
            " 0.58864635 0.58281344 0.57764357 0.57307124 0.56901985 0.56542218\n",
            " 0.56222904 0.55941129 0.55695629 0.55486226 0.55313081 0.55176234\n",
            " 0.55075246 0.5500893  0.54975462 0.54972357 0.54996735 0.55045426\n",
            " 0.55115193 0.55202824 0.5530526  0.55419612 0.55543268 0.55673772\n",
            " 0.55808938 0.55946714 0.56085259 0.56222892 0.56358087 0.56489432\n",
            " 0.5661568  0.56735742 0.56848621 0.56953561 0.57049865 0.57137012\n",
            " 0.57214653 0.57282531 0.57340562 0.57388741]\n",
            "45 day output [[0.57427233]]\n",
            "46 day input [0.58295525 0.58371702 0.60618792 0.60961561 0.60237926 0.57952749\n",
            " 0.59361945 0.60390267 0.6187564  0.61799463 0.6111391  0.62066067\n",
            " 0.64541676 0.6248502  0.61951805 0.614186   0.61989895 0.6218033\n",
            " 0.62561185 0.62942052 0.66903025 0.66522162 0.65417656 0.65455743\n",
            " 0.66560249 0.67245805 0.66331735 0.6644599  0.6675068  0.68007523\n",
            " 0.68807339 0.69340547 0.68502653 0.70140363 0.70445053 0.67436233\n",
            " 0.68654994 0.67855182 0.65874695 0.6675068  0.66560249 0.66636425\n",
            " 0.67055366 0.68159872 0.67588582 0.6671259  0.65531919 0.6244693\n",
            " 0.63970381 0.64846366 0.63703777 0.63665691 0.63475264 0.63437177\n",
            " 0.62412578 0.61764812 0.60995275 0.60232496 0.59516704 0.58864635\n",
            " 0.58281344 0.57764357 0.57307124 0.56901985 0.56542218 0.56222904\n",
            " 0.55941129 0.55695629 0.55486226 0.55313081 0.55176234 0.55075246\n",
            " 0.5500893  0.54975462 0.54972357 0.54996735 0.55045426 0.55115193\n",
            " 0.55202824 0.5530526  0.55419612 0.55543268 0.55673772 0.55808938\n",
            " 0.55946714 0.56085259 0.56222892 0.56358087 0.56489432 0.5661568\n",
            " 0.56735742 0.56848621 0.56953561 0.57049865 0.57137012 0.57214653\n",
            " 0.57282531 0.57340562 0.57388741 0.57427233]\n",
            "46 day output [[0.5745626]]\n",
            "47 day input [0.58371702 0.60618792 0.60961561 0.60237926 0.57952749 0.59361945\n",
            " 0.60390267 0.6187564  0.61799463 0.6111391  0.62066067 0.64541676\n",
            " 0.6248502  0.61951805 0.614186   0.61989895 0.6218033  0.62561185\n",
            " 0.62942052 0.66903025 0.66522162 0.65417656 0.65455743 0.66560249\n",
            " 0.67245805 0.66331735 0.6644599  0.6675068  0.68007523 0.68807339\n",
            " 0.69340547 0.68502653 0.70140363 0.70445053 0.67436233 0.68654994\n",
            " 0.67855182 0.65874695 0.6675068  0.66560249 0.66636425 0.67055366\n",
            " 0.68159872 0.67588582 0.6671259  0.65531919 0.6244693  0.63970381\n",
            " 0.64846366 0.63703777 0.63665691 0.63475264 0.63437177 0.62412578\n",
            " 0.61764812 0.60995275 0.60232496 0.59516704 0.58864635 0.58281344\n",
            " 0.57764357 0.57307124 0.56901985 0.56542218 0.56222904 0.55941129\n",
            " 0.55695629 0.55486226 0.55313081 0.55176234 0.55075246 0.5500893\n",
            " 0.54975462 0.54972357 0.54996735 0.55045426 0.55115193 0.55202824\n",
            " 0.5530526  0.55419612 0.55543268 0.55673772 0.55808938 0.55946714\n",
            " 0.56085259 0.56222892 0.56358087 0.56489432 0.5661568  0.56735742\n",
            " 0.56848621 0.56953561 0.57049865 0.57137012 0.57214653 0.57282531\n",
            " 0.57340562 0.57388741 0.57427233 0.57456261]\n",
            "47 day output [[0.57476157]]\n",
            "48 day input [0.60618792 0.60961561 0.60237926 0.57952749 0.59361945 0.60390267\n",
            " 0.6187564  0.61799463 0.6111391  0.62066067 0.64541676 0.6248502\n",
            " 0.61951805 0.614186   0.61989895 0.6218033  0.62561185 0.62942052\n",
            " 0.66903025 0.66522162 0.65417656 0.65455743 0.66560249 0.67245805\n",
            " 0.66331735 0.6644599  0.6675068  0.68007523 0.68807339 0.69340547\n",
            " 0.68502653 0.70140363 0.70445053 0.67436233 0.68654994 0.67855182\n",
            " 0.65874695 0.6675068  0.66560249 0.66636425 0.67055366 0.68159872\n",
            " 0.67588582 0.6671259  0.65531919 0.6244693  0.63970381 0.64846366\n",
            " 0.63703777 0.63665691 0.63475264 0.63437177 0.62412578 0.61764812\n",
            " 0.60995275 0.60232496 0.59516704 0.58864635 0.58281344 0.57764357\n",
            " 0.57307124 0.56901985 0.56542218 0.56222904 0.55941129 0.55695629\n",
            " 0.55486226 0.55313081 0.55176234 0.55075246 0.5500893  0.54975462\n",
            " 0.54972357 0.54996735 0.55045426 0.55115193 0.55202824 0.5530526\n",
            " 0.55419612 0.55543268 0.55673772 0.55808938 0.55946714 0.56085259\n",
            " 0.56222892 0.56358087 0.56489432 0.5661568  0.56735742 0.56848621\n",
            " 0.56953561 0.57049865 0.57137012 0.57214653 0.57282531 0.57340562\n",
            " 0.57388741 0.57427233 0.57456261 0.57476157]\n",
            "48 day output [[0.57487345]]\n",
            "49 day input [0.60961561 0.60237926 0.57952749 0.59361945 0.60390267 0.6187564\n",
            " 0.61799463 0.6111391  0.62066067 0.64541676 0.6248502  0.61951805\n",
            " 0.614186   0.61989895 0.6218033  0.62561185 0.62942052 0.66903025\n",
            " 0.66522162 0.65417656 0.65455743 0.66560249 0.67245805 0.66331735\n",
            " 0.6644599  0.6675068  0.68007523 0.68807339 0.69340547 0.68502653\n",
            " 0.70140363 0.70445053 0.67436233 0.68654994 0.67855182 0.65874695\n",
            " 0.6675068  0.66560249 0.66636425 0.67055366 0.68159872 0.67588582\n",
            " 0.6671259  0.65531919 0.6244693  0.63970381 0.64846366 0.63703777\n",
            " 0.63665691 0.63475264 0.63437177 0.62412578 0.61764812 0.60995275\n",
            " 0.60232496 0.59516704 0.58864635 0.58281344 0.57764357 0.57307124\n",
            " 0.56901985 0.56542218 0.56222904 0.55941129 0.55695629 0.55486226\n",
            " 0.55313081 0.55176234 0.55075246 0.5500893  0.54975462 0.54972357\n",
            " 0.54996735 0.55045426 0.55115193 0.55202824 0.5530526  0.55419612\n",
            " 0.55543268 0.55673772 0.55808938 0.55946714 0.56085259 0.56222892\n",
            " 0.56358087 0.56489432 0.5661568  0.56735742 0.56848621 0.56953561\n",
            " 0.57049865 0.57137012 0.57214653 0.57282531 0.57340562 0.57388741\n",
            " 0.57427233 0.57456261 0.57476157 0.57487345]\n",
            "49 day output [[0.57490313]]\n",
            "50 day input [0.60237926 0.57952749 0.59361945 0.60390267 0.6187564  0.61799463\n",
            " 0.6111391  0.62066067 0.64541676 0.6248502  0.61951805 0.614186\n",
            " 0.61989895 0.6218033  0.62561185 0.62942052 0.66903025 0.66522162\n",
            " 0.65417656 0.65455743 0.66560249 0.67245805 0.66331735 0.6644599\n",
            " 0.6675068  0.68007523 0.68807339 0.69340547 0.68502653 0.70140363\n",
            " 0.70445053 0.67436233 0.68654994 0.67855182 0.65874695 0.6675068\n",
            " 0.66560249 0.66636425 0.67055366 0.68159872 0.67588582 0.6671259\n",
            " 0.65531919 0.6244693  0.63970381 0.64846366 0.63703777 0.63665691\n",
            " 0.63475264 0.63437177 0.62412578 0.61764812 0.60995275 0.60232496\n",
            " 0.59516704 0.58864635 0.58281344 0.57764357 0.57307124 0.56901985\n",
            " 0.56542218 0.56222904 0.55941129 0.55695629 0.55486226 0.55313081\n",
            " 0.55176234 0.55075246 0.5500893  0.54975462 0.54972357 0.54996735\n",
            " 0.55045426 0.55115193 0.55202824 0.5530526  0.55419612 0.55543268\n",
            " 0.55673772 0.55808938 0.55946714 0.56085259 0.56222892 0.56358087\n",
            " 0.56489432 0.5661568  0.56735742 0.56848621 0.56953561 0.57049865\n",
            " 0.57137012 0.57214653 0.57282531 0.57340562 0.57388741 0.57427233\n",
            " 0.57456261 0.57476157 0.57487345 0.57490313]\n",
            "50 day output [[0.5748563]]\n",
            "51 day input [0.57952749 0.59361945 0.60390267 0.6187564  0.61799463 0.6111391\n",
            " 0.62066067 0.64541676 0.6248502  0.61951805 0.614186   0.61989895\n",
            " 0.6218033  0.62561185 0.62942052 0.66903025 0.66522162 0.65417656\n",
            " 0.65455743 0.66560249 0.67245805 0.66331735 0.6644599  0.6675068\n",
            " 0.68007523 0.68807339 0.69340547 0.68502653 0.70140363 0.70445053\n",
            " 0.67436233 0.68654994 0.67855182 0.65874695 0.6675068  0.66560249\n",
            " 0.66636425 0.67055366 0.68159872 0.67588582 0.6671259  0.65531919\n",
            " 0.6244693  0.63970381 0.64846366 0.63703777 0.63665691 0.63475264\n",
            " 0.63437177 0.62412578 0.61764812 0.60995275 0.60232496 0.59516704\n",
            " 0.58864635 0.58281344 0.57764357 0.57307124 0.56901985 0.56542218\n",
            " 0.56222904 0.55941129 0.55695629 0.55486226 0.55313081 0.55176234\n",
            " 0.55075246 0.5500893  0.54975462 0.54972357 0.54996735 0.55045426\n",
            " 0.55115193 0.55202824 0.5530526  0.55419612 0.55543268 0.55673772\n",
            " 0.55808938 0.55946714 0.56085259 0.56222892 0.56358087 0.56489432\n",
            " 0.5661568  0.56735742 0.56848621 0.56953561 0.57049865 0.57137012\n",
            " 0.57214653 0.57282531 0.57340562 0.57388741 0.57427233 0.57456261\n",
            " 0.57476157 0.57487345 0.57490313 0.57485628]\n",
            "51 day output [[0.5747385]]\n",
            "52 day input [0.59361945 0.60390267 0.6187564  0.61799463 0.6111391  0.62066067\n",
            " 0.64541676 0.6248502  0.61951805 0.614186   0.61989895 0.6218033\n",
            " 0.62561185 0.62942052 0.66903025 0.66522162 0.65417656 0.65455743\n",
            " 0.66560249 0.67245805 0.66331735 0.6644599  0.6675068  0.68007523\n",
            " 0.68807339 0.69340547 0.68502653 0.70140363 0.70445053 0.67436233\n",
            " 0.68654994 0.67855182 0.65874695 0.6675068  0.66560249 0.66636425\n",
            " 0.67055366 0.68159872 0.67588582 0.6671259  0.65531919 0.6244693\n",
            " 0.63970381 0.64846366 0.63703777 0.63665691 0.63475264 0.63437177\n",
            " 0.62412578 0.61764812 0.60995275 0.60232496 0.59516704 0.58864635\n",
            " 0.58281344 0.57764357 0.57307124 0.56901985 0.56542218 0.56222904\n",
            " 0.55941129 0.55695629 0.55486226 0.55313081 0.55176234 0.55075246\n",
            " 0.5500893  0.54975462 0.54972357 0.54996735 0.55045426 0.55115193\n",
            " 0.55202824 0.5530526  0.55419612 0.55543268 0.55673772 0.55808938\n",
            " 0.55946714 0.56085259 0.56222892 0.56358087 0.56489432 0.5661568\n",
            " 0.56735742 0.56848621 0.56953561 0.57049865 0.57137012 0.57214653\n",
            " 0.57282531 0.57340562 0.57388741 0.57427233 0.57456261 0.57476157\n",
            " 0.57487345 0.57490313 0.57485628 0.5747385 ]\n",
            "52 day output [[0.5745567]]\n",
            "53 day input [0.60390267 0.6187564  0.61799463 0.6111391  0.62066067 0.64541676\n",
            " 0.6248502  0.61951805 0.614186   0.61989895 0.6218033  0.62561185\n",
            " 0.62942052 0.66903025 0.66522162 0.65417656 0.65455743 0.66560249\n",
            " 0.67245805 0.66331735 0.6644599  0.6675068  0.68007523 0.68807339\n",
            " 0.69340547 0.68502653 0.70140363 0.70445053 0.67436233 0.68654994\n",
            " 0.67855182 0.65874695 0.6675068  0.66560249 0.66636425 0.67055366\n",
            " 0.68159872 0.67588582 0.6671259  0.65531919 0.6244693  0.63970381\n",
            " 0.64846366 0.63703777 0.63665691 0.63475264 0.63437177 0.62412578\n",
            " 0.61764812 0.60995275 0.60232496 0.59516704 0.58864635 0.58281344\n",
            " 0.57764357 0.57307124 0.56901985 0.56542218 0.56222904 0.55941129\n",
            " 0.55695629 0.55486226 0.55313081 0.55176234 0.55075246 0.5500893\n",
            " 0.54975462 0.54972357 0.54996735 0.55045426 0.55115193 0.55202824\n",
            " 0.5530526  0.55419612 0.55543268 0.55673772 0.55808938 0.55946714\n",
            " 0.56085259 0.56222892 0.56358087 0.56489432 0.5661568  0.56735742\n",
            " 0.56848621 0.56953561 0.57049865 0.57137012 0.57214653 0.57282531\n",
            " 0.57340562 0.57388741 0.57427233 0.57456261 0.57476157 0.57487345\n",
            " 0.57490313 0.57485628 0.5747385  0.57455671]\n",
            "53 day output [[0.5743176]]\n",
            "54 day input [0.6187564  0.61799463 0.6111391  0.62066067 0.64541676 0.6248502\n",
            " 0.61951805 0.614186   0.61989895 0.6218033  0.62561185 0.62942052\n",
            " 0.66903025 0.66522162 0.65417656 0.65455743 0.66560249 0.67245805\n",
            " 0.66331735 0.6644599  0.6675068  0.68007523 0.68807339 0.69340547\n",
            " 0.68502653 0.70140363 0.70445053 0.67436233 0.68654994 0.67855182\n",
            " 0.65874695 0.6675068  0.66560249 0.66636425 0.67055366 0.68159872\n",
            " 0.67588582 0.6671259  0.65531919 0.6244693  0.63970381 0.64846366\n",
            " 0.63703777 0.63665691 0.63475264 0.63437177 0.62412578 0.61764812\n",
            " 0.60995275 0.60232496 0.59516704 0.58864635 0.58281344 0.57764357\n",
            " 0.57307124 0.56901985 0.56542218 0.56222904 0.55941129 0.55695629\n",
            " 0.55486226 0.55313081 0.55176234 0.55075246 0.5500893  0.54975462\n",
            " 0.54972357 0.54996735 0.55045426 0.55115193 0.55202824 0.5530526\n",
            " 0.55419612 0.55543268 0.55673772 0.55808938 0.55946714 0.56085259\n",
            " 0.56222892 0.56358087 0.56489432 0.5661568  0.56735742 0.56848621\n",
            " 0.56953561 0.57049865 0.57137012 0.57214653 0.57282531 0.57340562\n",
            " 0.57388741 0.57427233 0.57456261 0.57476157 0.57487345 0.57490313\n",
            " 0.57485628 0.5747385  0.57455671 0.57431757]\n",
            "54 day output [[0.57402813]]\n",
            "55 day input [0.61799463 0.6111391  0.62066067 0.64541676 0.6248502  0.61951805\n",
            " 0.614186   0.61989895 0.6218033  0.62561185 0.62942052 0.66903025\n",
            " 0.66522162 0.65417656 0.65455743 0.66560249 0.67245805 0.66331735\n",
            " 0.6644599  0.6675068  0.68007523 0.68807339 0.69340547 0.68502653\n",
            " 0.70140363 0.70445053 0.67436233 0.68654994 0.67855182 0.65874695\n",
            " 0.6675068  0.66560249 0.66636425 0.67055366 0.68159872 0.67588582\n",
            " 0.6671259  0.65531919 0.6244693  0.63970381 0.64846366 0.63703777\n",
            " 0.63665691 0.63475264 0.63437177 0.62412578 0.61764812 0.60995275\n",
            " 0.60232496 0.59516704 0.58864635 0.58281344 0.57764357 0.57307124\n",
            " 0.56901985 0.56542218 0.56222904 0.55941129 0.55695629 0.55486226\n",
            " 0.55313081 0.55176234 0.55075246 0.5500893  0.54975462 0.54972357\n",
            " 0.54996735 0.55045426 0.55115193 0.55202824 0.5530526  0.55419612\n",
            " 0.55543268 0.55673772 0.55808938 0.55946714 0.56085259 0.56222892\n",
            " 0.56358087 0.56489432 0.5661568  0.56735742 0.56848621 0.56953561\n",
            " 0.57049865 0.57137012 0.57214653 0.57282531 0.57340562 0.57388741\n",
            " 0.57427233 0.57456261 0.57476157 0.57487345 0.57490313 0.57485628\n",
            " 0.5747385  0.57455671 0.57431757 0.57402813]\n",
            "55 day output [[0.5736953]]\n",
            "56 day input [0.6111391  0.62066067 0.64541676 0.6248502  0.61951805 0.614186\n",
            " 0.61989895 0.6218033  0.62561185 0.62942052 0.66903025 0.66522162\n",
            " 0.65417656 0.65455743 0.66560249 0.67245805 0.66331735 0.6644599\n",
            " 0.6675068  0.68007523 0.68807339 0.69340547 0.68502653 0.70140363\n",
            " 0.70445053 0.67436233 0.68654994 0.67855182 0.65874695 0.6675068\n",
            " 0.66560249 0.66636425 0.67055366 0.68159872 0.67588582 0.6671259\n",
            " 0.65531919 0.6244693  0.63970381 0.64846366 0.63703777 0.63665691\n",
            " 0.63475264 0.63437177 0.62412578 0.61764812 0.60995275 0.60232496\n",
            " 0.59516704 0.58864635 0.58281344 0.57764357 0.57307124 0.56901985\n",
            " 0.56542218 0.56222904 0.55941129 0.55695629 0.55486226 0.55313081\n",
            " 0.55176234 0.55075246 0.5500893  0.54975462 0.54972357 0.54996735\n",
            " 0.55045426 0.55115193 0.55202824 0.5530526  0.55419612 0.55543268\n",
            " 0.55673772 0.55808938 0.55946714 0.56085259 0.56222892 0.56358087\n",
            " 0.56489432 0.5661568  0.56735742 0.56848621 0.56953561 0.57049865\n",
            " 0.57137012 0.57214653 0.57282531 0.57340562 0.57388741 0.57427233\n",
            " 0.57456261 0.57476157 0.57487345 0.57490313 0.57485628 0.5747385\n",
            " 0.57455671 0.57431757 0.57402813 0.5736953 ]\n",
            "56 day output [[0.5733263]]\n",
            "57 day input [0.62066067 0.64541676 0.6248502  0.61951805 0.614186   0.61989895\n",
            " 0.6218033  0.62561185 0.62942052 0.66903025 0.66522162 0.65417656\n",
            " 0.65455743 0.66560249 0.67245805 0.66331735 0.6644599  0.6675068\n",
            " 0.68007523 0.68807339 0.69340547 0.68502653 0.70140363 0.70445053\n",
            " 0.67436233 0.68654994 0.67855182 0.65874695 0.6675068  0.66560249\n",
            " 0.66636425 0.67055366 0.68159872 0.67588582 0.6671259  0.65531919\n",
            " 0.6244693  0.63970381 0.64846366 0.63703777 0.63665691 0.63475264\n",
            " 0.63437177 0.62412578 0.61764812 0.60995275 0.60232496 0.59516704\n",
            " 0.58864635 0.58281344 0.57764357 0.57307124 0.56901985 0.56542218\n",
            " 0.56222904 0.55941129 0.55695629 0.55486226 0.55313081 0.55176234\n",
            " 0.55075246 0.5500893  0.54975462 0.54972357 0.54996735 0.55045426\n",
            " 0.55115193 0.55202824 0.5530526  0.55419612 0.55543268 0.55673772\n",
            " 0.55808938 0.55946714 0.56085259 0.56222892 0.56358087 0.56489432\n",
            " 0.5661568  0.56735742 0.56848621 0.56953561 0.57049865 0.57137012\n",
            " 0.57214653 0.57282531 0.57340562 0.57388741 0.57427233 0.57456261\n",
            " 0.57476157 0.57487345 0.57490313 0.57485628 0.5747385  0.57455671\n",
            " 0.57431757 0.57402813 0.5736953  0.57332629]\n",
            "57 day output [[0.57292795]]\n",
            "58 day input [0.64541676 0.6248502  0.61951805 0.614186   0.61989895 0.6218033\n",
            " 0.62561185 0.62942052 0.66903025 0.66522162 0.65417656 0.65455743\n",
            " 0.66560249 0.67245805 0.66331735 0.6644599  0.6675068  0.68007523\n",
            " 0.68807339 0.69340547 0.68502653 0.70140363 0.70445053 0.67436233\n",
            " 0.68654994 0.67855182 0.65874695 0.6675068  0.66560249 0.66636425\n",
            " 0.67055366 0.68159872 0.67588582 0.6671259  0.65531919 0.6244693\n",
            " 0.63970381 0.64846366 0.63703777 0.63665691 0.63475264 0.63437177\n",
            " 0.62412578 0.61764812 0.60995275 0.60232496 0.59516704 0.58864635\n",
            " 0.58281344 0.57764357 0.57307124 0.56901985 0.56542218 0.56222904\n",
            " 0.55941129 0.55695629 0.55486226 0.55313081 0.55176234 0.55075246\n",
            " 0.5500893  0.54975462 0.54972357 0.54996735 0.55045426 0.55115193\n",
            " 0.55202824 0.5530526  0.55419612 0.55543268 0.55673772 0.55808938\n",
            " 0.55946714 0.56085259 0.56222892 0.56358087 0.56489432 0.5661568\n",
            " 0.56735742 0.56848621 0.56953561 0.57049865 0.57137012 0.57214653\n",
            " 0.57282531 0.57340562 0.57388741 0.57427233 0.57456261 0.57476157\n",
            " 0.57487345 0.57490313 0.57485628 0.5747385  0.57455671 0.57431757\n",
            " 0.57402813 0.5736953  0.57332629 0.57292795]\n",
            "58 day output [[0.5725074]]\n",
            "59 day input [0.6248502  0.61951805 0.614186   0.61989895 0.6218033  0.62561185\n",
            " 0.62942052 0.66903025 0.66522162 0.65417656 0.65455743 0.66560249\n",
            " 0.67245805 0.66331735 0.6644599  0.6675068  0.68007523 0.68807339\n",
            " 0.69340547 0.68502653 0.70140363 0.70445053 0.67436233 0.68654994\n",
            " 0.67855182 0.65874695 0.6675068  0.66560249 0.66636425 0.67055366\n",
            " 0.68159872 0.67588582 0.6671259  0.65531919 0.6244693  0.63970381\n",
            " 0.64846366 0.63703777 0.63665691 0.63475264 0.63437177 0.62412578\n",
            " 0.61764812 0.60995275 0.60232496 0.59516704 0.58864635 0.58281344\n",
            " 0.57764357 0.57307124 0.56901985 0.56542218 0.56222904 0.55941129\n",
            " 0.55695629 0.55486226 0.55313081 0.55176234 0.55075246 0.5500893\n",
            " 0.54975462 0.54972357 0.54996735 0.55045426 0.55115193 0.55202824\n",
            " 0.5530526  0.55419612 0.55543268 0.55673772 0.55808938 0.55946714\n",
            " 0.56085259 0.56222892 0.56358087 0.56489432 0.5661568  0.56735742\n",
            " 0.56848621 0.56953561 0.57049865 0.57137012 0.57214653 0.57282531\n",
            " 0.57340562 0.57388741 0.57427233 0.57456261 0.57476157 0.57487345\n",
            " 0.57490313 0.57485628 0.5747385  0.57455671 0.57431757 0.57402813\n",
            " 0.5736953  0.57332629 0.57292795 0.57250738]\n",
            "59 day output [[0.5720712]]\n",
            "[[0.6241257786750793], [0.6176481246948242], [0.6099527478218079], [0.6023249626159668], [0.5951670408248901], [0.5886463522911072], [0.5828134417533875], [0.5776435732841492], [0.5730712413787842], [0.5690198540687561], [0.5654221773147583], [0.5622290372848511], [0.5594112873077393], [0.5569562911987305], [0.5548622608184814], [0.5531308054924011], [0.5517623424530029], [0.5507524609565735], [0.5500892996788025], [0.5497546195983887], [0.5497235655784607], [0.549967348575592], [0.5504542589187622], [0.5511519312858582], [0.552028238773346], [0.5530526041984558], [0.5541961193084717], [0.5554326772689819], [0.5567377209663391], [0.5580893754959106], [0.5594671368598938], [0.560852587223053], [0.5622289180755615], [0.5635808706283569], [0.5648943185806274], [0.566156804561615], [0.5673574209213257], [0.568486213684082], [0.5695356130599976], [0.5704986453056335], [0.5713701248168945], [0.5721465349197388], [0.5728253126144409], [0.5734056234359741], [0.5738874077796936], [0.5742723345756531], [0.5745626091957092], [0.5747615694999695], [0.5748734474182129], [0.574903130531311], [0.5748562812805176], [0.5747385025024414], [0.5745567083358765], [0.5743175745010376], [0.5740281343460083], [0.5736953020095825], [0.5733262896537781], [0.5729279518127441], [0.572507381439209], [0.5720711946487427]]\n"
          ]
        }
      ]
    },
    {
      "cell_type": "code",
      "source": [
        "len(Scales_dataWBC2)"
      ],
      "metadata": {
        "colab": {
          "base_uri": "https://localhost:8080/",
          "height": 0
        },
        "id": "KOoJlVja-lyG",
        "outputId": "e5396de8-2828-4374-91b9-a77004d17dd9"
      },
      "execution_count": 95,
      "outputs": [
        {
          "output_type": "execute_result",
          "data": {
            "text/plain": [
              "3542"
            ]
          },
          "metadata": {},
          "execution_count": 95
        }
      ]
    },
    {
      "cell_type": "code",
      "source": [
        "day_new=np.arange(1,101)\n",
        "day_pred=np.arange(101, 161)\n",
        "                   \n",
        "import matplotlib.pyplot as plt"
      ],
      "metadata": {
        "id": "xTLM9HTkCwgB"
      },
      "execution_count": 119,
      "outputs": []
    },
    {
      "cell_type": "code",
      "source": [
        "Scaler.inverse_transform(lst_output)"
      ],
      "metadata": {
        "colab": {
          "base_uri": "https://localhost:8080/",
          "height": 0
        },
        "id": "qhYNUoKNUwtt",
        "outputId": "ec7764e9-9cfb-4389-cfe3-057049b18ed0"
      },
      "execution_count": 123,
      "outputs": [
        {
          "output_type": "execute_result",
          "data": {
            "text/plain": [
              "array([[17.09098042],\n",
              "       [16.92090202],\n",
              "       [16.71885087],\n",
              "       [16.51857442],\n",
              "       [16.33063479],\n",
              "       [16.15942646],\n",
              "       [16.00627655],\n",
              "       [15.87053559],\n",
              "       [15.75048365],\n",
              "       [15.64410973],\n",
              "       [15.54964851],\n",
              "       [15.46580887],\n",
              "       [15.39182554],\n",
              "       [15.32736674],\n",
              "       [15.27238551],\n",
              "       [15.22692412],\n",
              "       [15.19099352],\n",
              "       [15.1644779 ],\n",
              "       [15.14706582],\n",
              "       [15.1382784 ],\n",
              "       [15.13746304],\n",
              "       [15.14386385],\n",
              "       [15.15664825],\n",
              "       [15.17496646],\n",
              "       [15.19797494],\n",
              "       [15.22487085],\n",
              "       [15.25489518],\n",
              "       [15.28736246],\n",
              "       [15.32162792],\n",
              "       [15.35711719],\n",
              "       [15.39329193],\n",
              "       [15.42966856],\n",
              "       [15.46580574],\n",
              "       [15.50130284],\n",
              "       [15.53578896],\n",
              "       [15.56893701],\n",
              "       [15.6004606 ],\n",
              "       [15.63009837],\n",
              "       [15.65765159],\n",
              "       [15.68293713],\n",
              "       [15.70581884],\n",
              "       [15.7262044 ],\n",
              "       [15.74402651],\n",
              "       [15.75926325],\n",
              "       [15.77191306],\n",
              "       [15.78201977],\n",
              "       [15.78964127],\n",
              "       [15.7948652 ],\n",
              "       [15.79780269],\n",
              "       [15.79858205],\n",
              "       [15.79735197],\n",
              "       [15.79425955],\n",
              "       [15.78948633],\n",
              "       [15.78320759],\n",
              "       [15.775608  ],\n",
              "       [15.7668691 ],\n",
              "       [15.75718025],\n",
              "       [15.74672142],\n",
              "       [15.73567885],\n",
              "       [15.72422626]])"
            ]
          },
          "metadata": {},
          "execution_count": 123
        }
      ]
    },
    {
      "cell_type": "code",
      "source": [
        "plt.plot(day_new,Scaler.inverse_transform(Scales_dataWBC2[3442:]))\n",
        "plt.plot(day_pred,Scaler.inverse_transform(lst_output))\n",
        "plt.savefig('60daypredict.png')"
      ],
      "metadata": {
        "colab": {
          "base_uri": "https://localhost:8080/",
          "height": 265
        },
        "id": "5q76LmHiKSsK",
        "outputId": "5010a7fd-f112-4524-d6ef-f379c8c0b471"
      },
      "execution_count": 107,
      "outputs": [
        {
          "output_type": "display_data",
          "data": {
            "text/plain": [
              "<Figure size 432x288 with 1 Axes>"
            ],
            "image/png": "[encoded data removed]"
          },
          "metadata": {}
        }
      ]
    },
    {
      "cell_type": "code",
      "source": [
        "Scaled_new = (Scales_dataWBC2.tolist())\n"
      ],
      "metadata": {
        "id": "fVhaeQhek8dE"
      },
      "execution_count": 156,
      "outputs": []
    },
    {
      "cell_type": "code",
      "source": [
        "len(Scales_dataWBC2.tolist())"
      ],
      "metadata": {
        "colab": {
          "base_uri": "https://localhost:8080/",
          "height": 0
        },
        "id": "keYO070alb5m",
        "outputId": "91df7db7-1a67-4dcb-9e54-b49ae663ab27"
      },
      "execution_count": 126,
      "outputs": [
        {
          "output_type": "execute_result",
          "data": {
            "text/plain": [
              "3542"
            ]
          },
          "metadata": {},
          "execution_count": 126
        }
      ]
    },
    {
      "cell_type": "code",
      "source": [
        "plt.plot=Scaler.inverse_transform(lst_output)"
      ],
      "metadata": {
        "id": "FtZL8lfzSTZ3"
      },
      "execution_count": 154,
      "outputs": []
    },
    {
      "cell_type": "code",
      "source": [
        "plt.plot(Scales_dataWBC2)"
      ],
      "metadata": {
        "colab": {
          "base_uri": "https://localhost:8080/",
          "height": 283
        },
        "id": "zoY-qcbgN250",
        "outputId": "a543935f-aa59-40c3-902f-fcd011a56fb7"
      },
      "execution_count": 102,
      "outputs": [
        {
          "output_type": "execute_result",
          "data": {
            "text/plain": [
              "[<matplotlib.lines.Line2D at 0x7fd967fd7ee0>]"
            ]
          },
          "metadata": {},
          "execution_count": 102
        },
        {
          "output_type": "display_data",
          "data": {
            "text/plain": [
              "<Figure size 432x288 with 1 Axes>"
            ],
            "image/png": "[encoded data removed]"
          },
          "metadata": {}
        }
      ]
    }
  ]
}